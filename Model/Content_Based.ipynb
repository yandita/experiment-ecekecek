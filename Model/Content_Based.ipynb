{
 "cells": [
  {
   "cell_type": "markdown",
   "metadata": {
    "id": "Utkf9K3dX5mv"
   },
   "source": [
    "# **Import Library**"
   ]
  },
  {
   "cell_type": "code",
   "execution_count": 1,
   "metadata": {
    "id": "T790X6HJT86t"
   },
   "outputs": [],
   "source": [
    "import keras\n",
    "import joblib\n",
    "import numpy as np\n",
    "import pandas as pd\n",
    "import seaborn as sns\n",
    "import tensorflow as tf\n",
    "import matplotlib.pyplot as plt\n",
    "from keras.regularizers import l2\n",
    "from keras.callbacks import EarlyStopping\n",
    "from sklearn.preprocessing import MinMaxScaler\n",
    "from sklearn.preprocessing import StandardScaler\n",
    "from sklearn.model_selection import train_test_split\n",
    "from keras.callbacks import LearningRateScheduler"
   ]
  },
  {
   "cell_type": "code",
   "execution_count": 2,
   "metadata": {
    "colab": {
     "base_uri": "https://localhost:8080/"
    },
    "id": "w2WHGeGs6hwe",
    "outputId": "29c13abc-eef7-40bb-e754-397dc20ef7f8"
   },
   "outputs": [
    {
     "name": "stdout",
     "output_type": "stream",
     "text": [
      "2.18.0\n",
      "3.7.0\n"
     ]
    }
   ],
   "source": [
    "print(tf.__version__)\n",
    "print(keras.__version__)"
   ]
  },
  {
   "cell_type": "markdown",
   "metadata": {
    "id": "UfPbQi5pBopC"
   },
   "source": [
    "# **Import Dataset**"
   ]
  },
  {
   "cell_type": "code",
   "execution_count": 3,
   "metadata": {
    "id": "u59fExEREkXD"
   },
   "outputs": [],
   "source": [
    "# Load all dataset to Pandas DataFrame\n",
    "user_df = pd.read_csv(\"../Dataset/old_users_data_with_links.csv\", sep=';')\n",
    "tourism_df = pd.read_csv(\"../Dataset/new_tourism_with_id_links_3.csv\")\n",
    "rating_df = pd.read_csv(\"../Dataset/new_tourism_rating_comments.csv\")"
   ]
  },
  {
   "cell_type": "code",
   "execution_count": 4,
   "metadata": {
    "colab": {
     "base_uri": "https://localhost:8080/",
     "height": 967
    },
    "id": "AlHShlJUE5Kv",
    "outputId": "7b914d8e-9874-4c5b-9e07-f60f131f219e"
   },
   "outputs": [
    {
     "name": "stdout",
     "output_type": "stream",
     "text": [
      "old_users_data.csv\n"
     ]
    },
    {
     "data": {
      "text/html": [
       "<div>\n",
       "<style scoped>\n",
       "    .dataframe tbody tr th:only-of-type {\n",
       "        vertical-align: middle;\n",
       "    }\n",
       "\n",
       "    .dataframe tbody tr th {\n",
       "        vertical-align: top;\n",
       "    }\n",
       "\n",
       "    .dataframe thead th {\n",
       "        text-align: right;\n",
       "    }\n",
       "</style>\n",
       "<table border=\"1\" class=\"dataframe\">\n",
       "  <thead>\n",
       "    <tr style=\"text-align: right;\">\n",
       "      <th></th>\n",
       "      <th>User_Id</th>\n",
       "      <th>Full_Name</th>\n",
       "      <th>Age</th>\n",
       "      <th>Email</th>\n",
       "      <th>Password</th>\n",
       "      <th>Img_Path</th>\n",
       "    </tr>\n",
       "  </thead>\n",
       "  <tbody>\n",
       "    <tr>\n",
       "      <th>157</th>\n",
       "      <td>158</td>\n",
       "      <td>Lorie Dressel</td>\n",
       "      <td>23</td>\n",
       "      <td>ldressel4d@opera.com</td>\n",
       "      <td>hW0\\ec#n0F4Y(i?</td>\n",
       "      <td>User\\ProfilePicture (158).jpg</td>\n",
       "    </tr>\n",
       "    <tr>\n",
       "      <th>162</th>\n",
       "      <td>163</td>\n",
       "      <td>Ase Izhakov</td>\n",
       "      <td>40</td>\n",
       "      <td>aizhakov4i@dailymail.co.uk</td>\n",
       "      <td>aP0\"'Kc|z</td>\n",
       "      <td>User\\ProfilePicture (163).jpg</td>\n",
       "    </tr>\n",
       "    <tr>\n",
       "      <th>286</th>\n",
       "      <td>287</td>\n",
       "      <td>Babb Horwell</td>\n",
       "      <td>27</td>\n",
       "      <td>bhorwell7y@uiuc.edu</td>\n",
       "      <td>tK2&gt;ba&gt;yZ1PI7q}</td>\n",
       "      <td>User\\ProfilePicture (181).jpg</td>\n",
       "    </tr>\n",
       "  </tbody>\n",
       "</table>\n",
       "</div>"
      ],
      "text/plain": [
       "     User_Id      Full_Name  Age                       Email         Password  \\\n",
       "157      158  Lorie Dressel   23        ldressel4d@opera.com  hW0\\ec#n0F4Y(i?   \n",
       "162      163    Ase Izhakov   40  aizhakov4i@dailymail.co.uk        aP0\"'Kc|z   \n",
       "286      287   Babb Horwell   27         bhorwell7y@uiuc.edu  tK2>ba>yZ1PI7q}   \n",
       "\n",
       "                          Img_Path  \n",
       "157  User\\ProfilePicture (158).jpg  \n",
       "162  User\\ProfilePicture (163).jpg  \n",
       "286  User\\ProfilePicture (181).jpg  "
      ]
     },
     "metadata": {},
     "output_type": "display_data"
    },
    {
     "name": "stdout",
     "output_type": "stream",
     "text": [
      "\n",
      "\n",
      "new_tourism_rating_comments.csv\n"
     ]
    },
    {
     "data": {
      "text/html": [
       "<div>\n",
       "<style scoped>\n",
       "    .dataframe tbody tr th:only-of-type {\n",
       "        vertical-align: middle;\n",
       "    }\n",
       "\n",
       "    .dataframe tbody tr th {\n",
       "        vertical-align: top;\n",
       "    }\n",
       "\n",
       "    .dataframe thead th {\n",
       "        text-align: right;\n",
       "    }\n",
       "</style>\n",
       "<table border=\"1\" class=\"dataframe\">\n",
       "  <thead>\n",
       "    <tr style=\"text-align: right;\">\n",
       "      <th></th>\n",
       "      <th>User_Id</th>\n",
       "      <th>Place_Id</th>\n",
       "      <th>Place_Ratings</th>\n",
       "      <th>Comment</th>\n",
       "    </tr>\n",
       "  </thead>\n",
       "  <tbody>\n",
       "    <tr>\n",
       "      <th>6568</th>\n",
       "      <td>205</td>\n",
       "      <td>298</td>\n",
       "      <td>2</td>\n",
       "      <td>Sebenarnya bisa jadi tempat bagus, tapi Gunung...</td>\n",
       "    </tr>\n",
       "    <tr>\n",
       "      <th>9385</th>\n",
       "      <td>294</td>\n",
       "      <td>43</td>\n",
       "      <td>1</td>\n",
       "      <td>Udah gak bakal balik lagi ke The Escape Hunt, ...</td>\n",
       "    </tr>\n",
       "    <tr>\n",
       "      <th>9512</th>\n",
       "      <td>298</td>\n",
       "      <td>159</td>\n",
       "      <td>1</td>\n",
       "      <td>Pengalaman terburuk liburan kali ini, terutama...</td>\n",
       "    </tr>\n",
       "  </tbody>\n",
       "</table>\n",
       "</div>"
      ],
      "text/plain": [
       "      User_Id  Place_Id  Place_Ratings  \\\n",
       "6568      205       298              2   \n",
       "9385      294        43              1   \n",
       "9512      298       159              1   \n",
       "\n",
       "                                                Comment  \n",
       "6568  Sebenarnya bisa jadi tempat bagus, tapi Gunung...  \n",
       "9385  Udah gak bakal balik lagi ke The Escape Hunt, ...  \n",
       "9512  Pengalaman terburuk liburan kali ini, terutama...  "
      ]
     },
     "metadata": {},
     "output_type": "display_data"
    },
    {
     "name": "stdout",
     "output_type": "stream",
     "text": [
      "\n",
      "\n",
      "new_tourism_with_id_links.csv\n"
     ]
    },
    {
     "data": {
      "text/html": [
       "<div>\n",
       "<style scoped>\n",
       "    .dataframe tbody tr th:only-of-type {\n",
       "        vertical-align: middle;\n",
       "    }\n",
       "\n",
       "    .dataframe tbody tr th {\n",
       "        vertical-align: top;\n",
       "    }\n",
       "\n",
       "    .dataframe thead th {\n",
       "        text-align: right;\n",
       "    }\n",
       "</style>\n",
       "<table border=\"1\" class=\"dataframe\">\n",
       "  <thead>\n",
       "    <tr style=\"text-align: right;\">\n",
       "      <th></th>\n",
       "      <th>Place_Id</th>\n",
       "      <th>Place_Name</th>\n",
       "      <th>Category</th>\n",
       "      <th>Description</th>\n",
       "      <th>City</th>\n",
       "      <th>Price</th>\n",
       "      <th>Rating</th>\n",
       "      <th>Time_Minutes</th>\n",
       "      <th>Coordinate</th>\n",
       "      <th>Lat</th>\n",
       "      <th>Long</th>\n",
       "      <th>Img_Path_0</th>\n",
       "      <th>Img_Path_1</th>\n",
       "      <th>Img_Path_2</th>\n",
       "    </tr>\n",
       "  </thead>\n",
       "  <tbody>\n",
       "    <tr>\n",
       "      <th>3</th>\n",
       "      <td>4</td>\n",
       "      <td>Taman Mini Indonesia Indah (TMII)</td>\n",
       "      <td>Taman Hiburan</td>\n",
       "      <td>Taman Mini Indonesia Indah merupakan suatu kaw...</td>\n",
       "      <td>Jakarta</td>\n",
       "      <td>10000</td>\n",
       "      <td>4,5</td>\n",
       "      <td>NaN</td>\n",
       "      <td>{'lat': -6.302445899999999, 'lng': 106.8951559}</td>\n",
       "      <td>-6.302446</td>\n",
       "      <td>106.895156</td>\n",
       "      <td>images_output\\Taman Mini Indonesia Indah (TMII...</td>\n",
       "      <td>images_output\\Taman Mini Indonesia Indah (TMII...</td>\n",
       "      <td>images_output\\Taman Mini Indonesia Indah (TMII...</td>\n",
       "    </tr>\n",
       "    <tr>\n",
       "      <th>1</th>\n",
       "      <td>2</td>\n",
       "      <td>Kota Tua</td>\n",
       "      <td>Budaya</td>\n",
       "      <td>Kota tua di Jakarta, yang juga bernama Kota Tu...</td>\n",
       "      <td>Jakarta</td>\n",
       "      <td>0</td>\n",
       "      <td>4,6</td>\n",
       "      <td>90.0</td>\n",
       "      <td>{'lat': -6.137644799999999, 'lng': 106.8171245}</td>\n",
       "      <td>-6.137645</td>\n",
       "      <td>106.817125</td>\n",
       "      <td>images_output\\Kota Tua\\Kota Tua_0.jpg</td>\n",
       "      <td>images_output\\Kota Tua\\Kota Tua_1.jpg</td>\n",
       "      <td>NaN</td>\n",
       "    </tr>\n",
       "    <tr>\n",
       "      <th>96</th>\n",
       "      <td>97</td>\n",
       "      <td>Monumen Yogya Kembali</td>\n",
       "      <td>Budaya, Situs Sejarah</td>\n",
       "      <td>Museum Monumen Yogya Kembali (bahasa Jawa: ꦩꦺꦴ...</td>\n",
       "      <td>Yogyakarta</td>\n",
       "      <td>15000</td>\n",
       "      <td>4,5</td>\n",
       "      <td>30.0</td>\n",
       "      <td>{'lat': -7.7495904, 'lng': 110.3696068}</td>\n",
       "      <td>-7.749590</td>\n",
       "      <td>110.369607</td>\n",
       "      <td>images_output\\Monumen Yogya Kembali\\Monumen Yo...</td>\n",
       "      <td>images_output\\Monumen Yogya Kembali\\Monumen Yo...</td>\n",
       "      <td>NaN</td>\n",
       "    </tr>\n",
       "  </tbody>\n",
       "</table>\n",
       "</div>"
      ],
      "text/plain": [
       "    Place_Id                         Place_Name               Category  \\\n",
       "3          4  Taman Mini Indonesia Indah (TMII)          Taman Hiburan   \n",
       "1          2                           Kota Tua                 Budaya   \n",
       "96        97              Monumen Yogya Kembali  Budaya, Situs Sejarah   \n",
       "\n",
       "                                          Description        City  Price  \\\n",
       "3   Taman Mini Indonesia Indah merupakan suatu kaw...     Jakarta  10000   \n",
       "1   Kota tua di Jakarta, yang juga bernama Kota Tu...     Jakarta      0   \n",
       "96  Museum Monumen Yogya Kembali (bahasa Jawa: ꦩꦺꦴ...  Yogyakarta  15000   \n",
       "\n",
       "   Rating  Time_Minutes                                       Coordinate  \\\n",
       "3     4,5           NaN  {'lat': -6.302445899999999, 'lng': 106.8951559}   \n",
       "1     4,6          90.0  {'lat': -6.137644799999999, 'lng': 106.8171245}   \n",
       "96    4,5          30.0          {'lat': -7.7495904, 'lng': 110.3696068}   \n",
       "\n",
       "         Lat        Long                                         Img_Path_0  \\\n",
       "3  -6.302446  106.895156  images_output\\Taman Mini Indonesia Indah (TMII...   \n",
       "1  -6.137645  106.817125              images_output\\Kota Tua\\Kota Tua_0.jpg   \n",
       "96 -7.749590  110.369607  images_output\\Monumen Yogya Kembali\\Monumen Yo...   \n",
       "\n",
       "                                           Img_Path_1  \\\n",
       "3   images_output\\Taman Mini Indonesia Indah (TMII...   \n",
       "1               images_output\\Kota Tua\\Kota Tua_1.jpg   \n",
       "96  images_output\\Monumen Yogya Kembali\\Monumen Yo...   \n",
       "\n",
       "                                           Img_Path_2  \n",
       "3   images_output\\Taman Mini Indonesia Indah (TMII...  \n",
       "1                                                 NaN  \n",
       "96                                                NaN  "
      ]
     },
     "metadata": {},
     "output_type": "display_data"
    },
    {
     "data": {
      "text/plain": [
       "(None, None)"
      ]
     },
     "execution_count": 4,
     "metadata": {},
     "output_type": "execute_result"
    }
   ],
   "source": [
    "print(\"old_users_data.csv\"),               display(user_df.sample(3)),     print(\"\\n\")\n",
    "print(\"new_tourism_rating_comments.csv\"),  display(rating_df.sample(3)),   print(\"\\n\")\n",
    "print(\"new_tourism_with_id_links.csv\"),    display(tourism_df.sample(3))"
   ]
  },
  {
   "cell_type": "markdown",
   "metadata": {
    "id": "S-c8z1oeZ-WM"
   },
   "source": [
    "# **Data Assessment**\n"
   ]
  },
  {
   "cell_type": "markdown",
   "metadata": {
    "id": "kxtQI4DO7Bp2"
   },
   "source": [
    "## **`user_df`**"
   ]
  },
  {
   "cell_type": "code",
   "execution_count": 5,
   "metadata": {
    "colab": {
     "base_uri": "https://localhost:8080/",
     "height": 206
    },
    "id": "Q80r4MXX7548",
    "outputId": "51e70752-4892-4f52-e808-f9eb4e724c6d"
   },
   "outputs": [
    {
     "data": {
      "text/html": [
       "<div>\n",
       "<style scoped>\n",
       "    .dataframe tbody tr th:only-of-type {\n",
       "        vertical-align: middle;\n",
       "    }\n",
       "\n",
       "    .dataframe tbody tr th {\n",
       "        vertical-align: top;\n",
       "    }\n",
       "\n",
       "    .dataframe thead th {\n",
       "        text-align: right;\n",
       "    }\n",
       "</style>\n",
       "<table border=\"1\" class=\"dataframe\">\n",
       "  <thead>\n",
       "    <tr style=\"text-align: right;\">\n",
       "      <th></th>\n",
       "      <th>User_Id</th>\n",
       "      <th>Full_Name</th>\n",
       "      <th>Age</th>\n",
       "      <th>Email</th>\n",
       "      <th>Password</th>\n",
       "      <th>Img_Path</th>\n",
       "    </tr>\n",
       "  </thead>\n",
       "  <tbody>\n",
       "    <tr>\n",
       "      <th>194</th>\n",
       "      <td>195</td>\n",
       "      <td>Redford Lobe</td>\n",
       "      <td>29</td>\n",
       "      <td>rlobe5e@livejournal.com</td>\n",
       "      <td>oA6/@5&gt;wI+</td>\n",
       "      <td>User\\ProfilePicture (181).jpg</td>\n",
       "    </tr>\n",
       "    <tr>\n",
       "      <th>260</th>\n",
       "      <td>261</td>\n",
       "      <td>Theadora Swinbourne</td>\n",
       "      <td>38</td>\n",
       "      <td>tswinbourne78@bizjournals.com</td>\n",
       "      <td>pH4&lt;ks)4$zln</td>\n",
       "      <td>User\\ProfilePicture (181).jpg</td>\n",
       "    </tr>\n",
       "    <tr>\n",
       "      <th>164</th>\n",
       "      <td>165</td>\n",
       "      <td>Harwilll Edensor</td>\n",
       "      <td>23</td>\n",
       "      <td>hedensor4k@bluehost.com</td>\n",
       "      <td>qY9,YUxJW</td>\n",
       "      <td>User\\ProfilePicture (165).jpg</td>\n",
       "    </tr>\n",
       "    <tr>\n",
       "      <th>152</th>\n",
       "      <td>153</td>\n",
       "      <td>Staci Champley</td>\n",
       "      <td>39</td>\n",
       "      <td>schampley48@taobao.com</td>\n",
       "      <td>fY2\\o10@\\?KIa</td>\n",
       "      <td>User\\ProfilePicture (153).jpg</td>\n",
       "    </tr>\n",
       "    <tr>\n",
       "      <th>120</th>\n",
       "      <td>121</td>\n",
       "      <td>Modestine Batey</td>\n",
       "      <td>35</td>\n",
       "      <td>mbatey3c@dedecms.com</td>\n",
       "      <td>tV7|}t6#b</td>\n",
       "      <td>User\\ProfilePicture (121).jpg</td>\n",
       "    </tr>\n",
       "  </tbody>\n",
       "</table>\n",
       "</div>"
      ],
      "text/plain": [
       "     User_Id            Full_Name  Age                          Email  \\\n",
       "194      195         Redford Lobe   29        rlobe5e@livejournal.com   \n",
       "260      261  Theadora Swinbourne   38  tswinbourne78@bizjournals.com   \n",
       "164      165     Harwilll Edensor   23        hedensor4k@bluehost.com   \n",
       "152      153       Staci Champley   39         schampley48@taobao.com   \n",
       "120      121      Modestine Batey   35           mbatey3c@dedecms.com   \n",
       "\n",
       "          Password                       Img_Path  \n",
       "194     oA6/@5>wI+  User\\ProfilePicture (181).jpg  \n",
       "260   pH4<ks)4$zln  User\\ProfilePicture (181).jpg  \n",
       "164      qY9,YUxJW  User\\ProfilePicture (165).jpg  \n",
       "152  fY2\\o10@\\?KIa  User\\ProfilePicture (153).jpg  \n",
       "120      tV7|}t6#b  User\\ProfilePicture (121).jpg  "
      ]
     },
     "execution_count": 5,
     "metadata": {},
     "output_type": "execute_result"
    }
   ],
   "source": [
    "user_df.sample(5)"
   ]
  },
  {
   "cell_type": "code",
   "execution_count": 6,
   "metadata": {
    "colab": {
     "base_uri": "https://localhost:8080/",
     "height": 477
    },
    "id": "lwHaj9pD6-VM",
    "outputId": "c0bab12b-b68a-4491-f433-95ef428b2708"
   },
   "outputs": [
    {
     "name": "stdout",
     "output_type": "stream",
     "text": [
      "<class 'pandas.core.frame.DataFrame'>\n",
      "RangeIndex: 300 entries, 0 to 299\n",
      "Data columns (total 6 columns):\n",
      " #   Column     Non-Null Count  Dtype \n",
      "---  ------     --------------  ----- \n",
      " 0   User_Id    300 non-null    int64 \n",
      " 1   Full_Name  300 non-null    object\n",
      " 2   Age        300 non-null    int64 \n",
      " 3   Email      300 non-null    object\n",
      " 4   Password   300 non-null    object\n",
      " 5   Img_Path   300 non-null    object\n",
      "dtypes: int64(2), object(4)\n",
      "memory usage: 14.2+ KB\n"
     ]
    }
   ],
   "source": [
    "# View variable information in users data\n",
    "user_df.info()"
   ]
  },
  {
   "cell_type": "code",
   "execution_count": 7,
   "metadata": {},
   "outputs": [
    {
     "name": "stdout",
     "output_type": "stream",
     "text": [
      "Number of unique data:\n",
      "User_Id      300\n",
      "Full_Name    300\n",
      "Age           23\n",
      "Email        300\n",
      "Password     300\n",
      "Img_Path     181\n",
      "dtype: int64\n"
     ]
    }
   ],
   "source": [
    "# View the number of unique data in each users data variable\n",
    "print(\"Number of unique data:\")\n",
    "print(user_df.nunique())"
   ]
  },
  {
   "cell_type": "code",
   "execution_count": 8,
   "metadata": {},
   "outputs": [
    {
     "name": "stdout",
     "output_type": "stream",
     "text": [
      "Number of empty data:\n",
      "User_Id      0\n",
      "Full_Name    0\n",
      "Age          0\n",
      "Email        0\n",
      "Password     0\n",
      "Img_Path     0\n",
      "dtype: int64\n"
     ]
    }
   ],
   "source": [
    "# See the number of empty data in each users data variable\n",
    "print(\"Number of empty data:\")\n",
    "print(user_df.isna().sum())"
   ]
  },
  {
   "cell_type": "code",
   "execution_count": 9,
   "metadata": {},
   "outputs": [
    {
     "name": "stdout",
     "output_type": "stream",
     "text": [
      "Number of duplicate rows: 0\n"
     ]
    }
   ],
   "source": [
    "# View the number of duplicate data in each row of seller data\n",
    "print(\"Number of duplicate rows:\", end=\" \")\n",
    "print(user_df.duplicated().sum())"
   ]
  },
  {
   "cell_type": "code",
   "execution_count": 10,
   "metadata": {},
   "outputs": [
    {
     "data": {
      "text/html": [
       "<div>\n",
       "<style scoped>\n",
       "    .dataframe tbody tr th:only-of-type {\n",
       "        vertical-align: middle;\n",
       "    }\n",
       "\n",
       "    .dataframe tbody tr th {\n",
       "        vertical-align: top;\n",
       "    }\n",
       "\n",
       "    .dataframe thead th {\n",
       "        text-align: right;\n",
       "    }\n",
       "</style>\n",
       "<table border=\"1\" class=\"dataframe\">\n",
       "  <thead>\n",
       "    <tr style=\"text-align: right;\">\n",
       "      <th></th>\n",
       "      <th>User_Id</th>\n",
       "      <th>Age</th>\n",
       "    </tr>\n",
       "  </thead>\n",
       "  <tbody>\n",
       "    <tr>\n",
       "      <th>count</th>\n",
       "      <td>300.000000</td>\n",
       "      <td>300.000000</td>\n",
       "    </tr>\n",
       "    <tr>\n",
       "      <th>mean</th>\n",
       "      <td>150.500000</td>\n",
       "      <td>28.700000</td>\n",
       "    </tr>\n",
       "    <tr>\n",
       "      <th>std</th>\n",
       "      <td>86.746758</td>\n",
       "      <td>6.393716</td>\n",
       "    </tr>\n",
       "    <tr>\n",
       "      <th>min</th>\n",
       "      <td>1.000000</td>\n",
       "      <td>18.000000</td>\n",
       "    </tr>\n",
       "    <tr>\n",
       "      <th>25%</th>\n",
       "      <td>75.750000</td>\n",
       "      <td>24.000000</td>\n",
       "    </tr>\n",
       "    <tr>\n",
       "      <th>50%</th>\n",
       "      <td>150.500000</td>\n",
       "      <td>29.000000</td>\n",
       "    </tr>\n",
       "    <tr>\n",
       "      <th>75%</th>\n",
       "      <td>225.250000</td>\n",
       "      <td>34.000000</td>\n",
       "    </tr>\n",
       "    <tr>\n",
       "      <th>max</th>\n",
       "      <td>300.000000</td>\n",
       "      <td>40.000000</td>\n",
       "    </tr>\n",
       "  </tbody>\n",
       "</table>\n",
       "</div>"
      ],
      "text/plain": [
       "          User_Id         Age\n",
       "count  300.000000  300.000000\n",
       "mean   150.500000   28.700000\n",
       "std     86.746758    6.393716\n",
       "min      1.000000   18.000000\n",
       "25%     75.750000   24.000000\n",
       "50%    150.500000   29.000000\n",
       "75%    225.250000   34.000000\n",
       "max    300.000000   40.000000"
      ]
     },
     "execution_count": 10,
     "metadata": {},
     "output_type": "execute_result"
    }
   ],
   "source": [
    "# View descriptive parameter data from each numeric variable of seller data\n",
    "user_df.describe()"
   ]
  },
  {
   "cell_type": "markdown",
   "metadata": {
    "id": "R34y2sfY7jTm"
   },
   "source": [
    "## **`tourism_df`**"
   ]
  },
  {
   "cell_type": "code",
   "execution_count": 11,
   "metadata": {
    "colab": {
     "base_uri": "https://localhost:8080/",
     "height": 389
    },
    "id": "-tQQjbog7-Lh",
    "outputId": "35061129-20a2-45a2-e5b7-c69bcf6f355a"
   },
   "outputs": [
    {
     "data": {
      "text/html": [
       "<div>\n",
       "<style scoped>\n",
       "    .dataframe tbody tr th:only-of-type {\n",
       "        vertical-align: middle;\n",
       "    }\n",
       "\n",
       "    .dataframe tbody tr th {\n",
       "        vertical-align: top;\n",
       "    }\n",
       "\n",
       "    .dataframe thead th {\n",
       "        text-align: right;\n",
       "    }\n",
       "</style>\n",
       "<table border=\"1\" class=\"dataframe\">\n",
       "  <thead>\n",
       "    <tr style=\"text-align: right;\">\n",
       "      <th></th>\n",
       "      <th>Place_Id</th>\n",
       "      <th>Place_Name</th>\n",
       "      <th>Category</th>\n",
       "      <th>Description</th>\n",
       "      <th>City</th>\n",
       "      <th>Price</th>\n",
       "      <th>Rating</th>\n",
       "      <th>Time_Minutes</th>\n",
       "      <th>Coordinate</th>\n",
       "      <th>Lat</th>\n",
       "      <th>Long</th>\n",
       "      <th>Img_Path_0</th>\n",
       "      <th>Img_Path_1</th>\n",
       "      <th>Img_Path_2</th>\n",
       "    </tr>\n",
       "  </thead>\n",
       "  <tbody>\n",
       "    <tr>\n",
       "      <th>116</th>\n",
       "      <td>117</td>\n",
       "      <td>The World Landmarks - Merapi Park Yogyakarta</td>\n",
       "      <td>Taman Hiburan, Cagar Alam</td>\n",
       "      <td>Merapi Park merupakan salah satu tempat wisata...</td>\n",
       "      <td>Yogyakarta</td>\n",
       "      <td>22000</td>\n",
       "      <td>4,2</td>\n",
       "      <td>90.0</td>\n",
       "      <td>{'lat': -7.620904599999999, 'lng': 110.4216275}</td>\n",
       "      <td>-7.620905</td>\n",
       "      <td>110.421627</td>\n",
       "      <td>images_output\\The World Landmarks - Merapi Par...</td>\n",
       "      <td>NaN</td>\n",
       "      <td>NaN</td>\n",
       "    </tr>\n",
       "    <tr>\n",
       "      <th>412</th>\n",
       "      <td>413</td>\n",
       "      <td>Museum TNI AL Loka Jala Crana</td>\n",
       "      <td>Budaya</td>\n",
       "      <td>Museum Loka Jala Crana berdiri pada tanggal 19...</td>\n",
       "      <td>Surabaya</td>\n",
       "      <td>2000</td>\n",
       "      <td>4,5</td>\n",
       "      <td>NaN</td>\n",
       "      <td>{'lat': -7.227185, 'lng': 112.718997}</td>\n",
       "      <td>-7.227185</td>\n",
       "      <td>112.718997</td>\n",
       "      <td>images_output\\Museum TNI AL Loka Jala Crana\\Mu...</td>\n",
       "      <td>images_output\\Museum TNI AL Loka Jala Crana\\Mu...</td>\n",
       "      <td>NaN</td>\n",
       "    </tr>\n",
       "    <tr>\n",
       "      <th>29</th>\n",
       "      <td>30</td>\n",
       "      <td>Taman Menteng</td>\n",
       "      <td>Taman Hiburan</td>\n",
       "      <td>Taman Menteng adalah sebuah taman yang berloka...</td>\n",
       "      <td>Jakarta</td>\n",
       "      <td>0</td>\n",
       "      <td>4,5</td>\n",
       "      <td>NaN</td>\n",
       "      <td>{'lat': -6.1964087, 'lng': 106.8293106}</td>\n",
       "      <td>-6.196409</td>\n",
       "      <td>106.829311</td>\n",
       "      <td>images_output\\Taman Menteng\\Taman Menteng_0.jpg</td>\n",
       "      <td>images_output\\Taman Menteng\\Taman Menteng_1.png</td>\n",
       "      <td>images_output\\Taman Menteng\\Taman Menteng_2.png</td>\n",
       "    </tr>\n",
       "  </tbody>\n",
       "</table>\n",
       "</div>"
      ],
      "text/plain": [
       "     Place_Id                                    Place_Name  \\\n",
       "116       117  The World Landmarks - Merapi Park Yogyakarta   \n",
       "412       413                 Museum TNI AL Loka Jala Crana   \n",
       "29         30                                 Taman Menteng   \n",
       "\n",
       "                      Category  \\\n",
       "116  Taman Hiburan, Cagar Alam   \n",
       "412                     Budaya   \n",
       "29               Taman Hiburan   \n",
       "\n",
       "                                           Description        City  Price  \\\n",
       "116  Merapi Park merupakan salah satu tempat wisata...  Yogyakarta  22000   \n",
       "412  Museum Loka Jala Crana berdiri pada tanggal 19...    Surabaya   2000   \n",
       "29   Taman Menteng adalah sebuah taman yang berloka...     Jakarta      0   \n",
       "\n",
       "    Rating  Time_Minutes                                       Coordinate  \\\n",
       "116    4,2          90.0  {'lat': -7.620904599999999, 'lng': 110.4216275}   \n",
       "412    4,5           NaN            {'lat': -7.227185, 'lng': 112.718997}   \n",
       "29     4,5           NaN          {'lat': -6.1964087, 'lng': 106.8293106}   \n",
       "\n",
       "          Lat        Long                                         Img_Path_0  \\\n",
       "116 -7.620905  110.421627  images_output\\The World Landmarks - Merapi Par...   \n",
       "412 -7.227185  112.718997  images_output\\Museum TNI AL Loka Jala Crana\\Mu...   \n",
       "29  -6.196409  106.829311    images_output\\Taman Menteng\\Taman Menteng_0.jpg   \n",
       "\n",
       "                                            Img_Path_1  \\\n",
       "116                                                NaN   \n",
       "412  images_output\\Museum TNI AL Loka Jala Crana\\Mu...   \n",
       "29     images_output\\Taman Menteng\\Taman Menteng_1.png   \n",
       "\n",
       "                                          Img_Path_2  \n",
       "116                                              NaN  \n",
       "412                                              NaN  \n",
       "29   images_output\\Taman Menteng\\Taman Menteng_2.png  "
      ]
     },
     "execution_count": 11,
     "metadata": {},
     "output_type": "execute_result"
    }
   ],
   "source": [
    "tourism_df.sample(3)"
   ]
  },
  {
   "cell_type": "code",
   "execution_count": 12,
   "metadata": {
    "colab": {
     "base_uri": "https://localhost:8080/"
    },
    "id": "a-2wQHyx7avf",
    "outputId": "de6ebe92-d6a7-4d55-d862-beabe1e8a711"
   },
   "outputs": [
    {
     "name": "stdout",
     "output_type": "stream",
     "text": [
      "<class 'pandas.core.frame.DataFrame'>\n",
      "RangeIndex: 437 entries, 0 to 436\n",
      "Data columns (total 14 columns):\n",
      " #   Column        Non-Null Count  Dtype  \n",
      "---  ------        --------------  -----  \n",
      " 0   Place_Id      437 non-null    int64  \n",
      " 1   Place_Name    437 non-null    object \n",
      " 2   Category      437 non-null    object \n",
      " 3   Description   437 non-null    object \n",
      " 4   City          437 non-null    object \n",
      " 5   Price         437 non-null    int64  \n",
      " 6   Rating        437 non-null    object \n",
      " 7   Time_Minutes  205 non-null    float64\n",
      " 8   Coordinate    437 non-null    object \n",
      " 9   Lat           437 non-null    float64\n",
      " 10  Long          437 non-null    float64\n",
      " 11  Img_Path_0    437 non-null    object \n",
      " 12  Img_Path_1    358 non-null    object \n",
      " 13  Img_Path_2    166 non-null    object \n",
      "dtypes: float64(3), int64(2), object(9)\n",
      "memory usage: 47.9+ KB\n"
     ]
    }
   ],
   "source": [
    "# View variable information in tourism data\n",
    "tourism_df.info()"
   ]
  },
  {
   "cell_type": "code",
   "execution_count": 13,
   "metadata": {},
   "outputs": [
    {
     "name": "stdout",
     "output_type": "stream",
     "text": [
      "Number of unique data:\n",
      "Place_Id        437\n",
      "Place_Name      437\n",
      "Category         26\n",
      "Description     437\n",
      "City              5\n",
      "Price            50\n",
      "Rating           14\n",
      "Time_Minutes     15\n",
      "Coordinate      437\n",
      "Lat             437\n",
      "Long            437\n",
      "Img_Path_0      432\n",
      "Img_Path_1      353\n",
      "Img_Path_2      164\n",
      "dtype: int64\n"
     ]
    }
   ],
   "source": [
    "# View the number of unique data in each tourism data variable\n",
    "print(\"Number of unique data:\")\n",
    "print(tourism_df.nunique())"
   ]
  },
  {
   "cell_type": "code",
   "execution_count": 14,
   "metadata": {},
   "outputs": [
    {
     "name": "stdout",
     "output_type": "stream",
     "text": [
      "Number of empty data:\n",
      "Place_Id          0\n",
      "Place_Name        0\n",
      "Category          0\n",
      "Description       0\n",
      "City              0\n",
      "Price             0\n",
      "Rating            0\n",
      "Time_Minutes    232\n",
      "Coordinate        0\n",
      "Lat               0\n",
      "Long              0\n",
      "Img_Path_0        0\n",
      "Img_Path_1       79\n",
      "Img_Path_2      271\n",
      "dtype: int64\n"
     ]
    }
   ],
   "source": [
    "# See the number of empty data in each tourism data variable\n",
    "print(\"Number of empty data:\")\n",
    "print(tourism_df.isna().sum())"
   ]
  },
  {
   "cell_type": "code",
   "execution_count": 15,
   "metadata": {},
   "outputs": [
    {
     "name": "stdout",
     "output_type": "stream",
     "text": [
      "Number of duplicate rows: 0\n"
     ]
    }
   ],
   "source": [
    "# View the number of duplicate data in each row of tourism data\n",
    "print(\"Number of duplicate rows:\", end=\" \")\n",
    "print(tourism_df.duplicated().sum())"
   ]
  },
  {
   "cell_type": "code",
   "execution_count": 16,
   "metadata": {},
   "outputs": [
    {
     "name": "stdout",
     "output_type": "stream",
     "text": [
      "Number of categories: 9\n",
      "0 Cagar Alam\n",
      "1 Taman Hiburan\n",
      "2 Kebun Binatang\n",
      "3 Budaya\n",
      "4 Situs Sejarah\n",
      "5 Bahari\n",
      "6 Teater & Pertunjukan\n",
      "7 Pusat Perbelanjaan\n",
      "8 Tempat Ibadah\n"
     ]
    }
   ],
   "source": [
    "# View all unique categories\n",
    "categories_set = set()\n",
    "for data in tourism_df['Category'].tolist():\n",
    "  categories = data.split(', ')\n",
    "  for category in categories:\n",
    "    categories_set.add(category)\n",
    "\n",
    "print(f'Number of categories: {len(categories_set)}')\n",
    "for index, data in enumerate(categories_set):\n",
    "  print(index, data)"
   ]
  },
  {
   "cell_type": "code",
   "execution_count": 17,
   "metadata": {},
   "outputs": [
    {
     "data": {
      "text/html": [
       "<div>\n",
       "<style scoped>\n",
       "    .dataframe tbody tr th:only-of-type {\n",
       "        vertical-align: middle;\n",
       "    }\n",
       "\n",
       "    .dataframe tbody tr th {\n",
       "        vertical-align: top;\n",
       "    }\n",
       "\n",
       "    .dataframe thead th {\n",
       "        text-align: right;\n",
       "    }\n",
       "</style>\n",
       "<table border=\"1\" class=\"dataframe\">\n",
       "  <thead>\n",
       "    <tr style=\"text-align: right;\">\n",
       "      <th></th>\n",
       "      <th>Place_Id</th>\n",
       "      <th>Price</th>\n",
       "      <th>Time_Minutes</th>\n",
       "      <th>Lat</th>\n",
       "      <th>Long</th>\n",
       "    </tr>\n",
       "  </thead>\n",
       "  <tbody>\n",
       "    <tr>\n",
       "      <th>count</th>\n",
       "      <td>437.000000</td>\n",
       "      <td>437.000000</td>\n",
       "      <td>205.000000</td>\n",
       "      <td>437.000000</td>\n",
       "      <td>437.000000</td>\n",
       "    </tr>\n",
       "    <tr>\n",
       "      <th>mean</th>\n",
       "      <td>219.000000</td>\n",
       "      <td>24652.173913</td>\n",
       "      <td>82.609756</td>\n",
       "      <td>-7.095438</td>\n",
       "      <td>109.160142</td>\n",
       "    </tr>\n",
       "    <tr>\n",
       "      <th>std</th>\n",
       "      <td>126.295289</td>\n",
       "      <td>66446.374709</td>\n",
       "      <td>52.872339</td>\n",
       "      <td>0.727241</td>\n",
       "      <td>1.962848</td>\n",
       "    </tr>\n",
       "    <tr>\n",
       "      <th>min</th>\n",
       "      <td>1.000000</td>\n",
       "      <td>0.000000</td>\n",
       "      <td>10.000000</td>\n",
       "      <td>-8.197894</td>\n",
       "      <td>103.931398</td>\n",
       "    </tr>\n",
       "    <tr>\n",
       "      <th>25%</th>\n",
       "      <td>110.000000</td>\n",
       "      <td>0.000000</td>\n",
       "      <td>45.000000</td>\n",
       "      <td>-7.749590</td>\n",
       "      <td>107.578369</td>\n",
       "    </tr>\n",
       "    <tr>\n",
       "      <th>50%</th>\n",
       "      <td>219.000000</td>\n",
       "      <td>5000.000000</td>\n",
       "      <td>60.000000</td>\n",
       "      <td>-7.020524</td>\n",
       "      <td>110.237468</td>\n",
       "    </tr>\n",
       "    <tr>\n",
       "      <th>75%</th>\n",
       "      <td>328.000000</td>\n",
       "      <td>20000.000000</td>\n",
       "      <td>120.000000</td>\n",
       "      <td>-6.829411</td>\n",
       "      <td>110.431869</td>\n",
       "    </tr>\n",
       "    <tr>\n",
       "      <th>max</th>\n",
       "      <td>437.000000</td>\n",
       "      <td>900000.000000</td>\n",
       "      <td>360.000000</td>\n",
       "      <td>1.078880</td>\n",
       "      <td>112.821662</td>\n",
       "    </tr>\n",
       "  </tbody>\n",
       "</table>\n",
       "</div>"
      ],
      "text/plain": [
       "         Place_Id          Price  Time_Minutes         Lat        Long\n",
       "count  437.000000     437.000000    205.000000  437.000000  437.000000\n",
       "mean   219.000000   24652.173913     82.609756   -7.095438  109.160142\n",
       "std    126.295289   66446.374709     52.872339    0.727241    1.962848\n",
       "min      1.000000       0.000000     10.000000   -8.197894  103.931398\n",
       "25%    110.000000       0.000000     45.000000   -7.749590  107.578369\n",
       "50%    219.000000    5000.000000     60.000000   -7.020524  110.237468\n",
       "75%    328.000000   20000.000000    120.000000   -6.829411  110.431869\n",
       "max    437.000000  900000.000000    360.000000    1.078880  112.821662"
      ]
     },
     "execution_count": 17,
     "metadata": {},
     "output_type": "execute_result"
    }
   ],
   "source": [
    "# View descriptive parameter data of each numeric variable of customer data\n",
    "tourism_df.describe()"
   ]
  },
  {
   "cell_type": "markdown",
   "metadata": {
    "id": "M68TlaL27sk6"
   },
   "source": [
    "## **`rating_df`**"
   ]
  },
  {
   "cell_type": "code",
   "execution_count": 18,
   "metadata": {
    "colab": {
     "base_uri": "https://localhost:8080/",
     "height": 143
    },
    "id": "kLHaAI_DK83d",
    "outputId": "813bc7f9-459e-4450-d276-2a98d33f2ebf"
   },
   "outputs": [
    {
     "data": {
      "text/html": [
       "<div>\n",
       "<style scoped>\n",
       "    .dataframe tbody tr th:only-of-type {\n",
       "        vertical-align: middle;\n",
       "    }\n",
       "\n",
       "    .dataframe tbody tr th {\n",
       "        vertical-align: top;\n",
       "    }\n",
       "\n",
       "    .dataframe thead th {\n",
       "        text-align: right;\n",
       "    }\n",
       "</style>\n",
       "<table border=\"1\" class=\"dataframe\">\n",
       "  <thead>\n",
       "    <tr style=\"text-align: right;\">\n",
       "      <th></th>\n",
       "      <th>User_Id</th>\n",
       "      <th>Place_Id</th>\n",
       "      <th>Place_Ratings</th>\n",
       "      <th>Comment</th>\n",
       "    </tr>\n",
       "  </thead>\n",
       "  <tbody>\n",
       "    <tr>\n",
       "      <th>2260</th>\n",
       "      <td>72</td>\n",
       "      <td>364</td>\n",
       "      <td>2</td>\n",
       "      <td>Water Blaster Bukit Candi Golf tuh lokasinya b...</td>\n",
       "    </tr>\n",
       "    <tr>\n",
       "      <th>3706</th>\n",
       "      <td>118</td>\n",
       "      <td>436</td>\n",
       "      <td>5</td>\n",
       "      <td>Suasananya enak, pemandangannya cakep banget d...</td>\n",
       "    </tr>\n",
       "    <tr>\n",
       "      <th>6996</th>\n",
       "      <td>219</td>\n",
       "      <td>431</td>\n",
       "      <td>3</td>\n",
       "      <td>Taman Hiburan Rakyat rasanya agak kurang grege...</td>\n",
       "    </tr>\n",
       "  </tbody>\n",
       "</table>\n",
       "</div>"
      ],
      "text/plain": [
       "      User_Id  Place_Id  Place_Ratings  \\\n",
       "2260       72       364              2   \n",
       "3706      118       436              5   \n",
       "6996      219       431              3   \n",
       "\n",
       "                                                Comment  \n",
       "2260  Water Blaster Bukit Candi Golf tuh lokasinya b...  \n",
       "3706  Suasananya enak, pemandangannya cakep banget d...  \n",
       "6996  Taman Hiburan Rakyat rasanya agak kurang grege...  "
      ]
     },
     "execution_count": 18,
     "metadata": {},
     "output_type": "execute_result"
    }
   ],
   "source": [
    "rating_df.sample(3)"
   ]
  },
  {
   "cell_type": "code",
   "execution_count": 19,
   "metadata": {
    "colab": {
     "base_uri": "https://localhost:8080/",
     "height": 427
    },
    "id": "AAhoqIpWaIig",
    "outputId": "84902fb9-0f16-4126-e04c-70bfa2f260e7"
   },
   "outputs": [
    {
     "name": "stdout",
     "output_type": "stream",
     "text": [
      "<class 'pandas.core.frame.DataFrame'>\n",
      "RangeIndex: 9597 entries, 0 to 9596\n",
      "Data columns (total 4 columns):\n",
      " #   Column         Non-Null Count  Dtype \n",
      "---  ------         --------------  ----- \n",
      " 0   User_Id        9597 non-null   int64 \n",
      " 1   Place_Id       9597 non-null   int64 \n",
      " 2   Place_Ratings  9597 non-null   int64 \n",
      " 3   Comment        9597 non-null   object\n",
      "dtypes: int64(3), object(1)\n",
      "memory usage: 300.0+ KB\n"
     ]
    }
   ],
   "source": [
    "# View variable information in rating data\n",
    "rating_df.info()"
   ]
  },
  {
   "cell_type": "code",
   "execution_count": 20,
   "metadata": {},
   "outputs": [
    {
     "name": "stdout",
     "output_type": "stream",
     "text": [
      "Number of unique data:\n",
      "User_Id           300\n",
      "Place_Id          437\n",
      "Place_Ratings       5\n",
      "Comment          7118\n",
      "dtype: int64\n"
     ]
    }
   ],
   "source": [
    "# View the number of unique data in each rating data variable\n",
    "print(\"Number of unique data:\")\n",
    "print(rating_df.nunique())"
   ]
  },
  {
   "cell_type": "code",
   "execution_count": 21,
   "metadata": {},
   "outputs": [
    {
     "name": "stdout",
     "output_type": "stream",
     "text": [
      "Number of empty data:\n",
      "User_Id          0\n",
      "Place_Id         0\n",
      "Place_Ratings    0\n",
      "Comment          0\n",
      "dtype: int64\n"
     ]
    }
   ],
   "source": [
    "# See the number of empty data in each rating data variable\n",
    "print(\"Number of empty data:\")\n",
    "print(rating_df.isna().sum())"
   ]
  },
  {
   "cell_type": "code",
   "execution_count": 22,
   "metadata": {},
   "outputs": [
    {
     "name": "stdout",
     "output_type": "stream",
     "text": [
      "Number of duplicate rows: 0\n"
     ]
    }
   ],
   "source": [
    "# View the number of duplicate data in each row of rating data\n",
    "print(\"Number of duplicate rows:\", end=\" \")\n",
    "print(rating_df.duplicated().sum())"
   ]
  },
  {
   "cell_type": "code",
   "execution_count": 23,
   "metadata": {},
   "outputs": [
    {
     "data": {
      "text/html": [
       "<div>\n",
       "<style scoped>\n",
       "    .dataframe tbody tr th:only-of-type {\n",
       "        vertical-align: middle;\n",
       "    }\n",
       "\n",
       "    .dataframe tbody tr th {\n",
       "        vertical-align: top;\n",
       "    }\n",
       "\n",
       "    .dataframe thead th {\n",
       "        text-align: right;\n",
       "    }\n",
       "</style>\n",
       "<table border=\"1\" class=\"dataframe\">\n",
       "  <thead>\n",
       "    <tr style=\"text-align: right;\">\n",
       "      <th></th>\n",
       "      <th>User_Id</th>\n",
       "      <th>Place_Id</th>\n",
       "      <th>Place_Ratings</th>\n",
       "    </tr>\n",
       "  </thead>\n",
       "  <tbody>\n",
       "    <tr>\n",
       "      <th>count</th>\n",
       "      <td>9597.000000</td>\n",
       "      <td>9597.000000</td>\n",
       "      <td>9597.000000</td>\n",
       "    </tr>\n",
       "    <tr>\n",
       "      <th>mean</th>\n",
       "      <td>151.046681</td>\n",
       "      <td>219.356049</td>\n",
       "      <td>3.066688</td>\n",
       "    </tr>\n",
       "    <tr>\n",
       "      <th>std</th>\n",
       "      <td>86.141501</td>\n",
       "      <td>126.126850</td>\n",
       "      <td>1.381008</td>\n",
       "    </tr>\n",
       "    <tr>\n",
       "      <th>min</th>\n",
       "      <td>1.000000</td>\n",
       "      <td>1.000000</td>\n",
       "      <td>1.000000</td>\n",
       "    </tr>\n",
       "    <tr>\n",
       "      <th>25%</th>\n",
       "      <td>76.000000</td>\n",
       "      <td>109.000000</td>\n",
       "      <td>2.000000</td>\n",
       "    </tr>\n",
       "    <tr>\n",
       "      <th>50%</th>\n",
       "      <td>150.000000</td>\n",
       "      <td>220.000000</td>\n",
       "      <td>3.000000</td>\n",
       "    </tr>\n",
       "    <tr>\n",
       "      <th>75%</th>\n",
       "      <td>226.000000</td>\n",
       "      <td>329.000000</td>\n",
       "      <td>4.000000</td>\n",
       "    </tr>\n",
       "    <tr>\n",
       "      <th>max</th>\n",
       "      <td>300.000000</td>\n",
       "      <td>437.000000</td>\n",
       "      <td>5.000000</td>\n",
       "    </tr>\n",
       "  </tbody>\n",
       "</table>\n",
       "</div>"
      ],
      "text/plain": [
       "           User_Id     Place_Id  Place_Ratings\n",
       "count  9597.000000  9597.000000    9597.000000\n",
       "mean    151.046681   219.356049       3.066688\n",
       "std      86.141501   126.126850       1.381008\n",
       "min       1.000000     1.000000       1.000000\n",
       "25%      76.000000   109.000000       2.000000\n",
       "50%     150.000000   220.000000       3.000000\n",
       "75%     226.000000   329.000000       4.000000\n",
       "max     300.000000   437.000000       5.000000"
      ]
     },
     "execution_count": 23,
     "metadata": {},
     "output_type": "execute_result"
    }
   ],
   "source": [
    "# View descriptive parameter data of each numeric variable of rating data\n",
    "rating_df.describe()"
   ]
  },
  {
   "cell_type": "markdown",
   "metadata": {
    "id": "3cqD0JKZ7cfE"
   },
   "source": [
    "# **Data Cleaning**"
   ]
  },
  {
   "cell_type": "markdown",
   "metadata": {},
   "source": [
    "## **`user_df`**"
   ]
  },
  {
   "cell_type": "code",
   "execution_count": 24,
   "metadata": {},
   "outputs": [
    {
     "data": {
      "text/html": [
       "<div>\n",
       "<style scoped>\n",
       "    .dataframe tbody tr th:only-of-type {\n",
       "        vertical-align: middle;\n",
       "    }\n",
       "\n",
       "    .dataframe tbody tr th {\n",
       "        vertical-align: top;\n",
       "    }\n",
       "\n",
       "    .dataframe thead th {\n",
       "        text-align: right;\n",
       "    }\n",
       "</style>\n",
       "<table border=\"1\" class=\"dataframe\">\n",
       "  <thead>\n",
       "    <tr style=\"text-align: right;\">\n",
       "      <th></th>\n",
       "      <th>User_Id</th>\n",
       "      <th>Full_Name</th>\n",
       "      <th>Age</th>\n",
       "    </tr>\n",
       "  </thead>\n",
       "  <tbody>\n",
       "    <tr>\n",
       "      <th>0</th>\n",
       "      <td>1</td>\n",
       "      <td>Corey Bloxsom</td>\n",
       "      <td>20</td>\n",
       "    </tr>\n",
       "    <tr>\n",
       "      <th>1</th>\n",
       "      <td>2</td>\n",
       "      <td>Koo Houtby</td>\n",
       "      <td>21</td>\n",
       "    </tr>\n",
       "    <tr>\n",
       "      <th>2</th>\n",
       "      <td>3</td>\n",
       "      <td>Haydon Coldrick</td>\n",
       "      <td>23</td>\n",
       "    </tr>\n",
       "  </tbody>\n",
       "</table>\n",
       "</div>"
      ],
      "text/plain": [
       "   User_Id        Full_Name  Age\n",
       "0        1    Corey Bloxsom   20\n",
       "1        2       Koo Houtby   21\n",
       "2        3  Haydon Coldrick   23"
      ]
     },
     "execution_count": 24,
     "metadata": {},
     "output_type": "execute_result"
    }
   ],
   "source": [
    "# Only keep necessary columns\n",
    "user_df = user_df[['User_Id', 'Full_Name', 'Age']].copy()\n",
    "user_df.head(3)"
   ]
  },
  {
   "cell_type": "markdown",
   "metadata": {},
   "source": [
    "## **`tourism_df`**"
   ]
  },
  {
   "cell_type": "code",
   "execution_count": 25,
   "metadata": {},
   "outputs": [
    {
     "data": {
      "text/html": [
       "<div>\n",
       "<style scoped>\n",
       "    .dataframe tbody tr th:only-of-type {\n",
       "        vertical-align: middle;\n",
       "    }\n",
       "\n",
       "    .dataframe tbody tr th {\n",
       "        vertical-align: top;\n",
       "    }\n",
       "\n",
       "    .dataframe thead th {\n",
       "        text-align: right;\n",
       "    }\n",
       "</style>\n",
       "<table border=\"1\" class=\"dataframe\">\n",
       "  <thead>\n",
       "    <tr style=\"text-align: right;\">\n",
       "      <th></th>\n",
       "      <th>Place_Id</th>\n",
       "      <th>Place_Name</th>\n",
       "      <th>Category</th>\n",
       "      <th>City</th>\n",
       "      <th>Price</th>\n",
       "      <th>Rating</th>\n",
       "      <th>Time_Minutes</th>\n",
       "    </tr>\n",
       "  </thead>\n",
       "  <tbody>\n",
       "    <tr>\n",
       "      <th>0</th>\n",
       "      <td>1</td>\n",
       "      <td>Monumen Nasional</td>\n",
       "      <td>Budaya, Situs Sejarah</td>\n",
       "      <td>Jakarta</td>\n",
       "      <td>20000</td>\n",
       "      <td>4,6</td>\n",
       "      <td>15.0</td>\n",
       "    </tr>\n",
       "    <tr>\n",
       "      <th>1</th>\n",
       "      <td>2</td>\n",
       "      <td>Kota Tua</td>\n",
       "      <td>Budaya</td>\n",
       "      <td>Jakarta</td>\n",
       "      <td>0</td>\n",
       "      <td>4,6</td>\n",
       "      <td>90.0</td>\n",
       "    </tr>\n",
       "    <tr>\n",
       "      <th>2</th>\n",
       "      <td>3</td>\n",
       "      <td>Dunia Fantasi</td>\n",
       "      <td>Taman Hiburan, Bahari</td>\n",
       "      <td>Jakarta</td>\n",
       "      <td>270000</td>\n",
       "      <td>4,6</td>\n",
       "      <td>360.0</td>\n",
       "    </tr>\n",
       "  </tbody>\n",
       "</table>\n",
       "</div>"
      ],
      "text/plain": [
       "   Place_Id        Place_Name               Category     City   Price Rating  \\\n",
       "0         1  Monumen Nasional  Budaya, Situs Sejarah  Jakarta   20000    4,6   \n",
       "1         2          Kota Tua                 Budaya  Jakarta       0    4,6   \n",
       "2         3     Dunia Fantasi  Taman Hiburan, Bahari  Jakarta  270000    4,6   \n",
       "\n",
       "   Time_Minutes  \n",
       "0          15.0  \n",
       "1          90.0  \n",
       "2         360.0  "
      ]
     },
     "execution_count": 25,
     "metadata": {},
     "output_type": "execute_result"
    }
   ],
   "source": [
    "# Only keep necessary columns\n",
    "columns = ['Place_Id', 'Place_Name', 'Category', 'City', 'Price', 'Rating', 'Time_Minutes']\n",
    "tourism_df = tourism_df[columns].copy()\n",
    "tourism_df.head(3)"
   ]
  },
  {
   "cell_type": "code",
   "execution_count": 26,
   "metadata": {
    "colab": {
     "base_uri": "https://localhost:8080/"
    },
    "collapsed": true,
    "id": "6sr_bcYCECYQ",
    "outputId": "8bea0ac7-70d9-48cb-e96f-5152b8ab12b1"
   },
   "outputs": [
    {
     "name": "stdout",
     "output_type": "stream",
     "text": [
      "<class 'pandas.core.frame.DataFrame'>\n",
      "RangeIndex: 437 entries, 0 to 436\n",
      "Data columns (total 7 columns):\n",
      " #   Column        Non-Null Count  Dtype  \n",
      "---  ------        --------------  -----  \n",
      " 0   Place_Id      437 non-null    int64  \n",
      " 1   Place_Name    437 non-null    object \n",
      " 2   Category      437 non-null    object \n",
      " 3   City          437 non-null    object \n",
      " 4   Price         437 non-null    int64  \n",
      " 5   Rating        437 non-null    float64\n",
      " 6   Time_Minutes  205 non-null    float64\n",
      "dtypes: float64(2), int64(2), object(3)\n",
      "memory usage: 24.0+ KB\n"
     ]
    }
   ],
   "source": [
    "# Convert Rating columns with commas to proper float format\n",
    "tourism_df['Rating'] = tourism_df['Rating'].replace(',', '.', regex=True)\n",
    "tourism_df['Rating'] = tourism_df['Rating'].astype(dtype='float64')\n",
    "tourism_df.info()"
   ]
  },
  {
   "cell_type": "code",
   "execution_count": 27,
   "metadata": {},
   "outputs": [],
   "source": [
    "# Fill missing Time_Minutes with the median\n",
    "tourism_df.fillna({'Time_Minutes': tourism_df['Time_Minutes'].median()}, inplace=True)"
   ]
  },
  {
   "cell_type": "markdown",
   "metadata": {},
   "source": [
    "## **`rating_df`**"
   ]
  },
  {
   "cell_type": "code",
   "execution_count": 28,
   "metadata": {},
   "outputs": [
    {
     "data": {
      "text/html": [
       "<div>\n",
       "<style scoped>\n",
       "    .dataframe tbody tr th:only-of-type {\n",
       "        vertical-align: middle;\n",
       "    }\n",
       "\n",
       "    .dataframe tbody tr th {\n",
       "        vertical-align: top;\n",
       "    }\n",
       "\n",
       "    .dataframe thead th {\n",
       "        text-align: right;\n",
       "    }\n",
       "</style>\n",
       "<table border=\"1\" class=\"dataframe\">\n",
       "  <thead>\n",
       "    <tr style=\"text-align: right;\">\n",
       "      <th></th>\n",
       "      <th>User_Id</th>\n",
       "      <th>Place_Id</th>\n",
       "      <th>Place_Ratings</th>\n",
       "    </tr>\n",
       "  </thead>\n",
       "  <tbody>\n",
       "    <tr>\n",
       "      <th>0</th>\n",
       "      <td>1</td>\n",
       "      <td>179</td>\n",
       "      <td>3</td>\n",
       "    </tr>\n",
       "    <tr>\n",
       "      <th>1</th>\n",
       "      <td>1</td>\n",
       "      <td>344</td>\n",
       "      <td>2</td>\n",
       "    </tr>\n",
       "    <tr>\n",
       "      <th>2</th>\n",
       "      <td>1</td>\n",
       "      <td>5</td>\n",
       "      <td>5</td>\n",
       "    </tr>\n",
       "  </tbody>\n",
       "</table>\n",
       "</div>"
      ],
      "text/plain": [
       "   User_Id  Place_Id  Place_Ratings\n",
       "0        1       179              3\n",
       "1        1       344              2\n",
       "2        1         5              5"
      ]
     },
     "execution_count": 28,
     "metadata": {},
     "output_type": "execute_result"
    }
   ],
   "source": [
    "# Only keep necessary columns\n",
    "rating_df = rating_df[['User_Id', 'Place_Id', 'Place_Ratings']].copy()\n",
    "rating_df.head(3)"
   ]
  },
  {
   "cell_type": "markdown",
   "metadata": {},
   "source": [
    "# **Explanatory Data Analysis**"
   ]
  },
  {
   "cell_type": "markdown",
   "metadata": {},
   "source": [
    "## **`user_df`**"
   ]
  },
  {
   "cell_type": "code",
   "execution_count": 29,
   "metadata": {},
   "outputs": [
    {
     "data": {
      "image/png": "[encoded data removed]",
      "text/plain": [
       "<Figure size 640x480 with 1 Axes>"
      ]
     },
     "metadata": {},
     "output_type": "display_data"
    }
   ],
   "source": [
    "# View the distribution of user based on age\n",
    "users_age_df = pd.DataFrame(user_df.groupby(by='Age')['User_Id'].nunique())\n",
    "users_age_df.reset_index(inplace=True)\n",
    "users_age_df.rename(columns={'User_Id': 'Count'}, inplace=True)\n",
    "\n",
    "# Visualize the distribution of user based on age\n",
    "sns.barplot(x='Age', y='Count', data=users_age_df.sort_values(by='Age', ascending=True))\n",
    "plt.title('Users by Age', loc='center', fontsize=10)\n",
    "plt.show()"
   ]
  },
  {
   "cell_type": "markdown",
   "metadata": {},
   "source": [
    "## **`tourism_df`**"
   ]
  },
  {
   "cell_type": "code",
   "execution_count": 30,
   "metadata": {},
   "outputs": [
    {
     "data": {
      "text/plain": [
       "array([[<Axes: title={'center': 'Price'}>,\n",
       "        <Axes: title={'center': 'Rating'}>],\n",
       "       [<Axes: title={'center': 'Time_Minutes'}>, <Axes: >]], dtype=object)"
      ]
     },
     "execution_count": 30,
     "metadata": {},
     "output_type": "execute_result"
    },
    {
     "data": {
      "image/png": "[encoded data removed]",
      "text/plain": [
       "<Figure size 1000x600 with 4 Axes>"
      ]
     },
     "metadata": {},
     "output_type": "display_data"
    }
   ],
   "source": [
    "# View the distribution of numeric values\n",
    "tourism_df[['Price', 'Rating', 'Time_Minutes']].hist(figsize=(10, 6))"
   ]
  },
  {
   "cell_type": "code",
   "execution_count": 31,
   "metadata": {},
   "outputs": [
    {
     "data": {
      "image/png": "[encoded data removed]",
      "text/plain": [
       "<Figure size 640x480 with 1 Axes>"
      ]
     },
     "metadata": {},
     "output_type": "display_data"
    }
   ],
   "source": [
    "# View the distribution of tourism spots based on city\n",
    "tourism_city_df = pd.DataFrame(tourism_df.groupby(by='City')['Place_Id'].nunique())\n",
    "tourism_city_df.reset_index(inplace=True)\n",
    "tourism_city_df.rename(columns={'Place_Id': 'Count'}, inplace=True)\n",
    "\n",
    "# Visualize the distribution of tourism spots based on city\n",
    "sns.barplot(x=\"City\", y=\"Count\", data=tourism_city_df.sort_values(by=\"Count\", ascending=False))\n",
    "plt.title(\"Tourism Spots by City\", loc=\"center\", fontsize=10)\n",
    "plt.show()"
   ]
  },
  {
   "cell_type": "code",
   "execution_count": 32,
   "metadata": {},
   "outputs": [
    {
     "data": {
      "image/png": "[encoded data removed]",
      "text/plain": [
       "<Figure size 640x480 with 1 Axes>"
      ]
     },
     "metadata": {},
     "output_type": "display_data"
    }
   ],
   "source": [
    "# View the distribution of tourism spots based on category\n",
    "tourism_category_df = tourism_df.copy()\n",
    "tourism_category_df['Category'] = tourism_category_df['Category'].str.split(', ')\n",
    "tourism_category_df = tourism_category_df.explode('Category').groupby('Category').size().reset_index(name='Count')\n",
    "\n",
    "# Visualize the distribution of tourism spots based on category\n",
    "sns.barplot(x=\"Category\", y=\"Count\", data=tourism_category_df.sort_values(by=\"Count\", ascending=False))\n",
    "plt.title(\"Tourism Spots by Category (Split)\", loc=\"center\", fontsize=10)\n",
    "plt.xticks(rotation=45)\n",
    "plt.show()"
   ]
  },
  {
   "cell_type": "markdown",
   "metadata": {},
   "source": [
    "## **`rating_df`**"
   ]
  },
  {
   "cell_type": "code",
   "execution_count": 33,
   "metadata": {},
   "outputs": [
    {
     "data": {
      "image/png": "[encoded data removed]",
      "text/plain": [
       "<Figure size 600x400 with 1 Axes>"
      ]
     },
     "metadata": {},
     "output_type": "display_data"
    }
   ],
   "source": [
    "# View the distribution of user ratings\n",
    "plt.figure(figsize=(6, 4))\n",
    "plt.hist(rating_df['Place_Ratings'])\n",
    "plt.title(\"Distribution of Ratings\")\n",
    "plt.show()"
   ]
  },
  {
   "cell_type": "markdown",
   "metadata": {
    "id": "nRTG7Yezs2OT"
   },
   "source": [
    "# **Data Transformation**"
   ]
  },
  {
   "cell_type": "markdown",
   "metadata": {
    "id": "tsUCswSZRVUh"
   },
   "source": [
    "## **Create `tourism_one_hot_df`**"
   ]
  },
  {
   "cell_type": "code",
   "execution_count": 34,
   "metadata": {
    "id": "wdjPkz6ZgFHY"
   },
   "outputs": [],
   "source": [
    "def get_one_hot_tourism_data(tourism_df: pd.DataFrame) -> tuple[pd.DataFrame, pd.DataFrame]:\n",
    "  \"\"\"\n",
    "  Preprocess the tourism dataframe by applying one-hot encoding to 'Category' and 'City',\n",
    "  and dropping irrelevant columns.\n",
    "\n",
    "  Args:\n",
    "      tourism_df (pd.DataFrame): Original tourism dataframe.\n",
    "\n",
    "  Returns:\n",
    "      pd.DataFrame: Processed tourism dataframe with one-hot encoding applied.\n",
    "  \"\"\"\n",
    "  # One-hot encoding for Category and City columns\n",
    "  categories_one_hot = tourism_df['Category'].str.get_dummies(sep=', ')\n",
    "  country_one_hot = tourism_df['City'].str.get_dummies()\n",
    "\n",
    "  # Merge the original dataframe with the one-hot encoding result\n",
    "  new_tourism_df = pd.concat([tourism_df, country_one_hot, categories_one_hot], axis=1)\n",
    "\n",
    "  # Drop irrelevant columns\n",
    "  tourism_one_hot_df = new_tourism_df.drop(columns=['Place_Name', 'Category', 'City'])\n",
    "\n",
    "  return tourism_one_hot_df, new_tourism_df"
   ]
  },
  {
   "cell_type": "code",
   "execution_count": 35,
   "metadata": {
    "colab": {
     "base_uri": "https://localhost:8080/",
     "height": 933
    },
    "id": "q9nCpLRlgOlV",
    "outputId": "9c3d609c-748a-4dd5-b446-98a21a977cdf"
   },
   "outputs": [
    {
     "data": {
      "text/html": [
       "<div>\n",
       "<style scoped>\n",
       "    .dataframe tbody tr th:only-of-type {\n",
       "        vertical-align: middle;\n",
       "    }\n",
       "\n",
       "    .dataframe tbody tr th {\n",
       "        vertical-align: top;\n",
       "    }\n",
       "\n",
       "    .dataframe thead th {\n",
       "        text-align: right;\n",
       "    }\n",
       "</style>\n",
       "<table border=\"1\" class=\"dataframe\">\n",
       "  <thead>\n",
       "    <tr style=\"text-align: right;\">\n",
       "      <th></th>\n",
       "      <th>Place_Id</th>\n",
       "      <th>Price</th>\n",
       "      <th>Rating</th>\n",
       "      <th>Time_Minutes</th>\n",
       "      <th>Bandung</th>\n",
       "      <th>Jakarta</th>\n",
       "      <th>Semarang</th>\n",
       "      <th>Surabaya</th>\n",
       "      <th>Yogyakarta</th>\n",
       "      <th>Bahari</th>\n",
       "      <th>Budaya</th>\n",
       "      <th>Cagar Alam</th>\n",
       "      <th>Kebun Binatang</th>\n",
       "      <th>Pusat Perbelanjaan</th>\n",
       "      <th>Situs Sejarah</th>\n",
       "      <th>Taman Hiburan</th>\n",
       "      <th>Teater &amp; Pertunjukan</th>\n",
       "      <th>Tempat Ibadah</th>\n",
       "    </tr>\n",
       "  </thead>\n",
       "  <tbody>\n",
       "    <tr>\n",
       "      <th>0</th>\n",
       "      <td>1</td>\n",
       "      <td>20000</td>\n",
       "      <td>4.6</td>\n",
       "      <td>15.0</td>\n",
       "      <td>0</td>\n",
       "      <td>1</td>\n",
       "      <td>0</td>\n",
       "      <td>0</td>\n",
       "      <td>0</td>\n",
       "      <td>0</td>\n",
       "      <td>1</td>\n",
       "      <td>0</td>\n",
       "      <td>0</td>\n",
       "      <td>0</td>\n",
       "      <td>1</td>\n",
       "      <td>0</td>\n",
       "      <td>0</td>\n",
       "      <td>0</td>\n",
       "    </tr>\n",
       "    <tr>\n",
       "      <th>1</th>\n",
       "      <td>2</td>\n",
       "      <td>0</td>\n",
       "      <td>4.6</td>\n",
       "      <td>90.0</td>\n",
       "      <td>0</td>\n",
       "      <td>1</td>\n",
       "      <td>0</td>\n",
       "      <td>0</td>\n",
       "      <td>0</td>\n",
       "      <td>0</td>\n",
       "      <td>1</td>\n",
       "      <td>0</td>\n",
       "      <td>0</td>\n",
       "      <td>0</td>\n",
       "      <td>0</td>\n",
       "      <td>0</td>\n",
       "      <td>0</td>\n",
       "      <td>0</td>\n",
       "    </tr>\n",
       "    <tr>\n",
       "      <th>2</th>\n",
       "      <td>3</td>\n",
       "      <td>270000</td>\n",
       "      <td>4.6</td>\n",
       "      <td>360.0</td>\n",
       "      <td>0</td>\n",
       "      <td>1</td>\n",
       "      <td>0</td>\n",
       "      <td>0</td>\n",
       "      <td>0</td>\n",
       "      <td>1</td>\n",
       "      <td>0</td>\n",
       "      <td>0</td>\n",
       "      <td>0</td>\n",
       "      <td>0</td>\n",
       "      <td>0</td>\n",
       "      <td>1</td>\n",
       "      <td>0</td>\n",
       "      <td>0</td>\n",
       "    </tr>\n",
       "    <tr>\n",
       "      <th>3</th>\n",
       "      <td>4</td>\n",
       "      <td>10000</td>\n",
       "      <td>4.5</td>\n",
       "      <td>60.0</td>\n",
       "      <td>0</td>\n",
       "      <td>1</td>\n",
       "      <td>0</td>\n",
       "      <td>0</td>\n",
       "      <td>0</td>\n",
       "      <td>0</td>\n",
       "      <td>0</td>\n",
       "      <td>0</td>\n",
       "      <td>0</td>\n",
       "      <td>0</td>\n",
       "      <td>0</td>\n",
       "      <td>1</td>\n",
       "      <td>0</td>\n",
       "      <td>0</td>\n",
       "    </tr>\n",
       "    <tr>\n",
       "      <th>4</th>\n",
       "      <td>5</td>\n",
       "      <td>94000</td>\n",
       "      <td>4.5</td>\n",
       "      <td>60.0</td>\n",
       "      <td>0</td>\n",
       "      <td>1</td>\n",
       "      <td>0</td>\n",
       "      <td>0</td>\n",
       "      <td>0</td>\n",
       "      <td>0</td>\n",
       "      <td>0</td>\n",
       "      <td>0</td>\n",
       "      <td>0</td>\n",
       "      <td>0</td>\n",
       "      <td>0</td>\n",
       "      <td>1</td>\n",
       "      <td>0</td>\n",
       "      <td>0</td>\n",
       "    </tr>\n",
       "    <tr>\n",
       "      <th>...</th>\n",
       "      <td>...</td>\n",
       "      <td>...</td>\n",
       "      <td>...</td>\n",
       "      <td>...</td>\n",
       "      <td>...</td>\n",
       "      <td>...</td>\n",
       "      <td>...</td>\n",
       "      <td>...</td>\n",
       "      <td>...</td>\n",
       "      <td>...</td>\n",
       "      <td>...</td>\n",
       "      <td>...</td>\n",
       "      <td>...</td>\n",
       "      <td>...</td>\n",
       "      <td>...</td>\n",
       "      <td>...</td>\n",
       "      <td>...</td>\n",
       "      <td>...</td>\n",
       "    </tr>\n",
       "    <tr>\n",
       "      <th>432</th>\n",
       "      <td>433</td>\n",
       "      <td>2000</td>\n",
       "      <td>4.4</td>\n",
       "      <td>45.0</td>\n",
       "      <td>0</td>\n",
       "      <td>0</td>\n",
       "      <td>0</td>\n",
       "      <td>1</td>\n",
       "      <td>0</td>\n",
       "      <td>0</td>\n",
       "      <td>1</td>\n",
       "      <td>0</td>\n",
       "      <td>0</td>\n",
       "      <td>0</td>\n",
       "      <td>0</td>\n",
       "      <td>0</td>\n",
       "      <td>0</td>\n",
       "      <td>0</td>\n",
       "    </tr>\n",
       "    <tr>\n",
       "      <th>433</th>\n",
       "      <td>434</td>\n",
       "      <td>0</td>\n",
       "      <td>4.6</td>\n",
       "      <td>60.0</td>\n",
       "      <td>0</td>\n",
       "      <td>0</td>\n",
       "      <td>0</td>\n",
       "      <td>1</td>\n",
       "      <td>0</td>\n",
       "      <td>0</td>\n",
       "      <td>0</td>\n",
       "      <td>0</td>\n",
       "      <td>0</td>\n",
       "      <td>0</td>\n",
       "      <td>0</td>\n",
       "      <td>1</td>\n",
       "      <td>0</td>\n",
       "      <td>0</td>\n",
       "    </tr>\n",
       "    <tr>\n",
       "      <th>434</th>\n",
       "      <td>435</td>\n",
       "      <td>0</td>\n",
       "      <td>4.4</td>\n",
       "      <td>45.0</td>\n",
       "      <td>0</td>\n",
       "      <td>0</td>\n",
       "      <td>0</td>\n",
       "      <td>1</td>\n",
       "      <td>0</td>\n",
       "      <td>1</td>\n",
       "      <td>0</td>\n",
       "      <td>0</td>\n",
       "      <td>0</td>\n",
       "      <td>0</td>\n",
       "      <td>0</td>\n",
       "      <td>1</td>\n",
       "      <td>0</td>\n",
       "      <td>0</td>\n",
       "    </tr>\n",
       "    <tr>\n",
       "      <th>435</th>\n",
       "      <td>436</td>\n",
       "      <td>0</td>\n",
       "      <td>4.6</td>\n",
       "      <td>60.0</td>\n",
       "      <td>0</td>\n",
       "      <td>0</td>\n",
       "      <td>0</td>\n",
       "      <td>1</td>\n",
       "      <td>0</td>\n",
       "      <td>0</td>\n",
       "      <td>0</td>\n",
       "      <td>0</td>\n",
       "      <td>0</td>\n",
       "      <td>0</td>\n",
       "      <td>0</td>\n",
       "      <td>1</td>\n",
       "      <td>0</td>\n",
       "      <td>0</td>\n",
       "    </tr>\n",
       "    <tr>\n",
       "      <th>436</th>\n",
       "      <td>437</td>\n",
       "      <td>10000</td>\n",
       "      <td>4.8</td>\n",
       "      <td>60.0</td>\n",
       "      <td>0</td>\n",
       "      <td>0</td>\n",
       "      <td>0</td>\n",
       "      <td>1</td>\n",
       "      <td>0</td>\n",
       "      <td>0</td>\n",
       "      <td>0</td>\n",
       "      <td>0</td>\n",
       "      <td>0</td>\n",
       "      <td>0</td>\n",
       "      <td>0</td>\n",
       "      <td>0</td>\n",
       "      <td>0</td>\n",
       "      <td>1</td>\n",
       "    </tr>\n",
       "  </tbody>\n",
       "</table>\n",
       "<p>437 rows × 18 columns</p>\n",
       "</div>"
      ],
      "text/plain": [
       "     Place_Id   Price  Rating  Time_Minutes  Bandung  Jakarta  Semarang  \\\n",
       "0           1   20000     4.6          15.0        0        1         0   \n",
       "1           2       0     4.6          90.0        0        1         0   \n",
       "2           3  270000     4.6         360.0        0        1         0   \n",
       "3           4   10000     4.5          60.0        0        1         0   \n",
       "4           5   94000     4.5          60.0        0        1         0   \n",
       "..        ...     ...     ...           ...      ...      ...       ...   \n",
       "432       433    2000     4.4          45.0        0        0         0   \n",
       "433       434       0     4.6          60.0        0        0         0   \n",
       "434       435       0     4.4          45.0        0        0         0   \n",
       "435       436       0     4.6          60.0        0        0         0   \n",
       "436       437   10000     4.8          60.0        0        0         0   \n",
       "\n",
       "     Surabaya  Yogyakarta  Bahari  Budaya  Cagar Alam  Kebun Binatang  \\\n",
       "0           0           0       0       1           0               0   \n",
       "1           0           0       0       1           0               0   \n",
       "2           0           0       1       0           0               0   \n",
       "3           0           0       0       0           0               0   \n",
       "4           0           0       0       0           0               0   \n",
       "..        ...         ...     ...     ...         ...             ...   \n",
       "432         1           0       0       1           0               0   \n",
       "433         1           0       0       0           0               0   \n",
       "434         1           0       1       0           0               0   \n",
       "435         1           0       0       0           0               0   \n",
       "436         1           0       0       0           0               0   \n",
       "\n",
       "     Pusat Perbelanjaan  Situs Sejarah  Taman Hiburan  Teater & Pertunjukan  \\\n",
       "0                     0              1              0                     0   \n",
       "1                     0              0              0                     0   \n",
       "2                     0              0              1                     0   \n",
       "3                     0              0              1                     0   \n",
       "4                     0              0              1                     0   \n",
       "..                  ...            ...            ...                   ...   \n",
       "432                   0              0              0                     0   \n",
       "433                   0              0              1                     0   \n",
       "434                   0              0              1                     0   \n",
       "435                   0              0              1                     0   \n",
       "436                   0              0              0                     0   \n",
       "\n",
       "     Tempat Ibadah  \n",
       "0                0  \n",
       "1                0  \n",
       "2                0  \n",
       "3                0  \n",
       "4                0  \n",
       "..             ...  \n",
       "432              0  \n",
       "433              0  \n",
       "434              0  \n",
       "435              0  \n",
       "436              1  \n",
       "\n",
       "[437 rows x 18 columns]"
      ]
     },
     "metadata": {},
     "output_type": "display_data"
    },
    {
     "name": "stdout",
     "output_type": "stream",
     "text": [
      "<class 'pandas.core.frame.DataFrame'>\n",
      "RangeIndex: 437 entries, 0 to 436\n",
      "Data columns (total 18 columns):\n",
      " #   Column                Non-Null Count  Dtype  \n",
      "---  ------                --------------  -----  \n",
      " 0   Place_Id              437 non-null    int64  \n",
      " 1   Price                 437 non-null    int64  \n",
      " 2   Rating                437 non-null    float64\n",
      " 3   Time_Minutes          437 non-null    float64\n",
      " 4   Bandung               437 non-null    int64  \n",
      " 5   Jakarta               437 non-null    int64  \n",
      " 6   Semarang              437 non-null    int64  \n",
      " 7   Surabaya              437 non-null    int64  \n",
      " 8   Yogyakarta            437 non-null    int64  \n",
      " 9   Bahari                437 non-null    int64  \n",
      " 10  Budaya                437 non-null    int64  \n",
      " 11  Cagar Alam            437 non-null    int64  \n",
      " 12  Kebun Binatang        437 non-null    int64  \n",
      " 13  Pusat Perbelanjaan    437 non-null    int64  \n",
      " 14  Situs Sejarah         437 non-null    int64  \n",
      " 15  Taman Hiburan         437 non-null    int64  \n",
      " 16  Teater & Pertunjukan  437 non-null    int64  \n",
      " 17  Tempat Ibadah         437 non-null    int64  \n",
      "dtypes: float64(2), int64(16)\n",
      "memory usage: 61.6 KB\n"
     ]
    },
    {
     "data": {
      "text/plain": [
       "None"
      ]
     },
     "metadata": {},
     "output_type": "display_data"
    }
   ],
   "source": [
    "# Create tourism_one_hot_df\n",
    "tourism_one_hot_df, new_tourism_df = get_one_hot_tourism_data(tourism_df)\n",
    "display(tourism_one_hot_df)\n",
    "display(tourism_one_hot_df.info())"
   ]
  },
  {
   "cell_type": "code",
   "execution_count": 36,
   "metadata": {
    "colab": {
     "base_uri": "https://localhost:8080/",
     "height": 418
    },
    "id": "DFytzkImhAut",
    "outputId": "265a2da3-7d1c-41b6-e750-ab33788b8eb0"
   },
   "outputs": [
    {
     "data": {
      "text/html": [
       "<div>\n",
       "<style scoped>\n",
       "    .dataframe tbody tr th:only-of-type {\n",
       "        vertical-align: middle;\n",
       "    }\n",
       "\n",
       "    .dataframe tbody tr th {\n",
       "        vertical-align: top;\n",
       "    }\n",
       "\n",
       "    .dataframe thead th {\n",
       "        text-align: right;\n",
       "    }\n",
       "</style>\n",
       "<table border=\"1\" class=\"dataframe\">\n",
       "  <thead>\n",
       "    <tr style=\"text-align: right;\">\n",
       "      <th></th>\n",
       "      <th>Place_Id</th>\n",
       "      <th>Place_Name</th>\n",
       "      <th>Category</th>\n",
       "      <th>City</th>\n",
       "      <th>Price</th>\n",
       "      <th>Rating</th>\n",
       "      <th>Time_Minutes</th>\n",
       "      <th>Bandung</th>\n",
       "      <th>Jakarta</th>\n",
       "      <th>Semarang</th>\n",
       "      <th>...</th>\n",
       "      <th>Yogyakarta</th>\n",
       "      <th>Bahari</th>\n",
       "      <th>Budaya</th>\n",
       "      <th>Cagar Alam</th>\n",
       "      <th>Kebun Binatang</th>\n",
       "      <th>Pusat Perbelanjaan</th>\n",
       "      <th>Situs Sejarah</th>\n",
       "      <th>Taman Hiburan</th>\n",
       "      <th>Teater &amp; Pertunjukan</th>\n",
       "      <th>Tempat Ibadah</th>\n",
       "    </tr>\n",
       "  </thead>\n",
       "  <tbody>\n",
       "    <tr>\n",
       "      <th>0</th>\n",
       "      <td>1</td>\n",
       "      <td>Monumen Nasional</td>\n",
       "      <td>Budaya, Situs Sejarah</td>\n",
       "      <td>Jakarta</td>\n",
       "      <td>20000</td>\n",
       "      <td>4.6</td>\n",
       "      <td>15.0</td>\n",
       "      <td>0</td>\n",
       "      <td>1</td>\n",
       "      <td>0</td>\n",
       "      <td>...</td>\n",
       "      <td>0</td>\n",
       "      <td>0</td>\n",
       "      <td>1</td>\n",
       "      <td>0</td>\n",
       "      <td>0</td>\n",
       "      <td>0</td>\n",
       "      <td>1</td>\n",
       "      <td>0</td>\n",
       "      <td>0</td>\n",
       "      <td>0</td>\n",
       "    </tr>\n",
       "    <tr>\n",
       "      <th>1</th>\n",
       "      <td>2</td>\n",
       "      <td>Kota Tua</td>\n",
       "      <td>Budaya</td>\n",
       "      <td>Jakarta</td>\n",
       "      <td>0</td>\n",
       "      <td>4.6</td>\n",
       "      <td>90.0</td>\n",
       "      <td>0</td>\n",
       "      <td>1</td>\n",
       "      <td>0</td>\n",
       "      <td>...</td>\n",
       "      <td>0</td>\n",
       "      <td>0</td>\n",
       "      <td>1</td>\n",
       "      <td>0</td>\n",
       "      <td>0</td>\n",
       "      <td>0</td>\n",
       "      <td>0</td>\n",
       "      <td>0</td>\n",
       "      <td>0</td>\n",
       "      <td>0</td>\n",
       "    </tr>\n",
       "    <tr>\n",
       "      <th>2</th>\n",
       "      <td>3</td>\n",
       "      <td>Dunia Fantasi</td>\n",
       "      <td>Taman Hiburan, Bahari</td>\n",
       "      <td>Jakarta</td>\n",
       "      <td>270000</td>\n",
       "      <td>4.6</td>\n",
       "      <td>360.0</td>\n",
       "      <td>0</td>\n",
       "      <td>1</td>\n",
       "      <td>0</td>\n",
       "      <td>...</td>\n",
       "      <td>0</td>\n",
       "      <td>1</td>\n",
       "      <td>0</td>\n",
       "      <td>0</td>\n",
       "      <td>0</td>\n",
       "      <td>0</td>\n",
       "      <td>0</td>\n",
       "      <td>1</td>\n",
       "      <td>0</td>\n",
       "      <td>0</td>\n",
       "    </tr>\n",
       "  </tbody>\n",
       "</table>\n",
       "<p>3 rows × 21 columns</p>\n",
       "</div>"
      ],
      "text/plain": [
       "   Place_Id        Place_Name               Category     City   Price  Rating  \\\n",
       "0         1  Monumen Nasional  Budaya, Situs Sejarah  Jakarta   20000     4.6   \n",
       "1         2          Kota Tua                 Budaya  Jakarta       0     4.6   \n",
       "2         3     Dunia Fantasi  Taman Hiburan, Bahari  Jakarta  270000     4.6   \n",
       "\n",
       "   Time_Minutes  Bandung  Jakarta  Semarang  ...  Yogyakarta  Bahari  Budaya  \\\n",
       "0          15.0        0        1         0  ...           0       0       1   \n",
       "1          90.0        0        1         0  ...           0       0       1   \n",
       "2         360.0        0        1         0  ...           0       1       0   \n",
       "\n",
       "   Cagar Alam  Kebun Binatang  Pusat Perbelanjaan  Situs Sejarah  \\\n",
       "0           0               0                   0              1   \n",
       "1           0               0                   0              0   \n",
       "2           0               0                   0              0   \n",
       "\n",
       "   Taman Hiburan  Teater & Pertunjukan  Tempat Ibadah  \n",
       "0              0                     0              0  \n",
       "1              0                     0              0  \n",
       "2              1                     0              0  \n",
       "\n",
       "[3 rows x 21 columns]"
      ]
     },
     "execution_count": 36,
     "metadata": {},
     "output_type": "execute_result"
    }
   ],
   "source": [
    "new_tourism_df.head(3)"
   ]
  },
  {
   "cell_type": "code",
   "execution_count": 37,
   "metadata": {
    "id": "Sc9hT5PYBD09"
   },
   "outputs": [],
   "source": [
    "# Save for testing\n",
    "np.save('tourism_vector.npy', tourism_one_hot_df.to_numpy()[:, 1:])"
   ]
  },
  {
   "cell_type": "markdown",
   "metadata": {
    "id": "3GmL1gNORntN"
   },
   "source": [
    "## **Create `average_user_rating_df`**"
   ]
  },
  {
   "cell_type": "code",
   "execution_count": 38,
   "metadata": {
    "id": "_0WgKAHYZ-TT"
   },
   "outputs": [],
   "source": [
    "def get_average_user_rating(new_tourism_df: pd.DataFrame, rating_df: pd.DataFrame) -> pd.DataFrame:\n",
    "  \"\"\"\n",
    "  Calculate the average user ratings for tourism categories.\n",
    "\n",
    "  This function preprocesses the tourism and rating dataframes to calculate\n",
    "  the average ratings given by each user for various tourism categories.\n",
    "\n",
    "  Args:\n",
    "    new_tourism_df (pd.DataFrame): Dataframe containing tourism place\n",
    "        information. It must include a 'Place_Id' column and one-hot\n",
    "        encoded columns for tourism categories.\n",
    "    rating_df (pd.DataFrame): Dataframe containing user ratings for places\n",
    "      with columns 'Place_Id', 'User_Id', and 'Place_Ratings'.\n",
    "\n",
    "  Returns:\n",
    "    pd.DataFrame: A dataframe with average user ratings for each tourism\n",
    "      category. The resulting dataframe includes:\n",
    "        - 'User_Id': Unique identifier for users.\n",
    "        - Columns corresponding to tourism categories with average ratings\n",
    "          for each user.\n",
    "    \"\"\"\n",
    "\n",
    "  # Category list\n",
    "  categories = [\n",
    "    'Bahari', 'Budaya', 'Cagar Alam', 'Kebun Binatang', 'Pusat Perbelanjaan',\n",
    "    'Situs Sejarah' , 'Taman Hiburan', 'Teater & Pertunjukan', 'Tempat Ibadah'\n",
    "  ]\n",
    "\n",
    "  # Drop unnecessary columns from new_tourism_df\n",
    "  tourism_category_only_one_hot_df = new_tourism_df.drop(columns=[\n",
    "    'Place_Name', 'Category', 'City', 'Price', 'Rating', 'Time_Minutes',\n",
    "    'Bandung', 'Jakarta', 'Semarang', 'Surabaya', 'Yogyakarta'\n",
    "  ])\n",
    "\n",
    "  # Merge rating_df with tourism_category_only_one_hot_df based on 'Place_Id'\n",
    "  rating_one_hot_df = rating_df.merge(\n",
    "      tourism_category_only_one_hot_df, how='inner', on='Place_Id'\n",
    "  )\n",
    "\n",
    "  # Copy rating_one_hot_df for calculation\n",
    "  rating_not_one_hot_df = rating_one_hot_df.copy()\n",
    "\n",
    "  # Multiply the rating by each category to get a weighted score.\n",
    "  for category in categories:\n",
    "    rating_not_one_hot_df[category] *= rating_not_one_hot_df['Place_Ratings']\n",
    "\n",
    "  # Calculate total ratings and number of ratings per category per user\n",
    "  total_count = rating_one_hot_df.groupby('User_Id')[categories].sum()\n",
    "  total_rating = rating_not_one_hot_df.groupby('User_Id')[categories].sum()\n",
    "\n",
    "  # Average rating for each category\n",
    "  average_ratings = (total_rating / total_count)\n",
    "  average_ratings = round(average_ratings, 1)\n",
    "  average_ratings = average_ratings.fillna(0).reset_index()\n",
    "\n",
    "  # Add User_Id column to the final result\n",
    "  average_user_rating_df = pd.concat([total_count.reset_index()[['User_Id']],\n",
    "                                      average_ratings[categories]], axis=1)\n",
    "\n",
    "  return average_user_rating_df"
   ]
  },
  {
   "cell_type": "code",
   "execution_count": 39,
   "metadata": {
    "colab": {
     "base_uri": "https://localhost:8080/",
     "height": 767
    },
    "id": "qW5RsTMQcu3M",
    "outputId": "d500f4d5-e8c1-44c1-f480-01f2ce96a696"
   },
   "outputs": [
    {
     "data": {
      "text/html": [
       "<div>\n",
       "<style scoped>\n",
       "    .dataframe tbody tr th:only-of-type {\n",
       "        vertical-align: middle;\n",
       "    }\n",
       "\n",
       "    .dataframe tbody tr th {\n",
       "        vertical-align: top;\n",
       "    }\n",
       "\n",
       "    .dataframe thead th {\n",
       "        text-align: right;\n",
       "    }\n",
       "</style>\n",
       "<table border=\"1\" class=\"dataframe\">\n",
       "  <thead>\n",
       "    <tr style=\"text-align: right;\">\n",
       "      <th></th>\n",
       "      <th>User_Id</th>\n",
       "      <th>Bahari</th>\n",
       "      <th>Budaya</th>\n",
       "      <th>Cagar Alam</th>\n",
       "      <th>Kebun Binatang</th>\n",
       "      <th>Pusat Perbelanjaan</th>\n",
       "      <th>Situs Sejarah</th>\n",
       "      <th>Taman Hiburan</th>\n",
       "      <th>Teater &amp; Pertunjukan</th>\n",
       "      <th>Tempat Ibadah</th>\n",
       "    </tr>\n",
       "  </thead>\n",
       "  <tbody>\n",
       "    <tr>\n",
       "      <th>0</th>\n",
       "      <td>1</td>\n",
       "      <td>2.0</td>\n",
       "      <td>3.5</td>\n",
       "      <td>3.4</td>\n",
       "      <td>5.0</td>\n",
       "      <td>3.5</td>\n",
       "      <td>3.8</td>\n",
       "      <td>4.0</td>\n",
       "      <td>2.5</td>\n",
       "      <td>2.0</td>\n",
       "    </tr>\n",
       "    <tr>\n",
       "      <th>1</th>\n",
       "      <td>2</td>\n",
       "      <td>3.5</td>\n",
       "      <td>3.4</td>\n",
       "      <td>2.9</td>\n",
       "      <td>5.0</td>\n",
       "      <td>0.0</td>\n",
       "      <td>2.0</td>\n",
       "      <td>3.2</td>\n",
       "      <td>3.7</td>\n",
       "      <td>4.0</td>\n",
       "    </tr>\n",
       "    <tr>\n",
       "      <th>2</th>\n",
       "      <td>3</td>\n",
       "      <td>4.7</td>\n",
       "      <td>3.3</td>\n",
       "      <td>4.0</td>\n",
       "      <td>0.0</td>\n",
       "      <td>0.0</td>\n",
       "      <td>3.6</td>\n",
       "      <td>3.1</td>\n",
       "      <td>3.5</td>\n",
       "      <td>5.0</td>\n",
       "    </tr>\n",
       "    <tr>\n",
       "      <th>3</th>\n",
       "      <td>4</td>\n",
       "      <td>3.7</td>\n",
       "      <td>3.1</td>\n",
       "      <td>3.8</td>\n",
       "      <td>3.0</td>\n",
       "      <td>4.0</td>\n",
       "      <td>2.9</td>\n",
       "      <td>3.7</td>\n",
       "      <td>3.0</td>\n",
       "      <td>0.0</td>\n",
       "    </tr>\n",
       "    <tr>\n",
       "      <th>4</th>\n",
       "      <td>5</td>\n",
       "      <td>3.2</td>\n",
       "      <td>3.5</td>\n",
       "      <td>3.0</td>\n",
       "      <td>2.0</td>\n",
       "      <td>5.0</td>\n",
       "      <td>3.7</td>\n",
       "      <td>3.4</td>\n",
       "      <td>3.0</td>\n",
       "      <td>5.0</td>\n",
       "    </tr>\n",
       "    <tr>\n",
       "      <th>...</th>\n",
       "      <td>...</td>\n",
       "      <td>...</td>\n",
       "      <td>...</td>\n",
       "      <td>...</td>\n",
       "      <td>...</td>\n",
       "      <td>...</td>\n",
       "      <td>...</td>\n",
       "      <td>...</td>\n",
       "      <td>...</td>\n",
       "      <td>...</td>\n",
       "    </tr>\n",
       "    <tr>\n",
       "      <th>295</th>\n",
       "      <td>296</td>\n",
       "      <td>2.7</td>\n",
       "      <td>3.0</td>\n",
       "      <td>3.3</td>\n",
       "      <td>4.0</td>\n",
       "      <td>2.0</td>\n",
       "      <td>2.8</td>\n",
       "      <td>2.8</td>\n",
       "      <td>4.0</td>\n",
       "      <td>2.5</td>\n",
       "    </tr>\n",
       "    <tr>\n",
       "      <th>296</th>\n",
       "      <td>297</td>\n",
       "      <td>3.3</td>\n",
       "      <td>3.0</td>\n",
       "      <td>3.0</td>\n",
       "      <td>2.5</td>\n",
       "      <td>1.0</td>\n",
       "      <td>3.0</td>\n",
       "      <td>3.9</td>\n",
       "      <td>4.0</td>\n",
       "      <td>2.3</td>\n",
       "    </tr>\n",
       "    <tr>\n",
       "      <th>297</th>\n",
       "      <td>298</td>\n",
       "      <td>3.0</td>\n",
       "      <td>4.2</td>\n",
       "      <td>3.4</td>\n",
       "      <td>1.0</td>\n",
       "      <td>5.0</td>\n",
       "      <td>0.0</td>\n",
       "      <td>3.9</td>\n",
       "      <td>4.0</td>\n",
       "      <td>2.0</td>\n",
       "    </tr>\n",
       "    <tr>\n",
       "      <th>298</th>\n",
       "      <td>299</td>\n",
       "      <td>1.8</td>\n",
       "      <td>3.1</td>\n",
       "      <td>2.2</td>\n",
       "      <td>0.0</td>\n",
       "      <td>3.0</td>\n",
       "      <td>3.0</td>\n",
       "      <td>2.5</td>\n",
       "      <td>2.7</td>\n",
       "      <td>4.0</td>\n",
       "    </tr>\n",
       "    <tr>\n",
       "      <th>299</th>\n",
       "      <td>300</td>\n",
       "      <td>3.2</td>\n",
       "      <td>4.0</td>\n",
       "      <td>2.8</td>\n",
       "      <td>0.0</td>\n",
       "      <td>0.0</td>\n",
       "      <td>4.2</td>\n",
       "      <td>3.2</td>\n",
       "      <td>0.0</td>\n",
       "      <td>4.0</td>\n",
       "    </tr>\n",
       "  </tbody>\n",
       "</table>\n",
       "<p>300 rows × 10 columns</p>\n",
       "</div>"
      ],
      "text/plain": [
       "     User_Id  Bahari  Budaya  Cagar Alam  Kebun Binatang  Pusat Perbelanjaan  \\\n",
       "0          1     2.0     3.5         3.4             5.0                 3.5   \n",
       "1          2     3.5     3.4         2.9             5.0                 0.0   \n",
       "2          3     4.7     3.3         4.0             0.0                 0.0   \n",
       "3          4     3.7     3.1         3.8             3.0                 4.0   \n",
       "4          5     3.2     3.5         3.0             2.0                 5.0   \n",
       "..       ...     ...     ...         ...             ...                 ...   \n",
       "295      296     2.7     3.0         3.3             4.0                 2.0   \n",
       "296      297     3.3     3.0         3.0             2.5                 1.0   \n",
       "297      298     3.0     4.2         3.4             1.0                 5.0   \n",
       "298      299     1.8     3.1         2.2             0.0                 3.0   \n",
       "299      300     3.2     4.0         2.8             0.0                 0.0   \n",
       "\n",
       "     Situs Sejarah  Taman Hiburan  Teater & Pertunjukan  Tempat Ibadah  \n",
       "0              3.8            4.0                   2.5            2.0  \n",
       "1              2.0            3.2                   3.7            4.0  \n",
       "2              3.6            3.1                   3.5            5.0  \n",
       "3              2.9            3.7                   3.0            0.0  \n",
       "4              3.7            3.4                   3.0            5.0  \n",
       "..             ...            ...                   ...            ...  \n",
       "295            2.8            2.8                   4.0            2.5  \n",
       "296            3.0            3.9                   4.0            2.3  \n",
       "297            0.0            3.9                   4.0            2.0  \n",
       "298            3.0            2.5                   2.7            4.0  \n",
       "299            4.2            3.2                   0.0            4.0  \n",
       "\n",
       "[300 rows x 10 columns]"
      ]
     },
     "metadata": {},
     "output_type": "display_data"
    },
    {
     "name": "stdout",
     "output_type": "stream",
     "text": [
      "<class 'pandas.core.frame.DataFrame'>\n",
      "RangeIndex: 300 entries, 0 to 299\n",
      "Data columns (total 10 columns):\n",
      " #   Column                Non-Null Count  Dtype  \n",
      "---  ------                --------------  -----  \n",
      " 0   User_Id               300 non-null    int64  \n",
      " 1   Bahari                300 non-null    float64\n",
      " 2   Budaya                300 non-null    float64\n",
      " 3   Cagar Alam            300 non-null    float64\n",
      " 4   Kebun Binatang        300 non-null    float64\n",
      " 5   Pusat Perbelanjaan    300 non-null    float64\n",
      " 6   Situs Sejarah         300 non-null    float64\n",
      " 7   Taman Hiburan         300 non-null    float64\n",
      " 8   Teater & Pertunjukan  300 non-null    float64\n",
      " 9   Tempat Ibadah         300 non-null    float64\n",
      "dtypes: float64(9), int64(1)\n",
      "memory usage: 23.6 KB\n"
     ]
    },
    {
     "data": {
      "text/plain": [
       "None"
      ]
     },
     "metadata": {},
     "output_type": "display_data"
    }
   ],
   "source": [
    "# Create average_user_rating_df\n",
    "average_user_rating_df = get_average_user_rating(new_tourism_df, rating_df)\n",
    "display(average_user_rating_df)\n",
    "display(average_user_rating_df.info())"
   ]
  },
  {
   "cell_type": "code",
   "execution_count": 40,
   "metadata": {
    "id": "uqxoUFDWBZQK"
   },
   "outputs": [],
   "source": [
    "# Save for testing\n",
    "np.save('user_vector.npy', average_user_rating_df.to_numpy()[:, 1:])"
   ]
  },
  {
   "cell_type": "markdown",
   "metadata": {
    "id": "5GOIlbxYWTM7"
   },
   "source": [
    "# **Data Preparation**"
   ]
  },
  {
   "cell_type": "markdown",
   "metadata": {
    "id": "bC5OTT7yABMP"
   },
   "source": [
    "## **Create User Vector**"
   ]
  },
  {
   "cell_type": "code",
   "execution_count": 41,
   "metadata": {
    "colab": {
     "base_uri": "https://localhost:8080/",
     "height": 586
    },
    "id": "CQjUqjdUAllR",
    "outputId": "21f6e51e-804c-41ca-e56c-d35a8cedecc2"
   },
   "outputs": [
    {
     "name": "stdout",
     "output_type": "stream",
     "text": [
      "(9597, 9)\n",
      "[[2.  3.5 3.4 ... 4.  2.5 2. ]\n",
      " [2.  3.5 3.4 ... 4.  2.5 2. ]\n",
      " [2.  3.5 3.4 ... 4.  2.5 2. ]\n",
      " ...\n",
      " [3.2 4.  2.8 ... 3.2 0.  4. ]\n",
      " [3.2 4.  2.8 ... 3.2 0.  4. ]\n",
      " [3.2 4.  2.8 ... 3.2 0.  4. ]]\n"
     ]
    },
    {
     "data": {
      "text/html": [
       "<div>\n",
       "<style scoped>\n",
       "    .dataframe tbody tr th:only-of-type {\n",
       "        vertical-align: middle;\n",
       "    }\n",
       "\n",
       "    .dataframe tbody tr th {\n",
       "        vertical-align: top;\n",
       "    }\n",
       "\n",
       "    .dataframe thead th {\n",
       "        text-align: right;\n",
       "    }\n",
       "</style>\n",
       "<table border=\"1\" class=\"dataframe\">\n",
       "  <thead>\n",
       "    <tr style=\"text-align: right;\">\n",
       "      <th></th>\n",
       "      <th>User_Id</th>\n",
       "      <th>Bahari</th>\n",
       "      <th>Budaya</th>\n",
       "      <th>Cagar Alam</th>\n",
       "      <th>Kebun Binatang</th>\n",
       "      <th>Pusat Perbelanjaan</th>\n",
       "      <th>Situs Sejarah</th>\n",
       "      <th>Taman Hiburan</th>\n",
       "      <th>Teater &amp; Pertunjukan</th>\n",
       "      <th>Tempat Ibadah</th>\n",
       "    </tr>\n",
       "  </thead>\n",
       "  <tbody>\n",
       "    <tr>\n",
       "      <th>0</th>\n",
       "      <td>1</td>\n",
       "      <td>2.0</td>\n",
       "      <td>3.5</td>\n",
       "      <td>3.4</td>\n",
       "      <td>5.0</td>\n",
       "      <td>3.5</td>\n",
       "      <td>3.8</td>\n",
       "      <td>4.0</td>\n",
       "      <td>2.5</td>\n",
       "      <td>2.0</td>\n",
       "    </tr>\n",
       "    <tr>\n",
       "      <th>1</th>\n",
       "      <td>1</td>\n",
       "      <td>2.0</td>\n",
       "      <td>3.5</td>\n",
       "      <td>3.4</td>\n",
       "      <td>5.0</td>\n",
       "      <td>3.5</td>\n",
       "      <td>3.8</td>\n",
       "      <td>4.0</td>\n",
       "      <td>2.5</td>\n",
       "      <td>2.0</td>\n",
       "    </tr>\n",
       "    <tr>\n",
       "      <th>2</th>\n",
       "      <td>1</td>\n",
       "      <td>2.0</td>\n",
       "      <td>3.5</td>\n",
       "      <td>3.4</td>\n",
       "      <td>5.0</td>\n",
       "      <td>3.5</td>\n",
       "      <td>3.8</td>\n",
       "      <td>4.0</td>\n",
       "      <td>2.5</td>\n",
       "      <td>2.0</td>\n",
       "    </tr>\n",
       "    <tr>\n",
       "      <th>3</th>\n",
       "      <td>1</td>\n",
       "      <td>2.0</td>\n",
       "      <td>3.5</td>\n",
       "      <td>3.4</td>\n",
       "      <td>5.0</td>\n",
       "      <td>3.5</td>\n",
       "      <td>3.8</td>\n",
       "      <td>4.0</td>\n",
       "      <td>2.5</td>\n",
       "      <td>2.0</td>\n",
       "    </tr>\n",
       "    <tr>\n",
       "      <th>4</th>\n",
       "      <td>1</td>\n",
       "      <td>2.0</td>\n",
       "      <td>3.5</td>\n",
       "      <td>3.4</td>\n",
       "      <td>5.0</td>\n",
       "      <td>3.5</td>\n",
       "      <td>3.8</td>\n",
       "      <td>4.0</td>\n",
       "      <td>2.5</td>\n",
       "      <td>2.0</td>\n",
       "    </tr>\n",
       "    <tr>\n",
       "      <th>...</th>\n",
       "      <td>...</td>\n",
       "      <td>...</td>\n",
       "      <td>...</td>\n",
       "      <td>...</td>\n",
       "      <td>...</td>\n",
       "      <td>...</td>\n",
       "      <td>...</td>\n",
       "      <td>...</td>\n",
       "      <td>...</td>\n",
       "      <td>...</td>\n",
       "    </tr>\n",
       "    <tr>\n",
       "      <th>9592</th>\n",
       "      <td>300</td>\n",
       "      <td>3.2</td>\n",
       "      <td>4.0</td>\n",
       "      <td>2.8</td>\n",
       "      <td>0.0</td>\n",
       "      <td>0.0</td>\n",
       "      <td>4.2</td>\n",
       "      <td>3.2</td>\n",
       "      <td>0.0</td>\n",
       "      <td>4.0</td>\n",
       "    </tr>\n",
       "    <tr>\n",
       "      <th>9593</th>\n",
       "      <td>300</td>\n",
       "      <td>3.2</td>\n",
       "      <td>4.0</td>\n",
       "      <td>2.8</td>\n",
       "      <td>0.0</td>\n",
       "      <td>0.0</td>\n",
       "      <td>4.2</td>\n",
       "      <td>3.2</td>\n",
       "      <td>0.0</td>\n",
       "      <td>4.0</td>\n",
       "    </tr>\n",
       "    <tr>\n",
       "      <th>9594</th>\n",
       "      <td>300</td>\n",
       "      <td>3.2</td>\n",
       "      <td>4.0</td>\n",
       "      <td>2.8</td>\n",
       "      <td>0.0</td>\n",
       "      <td>0.0</td>\n",
       "      <td>4.2</td>\n",
       "      <td>3.2</td>\n",
       "      <td>0.0</td>\n",
       "      <td>4.0</td>\n",
       "    </tr>\n",
       "    <tr>\n",
       "      <th>9595</th>\n",
       "      <td>300</td>\n",
       "      <td>3.2</td>\n",
       "      <td>4.0</td>\n",
       "      <td>2.8</td>\n",
       "      <td>0.0</td>\n",
       "      <td>0.0</td>\n",
       "      <td>4.2</td>\n",
       "      <td>3.2</td>\n",
       "      <td>0.0</td>\n",
       "      <td>4.0</td>\n",
       "    </tr>\n",
       "    <tr>\n",
       "      <th>9596</th>\n",
       "      <td>300</td>\n",
       "      <td>3.2</td>\n",
       "      <td>4.0</td>\n",
       "      <td>2.8</td>\n",
       "      <td>0.0</td>\n",
       "      <td>0.0</td>\n",
       "      <td>4.2</td>\n",
       "      <td>3.2</td>\n",
       "      <td>0.0</td>\n",
       "      <td>4.0</td>\n",
       "    </tr>\n",
       "  </tbody>\n",
       "</table>\n",
       "<p>9597 rows × 10 columns</p>\n",
       "</div>"
      ],
      "text/plain": [
       "      User_Id  Bahari  Budaya  Cagar Alam  Kebun Binatang  Pusat Perbelanjaan  \\\n",
       "0           1     2.0     3.5         3.4             5.0                 3.5   \n",
       "1           1     2.0     3.5         3.4             5.0                 3.5   \n",
       "2           1     2.0     3.5         3.4             5.0                 3.5   \n",
       "3           1     2.0     3.5         3.4             5.0                 3.5   \n",
       "4           1     2.0     3.5         3.4             5.0                 3.5   \n",
       "...       ...     ...     ...         ...             ...                 ...   \n",
       "9592      300     3.2     4.0         2.8             0.0                 0.0   \n",
       "9593      300     3.2     4.0         2.8             0.0                 0.0   \n",
       "9594      300     3.2     4.0         2.8             0.0                 0.0   \n",
       "9595      300     3.2     4.0         2.8             0.0                 0.0   \n",
       "9596      300     3.2     4.0         2.8             0.0                 0.0   \n",
       "\n",
       "      Situs Sejarah  Taman Hiburan  Teater & Pertunjukan  Tempat Ibadah  \n",
       "0               3.8            4.0                   2.5            2.0  \n",
       "1               3.8            4.0                   2.5            2.0  \n",
       "2               3.8            4.0                   2.5            2.0  \n",
       "3               3.8            4.0                   2.5            2.0  \n",
       "4               3.8            4.0                   2.5            2.0  \n",
       "...             ...            ...                   ...            ...  \n",
       "9592            4.2            3.2                   0.0            4.0  \n",
       "9593            4.2            3.2                   0.0            4.0  \n",
       "9594            4.2            3.2                   0.0            4.0  \n",
       "9595            4.2            3.2                   0.0            4.0  \n",
       "9596            4.2            3.2                   0.0            4.0  \n",
       "\n",
       "[9597 rows x 10 columns]"
      ]
     },
     "metadata": {},
     "output_type": "display_data"
    }
   ],
   "source": [
    "def get_user_vector_df(rating_df: pd.DataFrame, average_user_rating_df: pd.DataFrame) -> pd.DataFrame:\n",
    "  user_vector_df = rating_df.merge(average_user_rating_df, how='inner', on='User_Id')\n",
    "  user_vector_df = user_vector_df.drop(columns=['Place_Id', 'Place_Ratings'])\n",
    "  return user_vector_df\n",
    "\n",
    "# Create user vector\n",
    "user_vector_df = get_user_vector_df(rating_df, average_user_rating_df)\n",
    "user_vector = user_vector_df.iloc[:, 1:].to_numpy()\n",
    "# idx = 0 is the User_Id variable, no need to use it\n",
    "\n",
    "print(user_vector.shape)\n",
    "print(user_vector)\n",
    "display(user_vector_df)"
   ]
  },
  {
   "cell_type": "markdown",
   "metadata": {
    "id": "T83MLvx0CR36"
   },
   "source": [
    "## **Create Tourism Vector**"
   ]
  },
  {
   "cell_type": "code",
   "execution_count": 42,
   "metadata": {
    "colab": {
     "base_uri": "https://localhost:8080/",
     "height": 388
    },
    "id": "HISQWtzeCVD4",
    "outputId": "eefdba18-0f6b-4238-82dd-e627143529df"
   },
   "outputs": [
    {
     "name": "stdout",
     "output_type": "stream",
     "text": [
      "(9597, 17)\n",
      "[[7.5e+04 4.6e+00 9.0e+01 ... 0.0e+00 0.0e+00 0.0e+00]\n",
      " [3.0e+03 4.1e+00 6.0e+01 ... 0.0e+00 0.0e+00 0.0e+00]\n",
      " [9.4e+04 4.5e+00 6.0e+01 ... 1.0e+00 0.0e+00 0.0e+00]\n",
      " ...\n",
      " [2.5e+04 4.3e+00 1.5e+02 ... 0.0e+00 0.0e+00 0.0e+00]\n",
      " [0.0e+00 4.8e+00 6.0e+01 ... 0.0e+00 0.0e+00 1.0e+00]\n",
      " [2.5e+03 4.5e+00 6.0e+01 ... 0.0e+00 0.0e+00 0.0e+00]]\n"
     ]
    },
    {
     "data": {
      "text/html": [
       "<div>\n",
       "<style scoped>\n",
       "    .dataframe tbody tr th:only-of-type {\n",
       "        vertical-align: middle;\n",
       "    }\n",
       "\n",
       "    .dataframe tbody tr th {\n",
       "        vertical-align: top;\n",
       "    }\n",
       "\n",
       "    .dataframe thead th {\n",
       "        text-align: right;\n",
       "    }\n",
       "</style>\n",
       "<table border=\"1\" class=\"dataframe\">\n",
       "  <thead>\n",
       "    <tr style=\"text-align: right;\">\n",
       "      <th></th>\n",
       "      <th>Place_Id</th>\n",
       "      <th>Price</th>\n",
       "      <th>Rating</th>\n",
       "      <th>Time_Minutes</th>\n",
       "      <th>Bandung</th>\n",
       "      <th>Jakarta</th>\n",
       "      <th>Semarang</th>\n",
       "      <th>Surabaya</th>\n",
       "      <th>Yogyakarta</th>\n",
       "      <th>Bahari</th>\n",
       "      <th>Budaya</th>\n",
       "      <th>Cagar Alam</th>\n",
       "      <th>Kebun Binatang</th>\n",
       "      <th>Pusat Perbelanjaan</th>\n",
       "      <th>Situs Sejarah</th>\n",
       "      <th>Taman Hiburan</th>\n",
       "      <th>Teater &amp; Pertunjukan</th>\n",
       "      <th>Tempat Ibadah</th>\n",
       "    </tr>\n",
       "  </thead>\n",
       "  <tbody>\n",
       "    <tr>\n",
       "      <th>0</th>\n",
       "      <td>179</td>\n",
       "      <td>75000</td>\n",
       "      <td>4.6</td>\n",
       "      <td>90.0</td>\n",
       "      <td>0</td>\n",
       "      <td>0</td>\n",
       "      <td>0</td>\n",
       "      <td>0</td>\n",
       "      <td>1</td>\n",
       "      <td>0</td>\n",
       "      <td>1</td>\n",
       "      <td>0</td>\n",
       "      <td>0</td>\n",
       "      <td>0</td>\n",
       "      <td>0</td>\n",
       "      <td>0</td>\n",
       "      <td>0</td>\n",
       "      <td>0</td>\n",
       "    </tr>\n",
       "    <tr>\n",
       "      <th>1</th>\n",
       "      <td>344</td>\n",
       "      <td>3000</td>\n",
       "      <td>4.1</td>\n",
       "      <td>60.0</td>\n",
       "      <td>0</td>\n",
       "      <td>0</td>\n",
       "      <td>1</td>\n",
       "      <td>0</td>\n",
       "      <td>0</td>\n",
       "      <td>1</td>\n",
       "      <td>0</td>\n",
       "      <td>0</td>\n",
       "      <td>0</td>\n",
       "      <td>0</td>\n",
       "      <td>0</td>\n",
       "      <td>0</td>\n",
       "      <td>0</td>\n",
       "      <td>0</td>\n",
       "    </tr>\n",
       "    <tr>\n",
       "      <th>2</th>\n",
       "      <td>5</td>\n",
       "      <td>94000</td>\n",
       "      <td>4.5</td>\n",
       "      <td>60.0</td>\n",
       "      <td>0</td>\n",
       "      <td>1</td>\n",
       "      <td>0</td>\n",
       "      <td>0</td>\n",
       "      <td>0</td>\n",
       "      <td>0</td>\n",
       "      <td>0</td>\n",
       "      <td>0</td>\n",
       "      <td>0</td>\n",
       "      <td>0</td>\n",
       "      <td>0</td>\n",
       "      <td>1</td>\n",
       "      <td>0</td>\n",
       "      <td>0</td>\n",
       "    </tr>\n",
       "    <tr>\n",
       "      <th>3</th>\n",
       "      <td>373</td>\n",
       "      <td>10000</td>\n",
       "      <td>4.5</td>\n",
       "      <td>60.0</td>\n",
       "      <td>0</td>\n",
       "      <td>0</td>\n",
       "      <td>1</td>\n",
       "      <td>0</td>\n",
       "      <td>0</td>\n",
       "      <td>0</td>\n",
       "      <td>1</td>\n",
       "      <td>0</td>\n",
       "      <td>0</td>\n",
       "      <td>0</td>\n",
       "      <td>1</td>\n",
       "      <td>0</td>\n",
       "      <td>0</td>\n",
       "      <td>0</td>\n",
       "    </tr>\n",
       "    <tr>\n",
       "      <th>4</th>\n",
       "      <td>101</td>\n",
       "      <td>0</td>\n",
       "      <td>4.0</td>\n",
       "      <td>60.0</td>\n",
       "      <td>0</td>\n",
       "      <td>0</td>\n",
       "      <td>0</td>\n",
       "      <td>0</td>\n",
       "      <td>1</td>\n",
       "      <td>0</td>\n",
       "      <td>1</td>\n",
       "      <td>0</td>\n",
       "      <td>0</td>\n",
       "      <td>1</td>\n",
       "      <td>1</td>\n",
       "      <td>0</td>\n",
       "      <td>0</td>\n",
       "      <td>0</td>\n",
       "    </tr>\n",
       "  </tbody>\n",
       "</table>\n",
       "</div>"
      ],
      "text/plain": [
       "   Place_Id  Price  Rating  Time_Minutes  Bandung  Jakarta  Semarang  \\\n",
       "0       179  75000     4.6          90.0        0        0         0   \n",
       "1       344   3000     4.1          60.0        0        0         1   \n",
       "2         5  94000     4.5          60.0        0        1         0   \n",
       "3       373  10000     4.5          60.0        0        0         1   \n",
       "4       101      0     4.0          60.0        0        0         0   \n",
       "\n",
       "   Surabaya  Yogyakarta  Bahari  Budaya  Cagar Alam  Kebun Binatang  \\\n",
       "0         0           1       0       1           0               0   \n",
       "1         0           0       1       0           0               0   \n",
       "2         0           0       0       0           0               0   \n",
       "3         0           0       0       1           0               0   \n",
       "4         0           1       0       1           0               0   \n",
       "\n",
       "   Pusat Perbelanjaan  Situs Sejarah  Taman Hiburan  Teater & Pertunjukan  \\\n",
       "0                   0              0              0                     0   \n",
       "1                   0              0              0                     0   \n",
       "2                   0              0              1                     0   \n",
       "3                   0              1              0                     0   \n",
       "4                   1              1              0                     0   \n",
       "\n",
       "   Tempat Ibadah  \n",
       "0              0  \n",
       "1              0  \n",
       "2              0  \n",
       "3              0  \n",
       "4              0  "
      ]
     },
     "metadata": {},
     "output_type": "display_data"
    }
   ],
   "source": [
    "def get_tourism_vector_df(rating_df: pd.DataFrame, tourism_one_hot_df: pd.DataFrame) -> pd.DataFrame:\n",
    "  tourism_vector_df = rating_df.merge(tourism_one_hot_df, how='left', on='Place_Id')\n",
    "  tourism_vector_df = tourism_vector_df.drop(columns=['User_Id', 'Place_Ratings'])\n",
    "  return tourism_vector_df\n",
    "\n",
    "# Create tourism vector\n",
    "tourism_vector_df = get_tourism_vector_df(rating_df, tourism_one_hot_df)\n",
    "tourism_vector = tourism_vector_df.iloc[:, 1:].to_numpy()\n",
    "# idx = 0 is the Place_Id variable, no need to use it\n",
    "\n",
    "print(tourism_vector.shape)\n",
    "print(tourism_vector)\n",
    "display(tourism_vector_df.head(5))"
   ]
  },
  {
   "cell_type": "markdown",
   "metadata": {
    "id": "p9ZL3jUkFho4"
   },
   "source": [
    "## **Create Y Vector**"
   ]
  },
  {
   "cell_type": "code",
   "execution_count": 43,
   "metadata": {
    "colab": {
     "base_uri": "https://localhost:8080/"
    },
    "id": "87IslSzLFi5U",
    "outputId": "f5d4ab3e-7e2c-4d78-a3c5-2824b1a261c9"
   },
   "outputs": [
    {
     "data": {
      "text/plain": [
       "array([[3],\n",
       "       [2],\n",
       "       [5],\n",
       "       ...,\n",
       "       [3],\n",
       "       [4],\n",
       "       [2]])"
      ]
     },
     "execution_count": 43,
     "metadata": {},
     "output_type": "execute_result"
    }
   ],
   "source": [
    "def get_y_vector(rating_df: pd.DataFrame) -> np.ndarray:\n",
    "  return rating_df.loc[:, 'Place_Ratings'].copy().to_numpy().reshape(-1, 1)\n",
    "\n",
    "# Create y vector\n",
    "y = get_y_vector(rating_df)\n",
    "y"
   ]
  },
  {
   "cell_type": "code",
   "execution_count": 44,
   "metadata": {
    "colab": {
     "base_uri": "https://localhost:8080/"
    },
    "id": "x_g9svD93XHs",
    "outputId": "08ea1be4-a44d-4059-aae9-9f7592cca824"
   },
   "outputs": [
    {
     "name": "stdout",
     "output_type": "stream",
     "text": [
      "(9597, 9)\n",
      "(9597, 17)\n",
      "(9597, 1)\n"
     ]
    }
   ],
   "source": [
    "# Check all input shape\n",
    "print(user_vector.shape)\n",
    "print(tourism_vector.shape)\n",
    "print(y.shape)"
   ]
  },
  {
   "cell_type": "markdown",
   "metadata": {
    "id": "2BteDy8vGNOC"
   },
   "source": [
    "## **Data Splitting**"
   ]
  },
  {
   "cell_type": "code",
   "execution_count": 45,
   "metadata": {
    "colab": {
     "base_uri": "https://localhost:8080/"
    },
    "id": "eyVLHKZj3XHt",
    "outputId": "9ad89601-a36b-4db4-bb15-4e3b8891e982"
   },
   "outputs": [
    {
     "name": "stdout",
     "output_type": "stream",
     "text": [
      "User Matrix\n",
      "Train :  (7341, 9)\n",
      "Val   :  (816, 9)\n",
      "Test  :  (1440, 9) \n",
      "\n",
      "Tourism Matrix\n",
      "Train :  (7341, 17)\n",
      "Val   :  (816, 17)\n",
      "Test  :  (1440, 17) \n",
      "\n",
      "y Vector\n",
      "Train :  (7341, 1)\n",
      "Val   :  (816, 1)\n",
      "Test  :  (1440, 1)\n"
     ]
    }
   ],
   "source": [
    "random_state = 42\n",
    "test_size = 0.15\n",
    "val_size = 0.1\n",
    "\n",
    "# Train-Test Split\n",
    "user_vector_train, user_vector_test = train_test_split(\n",
    "    user_vector, test_size=test_size, shuffle=True, random_state=random_state)\n",
    "tourism_vector_train, tourism_vector_test = train_test_split(\n",
    "    tourism_vector, test_size=test_size, shuffle=True, random_state=random_state)\n",
    "y_train, y_test = train_test_split(y, test_size=test_size, shuffle=True, random_state=random_state)\n",
    "\n",
    "# Train-Validation Split\n",
    "user_vector_train, user_vector_val = train_test_split(\n",
    "    user_vector_train, test_size=val_size, shuffle=True, random_state=random_state)\n",
    "tourism_vector_train, tourism_vector_val = train_test_split(\n",
    "    tourism_vector_train, test_size=val_size, shuffle=True, random_state=random_state)\n",
    "y_train, y_val = train_test_split(y_train, test_size=val_size, shuffle=True, random_state=random_state)\n",
    "\n",
    "print('User Matrix')\n",
    "print('Train : ', user_vector_train.shape)\n",
    "print('Val   : ', user_vector_val.shape)\n",
    "print('Test  : ', user_vector_test.shape, '\\n')\n",
    "\n",
    "print('Tourism Matrix')\n",
    "print('Train : ', tourism_vector_train.shape)\n",
    "print('Val   : ', tourism_vector_val.shape)\n",
    "print('Test  : ', tourism_vector_test.shape, '\\n')\n",
    "\n",
    "print('y Vector')\n",
    "print('Train : ', y_train.shape)\n",
    "print('Val   : ', y_val.shape)\n",
    "print('Test  : ', y_test.shape)"
   ]
  },
  {
   "cell_type": "markdown",
   "metadata": {
    "id": "ibGpLfDtIh7u"
   },
   "source": [
    "## **Data Scaling**"
   ]
  },
  {
   "cell_type": "code",
   "execution_count": 46,
   "metadata": {
    "colab": {
     "base_uri": "https://localhost:8080/"
    },
    "id": "i_BEMS_13XHu",
    "outputId": "ff7ceffd-7e9e-4317-8cfc-c685e9a97ef9"
   },
   "outputs": [
    {
     "name": "stdout",
     "output_type": "stream",
     "text": [
      "True\n",
      "True\n",
      "True\n",
      "True\n",
      "True\n",
      "True\n",
      "True\n",
      "True\n",
      "True\n"
     ]
    }
   ],
   "source": [
    "# scale training data\n",
    "user_vector_train_unscaled = user_vector_train\n",
    "user_vector_val_unscaled = user_vector_val\n",
    "user_vector_test_unscaled = user_vector_test\n",
    "\n",
    "tourism_vector_train_unscaled = tourism_vector_train\n",
    "tourism_vector_val_unscaled = tourism_vector_val\n",
    "tourism_vector_test_unscaled = tourism_vector_test\n",
    "\n",
    "y_train_unscaled = y_train\n",
    "y_val_unscaled = y_val\n",
    "y_test_unscaled = y_test\n",
    "\n",
    "user_scaler = StandardScaler()\n",
    "user_vector_train_scaled = user_scaler.fit_transform(user_vector_train)\n",
    "user_vector_val_scaled = user_scaler.transform(user_vector_val)\n",
    "user_vector_test_scaled = user_scaler.transform(user_vector_test)\n",
    "\n",
    "tourism_scaler = StandardScaler()\n",
    "tourism_vector_train_scaled = tourism_scaler.fit_transform(tourism_vector_train)\n",
    "tourism_vector_val_scaled = tourism_scaler.transform(tourism_vector_val)\n",
    "tourism_vector_test_scaled = tourism_scaler.transform(tourism_vector_test)\n",
    "\n",
    "target_scaler = MinMaxScaler()\n",
    "y_train_scaled = target_scaler.fit_transform(y_train)\n",
    "y_val_scaled = target_scaler.transform(y_val)\n",
    "y_test_scaled = target_scaler.transform(y_test)\n",
    "\n",
    "print(np.allclose(tourism_vector_train_unscaled, tourism_scaler.inverse_transform(tourism_vector_train_scaled)))\n",
    "print(np.allclose(tourism_vector_val_unscaled, tourism_scaler.inverse_transform(tourism_vector_val_scaled)))\n",
    "print(np.allclose(tourism_vector_test_unscaled, tourism_scaler.inverse_transform(tourism_vector_test_scaled)))\n",
    "\n",
    "print(np.allclose(user_vector_train_unscaled, user_scaler.inverse_transform(user_vector_train_scaled)))\n",
    "print(np.allclose(user_vector_val_unscaled, user_scaler.inverse_transform(user_vector_val_scaled)))\n",
    "print(np.allclose(user_vector_test_unscaled, user_scaler.inverse_transform(user_vector_test_scaled)))\n",
    "\n",
    "print(np.allclose(y_train_unscaled, target_scaler.inverse_transform(y_train_scaled)))\n",
    "print(np.allclose(y_val_unscaled, target_scaler.inverse_transform(y_val_scaled)))\n",
    "print(np.allclose(y_test_unscaled, target_scaler.inverse_transform(y_test_scaled)))"
   ]
  },
  {
   "cell_type": "code",
   "execution_count": 47,
   "metadata": {
    "colab": {
     "base_uri": "https://localhost:8080/"
    },
    "id": "tlSniKIq9rGa",
    "outputId": "d0924d9a-749a-42ce-f7b4-865a18d06645"
   },
   "outputs": [
    {
     "data": {
      "text/plain": [
       "['target_scaler.gz']"
      ]
     },
     "execution_count": 47,
     "metadata": {},
     "output_type": "execute_result"
    }
   ],
   "source": [
    "# Save scaler\n",
    "joblib.dump(user_scaler, 'user_scaler.gz')\n",
    "joblib.dump(tourism_scaler, 'tourism_scaler.gz')\n",
    "joblib.dump(target_scaler, 'target_scaler.gz')"
   ]
  },
  {
   "cell_type": "markdown",
   "metadata": {
    "id": "_FJM6G6351HT"
   },
   "source": [
    "# **Training & Evaluation**"
   ]
  },
  {
   "cell_type": "markdown",
   "metadata": {
    "id": "4YWElul9Ni79"
   },
   "source": [
    "## **Create Model**"
   ]
  },
  {
   "cell_type": "code",
   "execution_count": 99,
   "metadata": {
    "id": "riWoQafyQv5B"
   },
   "outputs": [],
   "source": [
    "# Custom layer for L2 normalization\n",
    "# https://www.tensorflow.org/guide/keras/serialization_and_saving#custom_objects\n",
    "@keras.saving.register_keras_serializable(package=\"ContentBased\")\n",
    "class L2NormalizeLayer(tf.keras.layers.Layer):\n",
    "    def __init__(self, axis=1, **kwargs):\n",
    "        super(L2NormalizeLayer, self).__init__(**kwargs)\n",
    "        self.axis = axis\n",
    "\n",
    "    def call(self, inputs):\n",
    "        return tf.math.l2_normalize(inputs, axis=self.axis)\n",
    "\n",
    "    def get_config(self):\n",
    "        return {'axis': self.axis}"
   ]
  },
  {
   "cell_type": "code",
   "execution_count": 100,
   "metadata": {
    "colab": {
     "base_uri": "https://localhost:8080/",
     "height": 433
    },
    "id": "dMR00lnCKKpW",
    "outputId": "047351b6-83e5-46bf-dfce-0aed79a34d4c"
   },
   "outputs": [
    {
     "data": {
      "text/html": [
       "<pre style=\"white-space:pre;overflow-x:auto;line-height:normal;font-family:Menlo,'DejaVu Sans Mono',consolas,'Courier New',monospace\"><span style=\"font-weight: bold\">Model: \"functional_38\"</span>\n",
       "</pre>\n"
      ],
      "text/plain": [
       "\u001b[1mModel: \"functional_38\"\u001b[0m\n"
      ]
     },
     "metadata": {},
     "output_type": "display_data"
    },
    {
     "data": {
      "text/html": [
       "<pre style=\"white-space:pre;overflow-x:auto;line-height:normal;font-family:Menlo,'DejaVu Sans Mono',consolas,'Courier New',monospace\">┏━━━━━━━━━━━━━━━━━━━━━┳━━━━━━━━━━━━━━━━━━━┳━━━━━━━━━━━━┳━━━━━━━━━━━━━━━━━━━┓\n",
       "┃<span style=\"font-weight: bold\"> Layer (type)        </span>┃<span style=\"font-weight: bold\"> Output Shape      </span>┃<span style=\"font-weight: bold\">    Param # </span>┃<span style=\"font-weight: bold\"> Connected to      </span>┃\n",
       "┡━━━━━━━━━━━━━━━━━━━━━╇━━━━━━━━━━━━━━━━━━━╇━━━━━━━━━━━━╇━━━━━━━━━━━━━━━━━━━┩\n",
       "│ input_layer_15      │ (<span style=\"color: #00d7ff; text-decoration-color: #00d7ff\">None</span>, <span style=\"color: #00af00; text-decoration-color: #00af00\">9</span>)         │          <span style=\"color: #00af00; text-decoration-color: #00af00\">0</span> │ -                 │\n",
       "│ (<span style=\"color: #0087ff; text-decoration-color: #0087ff\">InputLayer</span>)        │                   │            │                   │\n",
       "├─────────────────────┼───────────────────┼────────────┼───────────────────┤\n",
       "│ input_layer_17      │ (<span style=\"color: #00d7ff; text-decoration-color: #00d7ff\">None</span>, <span style=\"color: #00af00; text-decoration-color: #00af00\">17</span>)        │          <span style=\"color: #00af00; text-decoration-color: #00af00\">0</span> │ -                 │\n",
       "│ (<span style=\"color: #0087ff; text-decoration-color: #0087ff\">InputLayer</span>)        │                   │            │                   │\n",
       "├─────────────────────┼───────────────────┼────────────┼───────────────────┤\n",
       "│ sequential_6        │ (<span style=\"color: #00d7ff; text-decoration-color: #00d7ff\">None</span>, <span style=\"color: #00af00; text-decoration-color: #00af00\">10</span>)        │      <span style=\"color: #00af00; text-decoration-color: #00af00\">3,050</span> │ input_layer_15[<span style=\"color: #00af00; text-decoration-color: #00af00\">0</span>… │\n",
       "│ (<span style=\"color: #0087ff; text-decoration-color: #0087ff\">Sequential</span>)        │                   │            │                   │\n",
       "├─────────────────────┼───────────────────┼────────────┼───────────────────┤\n",
       "│ sequential_7        │ (<span style=\"color: #00d7ff; text-decoration-color: #00d7ff\">None</span>, <span style=\"color: #00af00; text-decoration-color: #00af00\">10</span>)        │      <span style=\"color: #00af00; text-decoration-color: #00af00\">3,562</span> │ input_layer_17[<span style=\"color: #00af00; text-decoration-color: #00af00\">0</span>… │\n",
       "│ (<span style=\"color: #0087ff; text-decoration-color: #0087ff\">Sequential</span>)        │                   │            │                   │\n",
       "├─────────────────────┼───────────────────┼────────────┼───────────────────┤\n",
       "│ l2_normalize_layer… │ (<span style=\"color: #00d7ff; text-decoration-color: #00d7ff\">None</span>, <span style=\"color: #00af00; text-decoration-color: #00af00\">10</span>)        │          <span style=\"color: #00af00; text-decoration-color: #00af00\">0</span> │ sequential_6[<span style=\"color: #00af00; text-decoration-color: #00af00\">0</span>][<span style=\"color: #00af00; text-decoration-color: #00af00\">…</span> │\n",
       "│ (<span style=\"color: #0087ff; text-decoration-color: #0087ff\">L2NormalizeLayer</span>)  │                   │            │                   │\n",
       "├─────────────────────┼───────────────────┼────────────┼───────────────────┤\n",
       "│ l2_normalize_layer… │ (<span style=\"color: #00d7ff; text-decoration-color: #00d7ff\">None</span>, <span style=\"color: #00af00; text-decoration-color: #00af00\">10</span>)        │          <span style=\"color: #00af00; text-decoration-color: #00af00\">0</span> │ sequential_7[<span style=\"color: #00af00; text-decoration-color: #00af00\">0</span>][<span style=\"color: #00af00; text-decoration-color: #00af00\">…</span> │\n",
       "│ (<span style=\"color: #0087ff; text-decoration-color: #0087ff\">L2NormalizeLayer</span>)  │                   │            │                   │\n",
       "├─────────────────────┼───────────────────┼────────────┼───────────────────┤\n",
       "│ dot_3 (<span style=\"color: #0087ff; text-decoration-color: #0087ff\">Dot</span>)         │ (<span style=\"color: #00d7ff; text-decoration-color: #00d7ff\">None</span>, <span style=\"color: #00af00; text-decoration-color: #00af00\">1</span>)         │          <span style=\"color: #00af00; text-decoration-color: #00af00\">0</span> │ l2_normalize_lay… │\n",
       "│                     │                   │            │ l2_normalize_lay… │\n",
       "└─────────────────────┴───────────────────┴────────────┴───────────────────┘\n",
       "</pre>\n"
      ],
      "text/plain": [
       "┏━━━━━━━━━━━━━━━━━━━━━┳━━━━━━━━━━━━━━━━━━━┳━━━━━━━━━━━━┳━━━━━━━━━━━━━━━━━━━┓\n",
       "┃\u001b[1m \u001b[0m\u001b[1mLayer (type)       \u001b[0m\u001b[1m \u001b[0m┃\u001b[1m \u001b[0m\u001b[1mOutput Shape     \u001b[0m\u001b[1m \u001b[0m┃\u001b[1m \u001b[0m\u001b[1m   Param #\u001b[0m\u001b[1m \u001b[0m┃\u001b[1m \u001b[0m\u001b[1mConnected to     \u001b[0m\u001b[1m \u001b[0m┃\n",
       "┡━━━━━━━━━━━━━━━━━━━━━╇━━━━━━━━━━━━━━━━━━━╇━━━━━━━━━━━━╇━━━━━━━━━━━━━━━━━━━┩\n",
       "│ input_layer_15      │ (\u001b[38;5;45mNone\u001b[0m, \u001b[38;5;34m9\u001b[0m)         │          \u001b[38;5;34m0\u001b[0m │ -                 │\n",
       "│ (\u001b[38;5;33mInputLayer\u001b[0m)        │                   │            │                   │\n",
       "├─────────────────────┼───────────────────┼────────────┼───────────────────┤\n",
       "│ input_layer_17      │ (\u001b[38;5;45mNone\u001b[0m, \u001b[38;5;34m17\u001b[0m)        │          \u001b[38;5;34m0\u001b[0m │ -                 │\n",
       "│ (\u001b[38;5;33mInputLayer\u001b[0m)        │                   │            │                   │\n",
       "├─────────────────────┼───────────────────┼────────────┼───────────────────┤\n",
       "│ sequential_6        │ (\u001b[38;5;45mNone\u001b[0m, \u001b[38;5;34m10\u001b[0m)        │      \u001b[38;5;34m3,050\u001b[0m │ input_layer_15[\u001b[38;5;34m0\u001b[0m… │\n",
       "│ (\u001b[38;5;33mSequential\u001b[0m)        │                   │            │                   │\n",
       "├─────────────────────┼───────────────────┼────────────┼───────────────────┤\n",
       "│ sequential_7        │ (\u001b[38;5;45mNone\u001b[0m, \u001b[38;5;34m10\u001b[0m)        │      \u001b[38;5;34m3,562\u001b[0m │ input_layer_17[\u001b[38;5;34m0\u001b[0m… │\n",
       "│ (\u001b[38;5;33mSequential\u001b[0m)        │                   │            │                   │\n",
       "├─────────────────────┼───────────────────┼────────────┼───────────────────┤\n",
       "│ l2_normalize_layer… │ (\u001b[38;5;45mNone\u001b[0m, \u001b[38;5;34m10\u001b[0m)        │          \u001b[38;5;34m0\u001b[0m │ sequential_6[\u001b[38;5;34m0\u001b[0m][\u001b[38;5;34m…\u001b[0m │\n",
       "│ (\u001b[38;5;33mL2NormalizeLayer\u001b[0m)  │                   │            │                   │\n",
       "├─────────────────────┼───────────────────┼────────────┼───────────────────┤\n",
       "│ l2_normalize_layer… │ (\u001b[38;5;45mNone\u001b[0m, \u001b[38;5;34m10\u001b[0m)        │          \u001b[38;5;34m0\u001b[0m │ sequential_7[\u001b[38;5;34m0\u001b[0m][\u001b[38;5;34m…\u001b[0m │\n",
       "│ (\u001b[38;5;33mL2NormalizeLayer\u001b[0m)  │                   │            │                   │\n",
       "├─────────────────────┼───────────────────┼────────────┼───────────────────┤\n",
       "│ dot_3 (\u001b[38;5;33mDot\u001b[0m)         │ (\u001b[38;5;45mNone\u001b[0m, \u001b[38;5;34m1\u001b[0m)         │          \u001b[38;5;34m0\u001b[0m │ l2_normalize_lay… │\n",
       "│                     │                   │            │ l2_normalize_lay… │\n",
       "└─────────────────────┴───────────────────┴────────────┴───────────────────┘\n"
      ]
     },
     "metadata": {},
     "output_type": "display_data"
    },
    {
     "data": {
      "text/html": [
       "<pre style=\"white-space:pre;overflow-x:auto;line-height:normal;font-family:Menlo,'DejaVu Sans Mono',consolas,'Courier New',monospace\"><span style=\"font-weight: bold\"> Total params: </span><span style=\"color: #00af00; text-decoration-color: #00af00\">6,612</span> (25.83 KB)\n",
       "</pre>\n"
      ],
      "text/plain": [
       "\u001b[1m Total params: \u001b[0m\u001b[38;5;34m6,612\u001b[0m (25.83 KB)\n"
      ]
     },
     "metadata": {},
     "output_type": "display_data"
    },
    {
     "data": {
      "text/html": [
       "<pre style=\"white-space:pre;overflow-x:auto;line-height:normal;font-family:Menlo,'DejaVu Sans Mono',consolas,'Courier New',monospace\"><span style=\"font-weight: bold\"> Trainable params: </span><span style=\"color: #00af00; text-decoration-color: #00af00\">6,612</span> (25.83 KB)\n",
       "</pre>\n"
      ],
      "text/plain": [
       "\u001b[1m Trainable params: \u001b[0m\u001b[38;5;34m6,612\u001b[0m (25.83 KB)\n"
      ]
     },
     "metadata": {},
     "output_type": "display_data"
    },
    {
     "data": {
      "text/html": [
       "<pre style=\"white-space:pre;overflow-x:auto;line-height:normal;font-family:Menlo,'DejaVu Sans Mono',consolas,'Courier New',monospace\"><span style=\"font-weight: bold\"> Non-trainable params: </span><span style=\"color: #00af00; text-decoration-color: #00af00\">0</span> (0.00 B)\n",
       "</pre>\n"
      ],
      "text/plain": [
       "\u001b[1m Non-trainable params: \u001b[0m\u001b[38;5;34m0\u001b[0m (0.00 B)\n"
      ]
     },
     "metadata": {},
     "output_type": "display_data"
    }
   ],
   "source": [
    "num_outputs = 10 # Vector result dimensions\n",
    "tf.random.set_seed(42)\n",
    "\n",
    "user_NN = tf.keras.models.Sequential([\n",
    "    tf.keras.layers.Dense(64, activation=\"relu\", kernel_regularizer=l2(0.01)),\n",
    "    tf.keras.layers.Dropout(0.2),\n",
    "    tf.keras.layers.Dense(32, activation=\"relu\"),\n",
    "    tf.keras.layers.Dense(num_outputs)\n",
    "])\n",
    "\n",
    "tourism_NN = tf.keras.models.Sequential([\n",
    "    tf.keras.layers.Dense(64, activation=\"relu\", kernel_regularizer=l2(0.01)),\n",
    "    tf.keras.layers.Dropout(0.2),\n",
    "    tf.keras.layers.Dense(32, activation=\"relu\"),\n",
    "    tf.keras.layers.Dense(num_outputs)\n",
    "])\n",
    "\n",
    "input_user = tf.keras.layers.Input(shape=(user_vector_train.shape[1],))\n",
    "vu = user_NN(input_user)\n",
    "vu = L2NormalizeLayer(axis=1)(vu)\n",
    "# vu = tf.keras.layers.Lambda(lambda x: tf.math.l2_normalize(x, axis=1), output_shape=(num_outputs,))(vu)\n",
    "\n",
    "input_tourism = tf.keras.layers.Input(shape=(tourism_vector_train.shape[1],))\n",
    "vt = tourism_NN(input_tourism)\n",
    "vt = L2NormalizeLayer(axis=1)(vt)\n",
    "# vt = tf.keras.layers.Lambda(lambda x: tf.math.l2_normalize(x, axis=1), output_shape=(num_outputs,))(vt)\n",
    "\n",
    "output = tf.keras.layers.Dot(axes=1)([vu, vt])\n",
    "\n",
    "model = tf.keras.Model([input_user, input_tourism], output)\n",
    "model.summary()"
   ]
  },
  {
   "cell_type": "markdown",
   "metadata": {
    "id": "4SsChh2BBVJ0"
   },
   "source": [
    "## **Tranining Model**"
   ]
  },
  {
   "cell_type": "code",
   "execution_count": 101,
   "metadata": {
    "colab": {
     "base_uri": "https://localhost:8080/"
    },
    "id": "IaYxOwxUN9IO",
    "outputId": "03b68f75-567c-4606-f93a-646b8254ef16"
   },
   "outputs": [
    {
     "name": "stdout",
     "output_type": "stream",
     "text": [
      "Epoch 1/45\n",
      "\u001b[1m230/230\u001b[0m \u001b[32m━━━━━━━━━━━━━━━━━━━━\u001b[0m\u001b[37m\u001b[0m \u001b[1m3s\u001b[0m 3ms/step - loss: 0.7179 - root_mean_squared_error: 0.4466 - val_loss: 0.4596 - val_root_mean_squared_error: 0.3380 - learning_rate: 0.0010\n",
      "Epoch 2/45\n",
      "\u001b[1m230/230\u001b[0m \u001b[32m━━━━━━━━━━━━━━━━━━━━\u001b[0m\u001b[37m\u001b[0m \u001b[1m1s\u001b[0m 2ms/step - loss: 0.4373 - root_mean_squared_error: 0.3506 - val_loss: 0.3521 - val_root_mean_squared_error: 0.3357 - learning_rate: 0.0010\n",
      "Epoch 3/45\n",
      "\u001b[1m230/230\u001b[0m \u001b[32m━━━━━━━━━━━━━━━━━━━━\u001b[0m\u001b[37m\u001b[0m \u001b[1m1s\u001b[0m 3ms/step - loss: 0.3438 - root_mean_squared_error: 0.3396 - val_loss: 0.3114 - val_root_mean_squared_error: 0.3328 - learning_rate: 0.0010\n",
      "Epoch 4/45\n",
      "\u001b[1m230/230\u001b[0m \u001b[32m━━━━━━━━━━━━━━━━━━━━\u001b[0m\u001b[37m\u001b[0m \u001b[1m1s\u001b[0m 2ms/step - loss: 0.3106 - root_mean_squared_error: 0.3363 - val_loss: 0.2959 - val_root_mean_squared_error: 0.3307 - learning_rate: 0.0010\n",
      "Epoch 5/45\n",
      "\u001b[1m230/230\u001b[0m \u001b[32m━━━━━━━━━━━━━━━━━━━━\u001b[0m\u001b[37m\u001b[0m \u001b[1m1s\u001b[0m 3ms/step - loss: 0.2961 - root_mean_squared_error: 0.3332 - val_loss: 0.2903 - val_root_mean_squared_error: 0.3293 - learning_rate: 0.0010\n",
      "Epoch 6/45\n",
      "\u001b[1m230/230\u001b[0m \u001b[32m━━━━━━━━━━━━━━━━━━━━\u001b[0m\u001b[37m\u001b[0m \u001b[1m1s\u001b[0m 3ms/step - loss: 0.2911 - root_mean_squared_error: 0.3323 - val_loss: 0.2896 - val_root_mean_squared_error: 0.3322 - learning_rate: 0.0010\n",
      "Epoch 7/45\n",
      "\u001b[1m230/230\u001b[0m \u001b[32m━━━━━━━━━━━━━━━━━━━━\u001b[0m\u001b[37m\u001b[0m \u001b[1m1s\u001b[0m 2ms/step - loss: 0.2897 - root_mean_squared_error: 0.3333 - val_loss: 0.2864 - val_root_mean_squared_error: 0.3300 - learning_rate: 0.0010\n",
      "Epoch 8/45\n",
      "\u001b[1m230/230\u001b[0m \u001b[32m━━━━━━━━━━━━━━━━━━━━\u001b[0m\u001b[37m\u001b[0m \u001b[1m1s\u001b[0m 3ms/step - loss: 0.2829 - root_mean_squared_error: 0.3281 - val_loss: 0.2858 - val_root_mean_squared_error: 0.3294 - learning_rate: 0.0010\n",
      "Epoch 9/45\n",
      "\u001b[1m230/230\u001b[0m \u001b[32m━━━━━━━━━━━━━━━━━━━━\u001b[0m\u001b[37m\u001b[0m \u001b[1m1s\u001b[0m 2ms/step - loss: 0.2835 - root_mean_squared_error: 0.3286 - val_loss: 0.2868 - val_root_mean_squared_error: 0.3303 - learning_rate: 0.0010\n",
      "Epoch 10/45\n",
      "\u001b[1m230/230\u001b[0m \u001b[32m━━━━━━━━━━━━━━━━━━━━\u001b[0m\u001b[37m\u001b[0m \u001b[1m1s\u001b[0m 2ms/step - loss: 0.2847 - root_mean_squared_error: 0.3310 - val_loss: 0.2859 - val_root_mean_squared_error: 0.3289 - learning_rate: 0.0010\n",
      "Epoch 11/45\n",
      "\u001b[1m230/230\u001b[0m \u001b[32m━━━━━━━━━━━━━━━━━━━━\u001b[0m\u001b[37m\u001b[0m \u001b[1m1s\u001b[0m 2ms/step - loss: 0.2823 - root_mean_squared_error: 0.3284 - val_loss: 0.2851 - val_root_mean_squared_error: 0.3288 - learning_rate: 1.0000e-04\n",
      "Epoch 12/45\n",
      "\u001b[1m230/230\u001b[0m \u001b[32m━━━━━━━━━━━━━━━━━━━━\u001b[0m\u001b[37m\u001b[0m \u001b[1m1s\u001b[0m 2ms/step - loss: 0.2779 - root_mean_squared_error: 0.3238 - val_loss: 0.2848 - val_root_mean_squared_error: 0.3297 - learning_rate: 1.0000e-04\n",
      "Epoch 13/45\n",
      "\u001b[1m230/230\u001b[0m \u001b[32m━━━━━━━━━━━━━━━━━━━━\u001b[0m\u001b[37m\u001b[0m \u001b[1m1s\u001b[0m 2ms/step - loss: 0.2760 - root_mean_squared_error: 0.3224 - val_loss: 0.2841 - val_root_mean_squared_error: 0.3297 - learning_rate: 1.0000e-04\n",
      "Epoch 14/45\n",
      "\u001b[1m230/230\u001b[0m \u001b[32m━━━━━━━━━━━━━━━━━━━━\u001b[0m\u001b[37m\u001b[0m \u001b[1m1s\u001b[0m 2ms/step - loss: 0.2759 - root_mean_squared_error: 0.3224 - val_loss: 0.2839 - val_root_mean_squared_error: 0.3299 - learning_rate: 1.0000e-04\n",
      "Epoch 15/45\n",
      "\u001b[1m230/230\u001b[0m \u001b[32m━━━━━━━━━━━━━━━━━━━━\u001b[0m\u001b[37m\u001b[0m \u001b[1m1s\u001b[0m 3ms/step - loss: 0.2739 - root_mean_squared_error: 0.3205 - val_loss: 0.2835 - val_root_mean_squared_error: 0.3302 - learning_rate: 1.0000e-04\n",
      "Epoch 16/45\n",
      "\u001b[1m230/230\u001b[0m \u001b[32m━━━━━━━━━━━━━━━━━━━━\u001b[0m\u001b[37m\u001b[0m \u001b[1m1s\u001b[0m 2ms/step - loss: 0.2736 - root_mean_squared_error: 0.3202 - val_loss: 0.2838 - val_root_mean_squared_error: 0.3311 - learning_rate: 1.0000e-04\n",
      "Epoch 17/45\n",
      "\u001b[1m230/230\u001b[0m \u001b[32m━━━━━━━━━━━━━━━━━━━━\u001b[0m\u001b[37m\u001b[0m \u001b[1m1s\u001b[0m 2ms/step - loss: 0.2740 - root_mean_squared_error: 0.3217 - val_loss: 0.2830 - val_root_mean_squared_error: 0.3308 - learning_rate: 1.0000e-04\n",
      "Epoch 18/45\n",
      "\u001b[1m230/230\u001b[0m \u001b[32m━━━━━━━━━━━━━━━━━━━━\u001b[0m\u001b[37m\u001b[0m \u001b[1m1s\u001b[0m 2ms/step - loss: 0.2713 - root_mean_squared_error: 0.3196 - val_loss: 0.2829 - val_root_mean_squared_error: 0.3312 - learning_rate: 1.0000e-04\n",
      "Epoch 19/45\n",
      "\u001b[1m230/230\u001b[0m \u001b[32m━━━━━━━━━━━━━━━━━━━━\u001b[0m\u001b[37m\u001b[0m \u001b[1m1s\u001b[0m 2ms/step - loss: 0.2714 - root_mean_squared_error: 0.3196 - val_loss: 0.2833 - val_root_mean_squared_error: 0.3317 - learning_rate: 1.0000e-04\n",
      "Epoch 20/45\n",
      "\u001b[1m230/230\u001b[0m \u001b[32m━━━━━━━━━━━━━━━━━━━━\u001b[0m\u001b[37m\u001b[0m \u001b[1m1s\u001b[0m 2ms/step - loss: 0.2728 - root_mean_squared_error: 0.3219 - val_loss: 0.2824 - val_root_mean_squared_error: 0.3313 - learning_rate: 1.0000e-04\n",
      "Epoch 21/45\n",
      "\u001b[1m230/230\u001b[0m \u001b[32m━━━━━━━━━━━━━━━━━━━━\u001b[0m\u001b[37m\u001b[0m \u001b[1m1s\u001b[0m 2ms/step - loss: 0.2708 - root_mean_squared_error: 0.3206 - val_loss: 0.2825 - val_root_mean_squared_error: 0.3313 - learning_rate: 1.0000e-05\n",
      "Epoch 22/45\n",
      "\u001b[1m230/230\u001b[0m \u001b[32m━━━━━━━━━━━━━━━━━━━━\u001b[0m\u001b[37m\u001b[0m \u001b[1m1s\u001b[0m 2ms/step - loss: 0.2706 - root_mean_squared_error: 0.3194 - val_loss: 0.2826 - val_root_mean_squared_error: 0.3314 - learning_rate: 1.0000e-05\n",
      "Epoch 23/45\n",
      "\u001b[1m230/230\u001b[0m \u001b[32m━━━━━━━━━━━━━━━━━━━━\u001b[0m\u001b[37m\u001b[0m \u001b[1m1s\u001b[0m 2ms/step - loss: 0.2721 - root_mean_squared_error: 0.3214 - val_loss: 0.2826 - val_root_mean_squared_error: 0.3315 - learning_rate: 1.0000e-05\n",
      "Epoch 24/45\n",
      "\u001b[1m230/230\u001b[0m \u001b[32m━━━━━━━━━━━━━━━━━━━━\u001b[0m\u001b[37m\u001b[0m \u001b[1m1s\u001b[0m 2ms/step - loss: 0.2710 - root_mean_squared_error: 0.3201 - val_loss: 0.2826 - val_root_mean_squared_error: 0.3315 - learning_rate: 1.0000e-05\n",
      "Epoch 25/45\n",
      "\u001b[1m230/230\u001b[0m \u001b[32m━━━━━━━━━━━━━━━━━━━━\u001b[0m\u001b[37m\u001b[0m \u001b[1m1s\u001b[0m 2ms/step - loss: 0.2693 - root_mean_squared_error: 0.3187 - val_loss: 0.2827 - val_root_mean_squared_error: 0.3317 - learning_rate: 1.0000e-05\n"
     ]
    }
   ],
   "source": [
    "cost = tf.keras.losses.MeanAbsoluteError()\n",
    "optimizer = tf.keras.optimizers.Adam(learning_rate=0.001)\n",
    "model.compile(optimizer=optimizer, loss=cost, metrics=['root_mean_squared_error'])\n",
    "\n",
    "lr_schedule = LearningRateScheduler(lambda epoch: 0.001 * 0.1**(epoch // 10))\n",
    "early_stopping = EarlyStopping(monitor='val_loss', patience=5, restore_best_weights=True)\n",
    "\n",
    "history = model.fit([user_vector_train_scaled, tourism_vector_train_scaled], y_train_scaled,\n",
    "                    validation_data=([user_vector_val_scaled, tourism_vector_val_scaled], y_val_scaled),\n",
    "                    epochs=45, callbacks=[lr_schedule, early_stopping])"
   ]
  },
  {
   "cell_type": "code",
   "execution_count": 102,
   "metadata": {
    "colab": {
     "base_uri": "https://localhost:8080/",
     "height": 472
    },
    "id": "dqAhE47L3XHw",
    "outputId": "3178a584-df01-4c3d-e4cb-ed5abe3f482b"
   },
   "outputs": [
    {
     "data": {
      "image/png": "[encoded data removed]",
      "text/plain": [
       "<Figure size 640x480 with 1 Axes>"
      ]
     },
     "metadata": {},
     "output_type": "display_data"
    }
   ],
   "source": [
    "plt.plot(history.history['loss'], label='Training Loss')\n",
    "plt.plot(history.history['val_loss'], label='Validation Loss')\n",
    "plt.title('Model Loss During Training')\n",
    "plt.xlabel('Epochs')\n",
    "plt.ylabel('Loss')\n",
    "plt.legend()\n",
    "plt.show()"
   ]
  },
  {
   "cell_type": "markdown",
   "metadata": {
    "id": "pDydH-D2BbEV"
   },
   "source": [
    "## **Test the Results**"
   ]
  },
  {
   "cell_type": "code",
   "execution_count": 104,
   "metadata": {
    "colab": {
     "base_uri": "https://localhost:8080/",
     "height": 126
    },
    "id": "f2Ijzj2wQdne",
    "outputId": "e99b0f14-e3cb-4f36-edd7-f5122ea00659"
   },
   "outputs": [
    {
     "name": "stdout",
     "output_type": "stream",
     "text": [
      "\u001b[1m230/230\u001b[0m \u001b[32m━━━━━━━━━━━━━━━━━━━━\u001b[0m\u001b[37m\u001b[0m \u001b[1m0s\u001b[0m 2ms/step - loss: 0.2615 - root_mean_squared_error: 0.3106\n"
     ]
    },
    {
     "data": {
      "text/plain": [
       "[0.2633797526359558, 0.3129413425922394]"
      ]
     },
     "metadata": {},
     "output_type": "display_data"
    },
    {
     "name": "stdout",
     "output_type": "stream",
     "text": [
      "\u001b[1m26/26\u001b[0m \u001b[32m━━━━━━━━━━━━━━━━━━━━\u001b[0m\u001b[37m\u001b[0m \u001b[1m0s\u001b[0m 2ms/step - loss: 0.2897 - root_mean_squared_error: 0.3425 \n"
     ]
    },
    {
     "data": {
      "text/plain": [
       "[0.28244829177856445, 0.331250935792923]"
      ]
     },
     "metadata": {},
     "output_type": "display_data"
    },
    {
     "name": "stdout",
     "output_type": "stream",
     "text": [
      "\u001b[1m45/45\u001b[0m \u001b[32m━━━━━━━━━━━━━━━━━━━━\u001b[0m\u001b[37m\u001b[0m \u001b[1m0s\u001b[0m 2ms/step - loss: 0.2894 - root_mean_squared_error: 0.3406\n"
     ]
    },
    {
     "data": {
      "text/plain": [
       "[0.28615257143974304, 0.33620700240135193]"
      ]
     },
     "metadata": {},
     "output_type": "display_data"
    }
   ],
   "source": [
    "display(model.evaluate([user_vector_train_scaled, tourism_vector_train_scaled], y_train_scaled))  # train\n",
    "display(model.evaluate([user_vector_val_scaled, tourism_vector_val_scaled], y_val_scaled))        # val\n",
    "display(model.evaluate([user_vector_test_scaled, tourism_vector_test_scaled], y_test_scaled))     # test"
   ]
  },
  {
   "cell_type": "markdown",
   "metadata": {
    "id": "2YGrcCguCHCV"
   },
   "source": [
    "## **Predict 1**"
   ]
  },
  {
   "cell_type": "code",
   "execution_count": 117,
   "metadata": {
    "colab": {
     "base_uri": "https://localhost:8080/",
     "height": 143
    },
    "id": "Pk9_xxmvPR7Q",
    "outputId": "1c4f6d40-a32a-41a0-e053-ffd23bf45855"
   },
   "outputs": [
    {
     "name": "stdout",
     "output_type": "stream",
     "text": [
      "(437, 9)\n",
      "(437, 17)\n"
     ]
    },
    {
     "data": {
      "text/html": [
       "<div>\n",
       "<style scoped>\n",
       "    .dataframe tbody tr th:only-of-type {\n",
       "        vertical-align: middle;\n",
       "    }\n",
       "\n",
       "    .dataframe tbody tr th {\n",
       "        vertical-align: top;\n",
       "    }\n",
       "\n",
       "    .dataframe thead th {\n",
       "        text-align: right;\n",
       "    }\n",
       "</style>\n",
       "<table border=\"1\" class=\"dataframe\">\n",
       "  <thead>\n",
       "    <tr style=\"text-align: right;\">\n",
       "      <th></th>\n",
       "      <th>Bahari</th>\n",
       "      <th>Budaya</th>\n",
       "      <th>Cagar Alam</th>\n",
       "      <th>Kebun Binatang</th>\n",
       "      <th>Pusat Perbelanjaan</th>\n",
       "      <th>Situs Sejarah</th>\n",
       "      <th>Taman Hiburan</th>\n",
       "      <th>Teater &amp; Pertunjukan</th>\n",
       "      <th>Tempat Ibadah</th>\n",
       "    </tr>\n",
       "  </thead>\n",
       "  <tbody>\n",
       "    <tr>\n",
       "      <th>4</th>\n",
       "      <td>3.2</td>\n",
       "      <td>3.5</td>\n",
       "      <td>3.0</td>\n",
       "      <td>2.0</td>\n",
       "      <td>5.0</td>\n",
       "      <td>3.7</td>\n",
       "      <td>3.4</td>\n",
       "      <td>3.0</td>\n",
       "      <td>5.0</td>\n",
       "    </tr>\n",
       "  </tbody>\n",
       "</table>\n",
       "</div>"
      ],
      "text/plain": [
       "   Bahari  Budaya  Cagar Alam  Kebun Binatang  Pusat Perbelanjaan  \\\n",
       "4     3.2     3.5         3.0             2.0                 5.0   \n",
       "\n",
       "   Situs Sejarah  Taman Hiburan  Teater & Pertunjukan  Tempat Ibadah  \n",
       "4            3.7            3.4                   3.0            5.0  "
      ]
     },
     "metadata": {},
     "output_type": "display_data"
    },
    {
     "name": "stdout",
     "output_type": "stream",
     "text": [
      "\u001b[1m14/14\u001b[0m \u001b[32m━━━━━━━━━━━━━━━━━━━━\u001b[0m\u001b[37m\u001b[0m \u001b[1m0s\u001b[0m 3ms/step \n"
     ]
    }
   ],
   "source": [
    "user_id = 5\n",
    "city = 'Yogyakarta'\n",
    "\n",
    "current_user_data = average_user_rating_df.loc[average_user_rating_df['User_Id'] == user_id, :].drop(columns='User_Id')\n",
    "current_user_vecs = np.tile(current_user_data.to_numpy(), (len(tourism_df), 1))\n",
    "scaled_current_user_vecs = user_scaler.transform(current_user_vecs)\n",
    "print(scaled_current_user_vecs.shape)\n",
    "\n",
    "tourism_vecs = tourism_one_hot_df.iloc[:, 1:].to_numpy()\n",
    "scaled_tourism_vecs = tourism_scaler.transform(tourism_vecs)\n",
    "print(scaled_tourism_vecs.shape)\n",
    "\n",
    "display(current_user_data)\n",
    "\n",
    "# make a prediction\n",
    "y_p = model.predict([scaled_current_user_vecs, scaled_tourism_vecs])\n",
    "\n",
    "# unscale y prediction\n",
    "y_pu = target_scaler.inverse_transform(y_p)\n",
    "\n",
    "# # sort the results, highest prediction first\n",
    "sorted_index = np.argsort(-y_pu, axis=0).reshape(-1)  #negate to get largest rating first\n",
    "sorted_ypu   = y_pu[sorted_index].reshape(-1)\n",
    "sorted_items = tourism_vecs[sorted_index].reshape(-1) #using unscaled vectors for display\n",
    "\n",
    "result = tourism_df.loc[sorted_index, ['Place_Name', 'Category', 'City']]\n",
    "result['Rating_Prediction'] = sorted_ypu"
   ]
  },
  {
   "cell_type": "code",
   "execution_count": null,
   "metadata": {
    "colab": {
     "base_uri": "https://localhost:8080/",
     "height": 423
    },
    "id": "OlI4Y7tVKChW",
    "outputId": "ad2df207-7117-4b27-9d6c-bac44c300254"
   },
   "outputs": [
    {
     "data": {
      "text/html": [
       "<div>\n",
       "<style scoped>\n",
       "    .dataframe tbody tr th:only-of-type {\n",
       "        vertical-align: middle;\n",
       "    }\n",
       "\n",
       "    .dataframe tbody tr th {\n",
       "        vertical-align: top;\n",
       "    }\n",
       "\n",
       "    .dataframe thead th {\n",
       "        text-align: right;\n",
       "    }\n",
       "</style>\n",
       "<table border=\"1\" class=\"dataframe\">\n",
       "  <thead>\n",
       "    <tr style=\"text-align: right;\">\n",
       "      <th></th>\n",
       "      <th>Place_Name</th>\n",
       "      <th>Category</th>\n",
       "      <th>City</th>\n",
       "      <th>Rating_Prediction</th>\n",
       "    </tr>\n",
       "  </thead>\n",
       "  <tbody>\n",
       "    <tr>\n",
       "      <th>105</th>\n",
       "      <td>Kawasan Malioboro</td>\n",
       "      <td>Budaya, Situs Sejarah, Pusat Perbelanjaan</td>\n",
       "      <td>Yogyakarta</td>\n",
       "      <td>4.448390</td>\n",
       "    </tr>\n",
       "    <tr>\n",
       "      <th>100</th>\n",
       "      <td>Kampung Wisata Sosro Menduran</td>\n",
       "      <td>Budaya, Situs Sejarah, Pusat Perbelanjaan</td>\n",
       "      <td>Yogyakarta</td>\n",
       "      <td>4.381581</td>\n",
       "    </tr>\n",
       "    <tr>\n",
       "      <th>134</th>\n",
       "      <td>Kawasan Wisata Sosrowijayan</td>\n",
       "      <td>Pusat Perbelanjaan</td>\n",
       "      <td>Yogyakarta</td>\n",
       "      <td>4.023228</td>\n",
       "    </tr>\n",
       "    <tr>\n",
       "      <th>173</th>\n",
       "      <td>Pasar Beringharjo</td>\n",
       "      <td>Pusat Perbelanjaan</td>\n",
       "      <td>Yogyakarta</td>\n",
       "      <td>3.982114</td>\n",
       "    </tr>\n",
       "    <tr>\n",
       "      <th>159</th>\n",
       "      <td>Pasar Kebon Empring Bintaran</td>\n",
       "      <td>Pusat Perbelanjaan</td>\n",
       "      <td>Yogyakarta</td>\n",
       "      <td>3.971991</td>\n",
       "    </tr>\n",
       "    <tr>\n",
       "      <th>...</th>\n",
       "      <td>...</td>\n",
       "      <td>...</td>\n",
       "      <td>...</td>\n",
       "      <td>...</td>\n",
       "    </tr>\n",
       "    <tr>\n",
       "      <th>177</th>\n",
       "      <td>Goa Pindul</td>\n",
       "      <td>Cagar Alam</td>\n",
       "      <td>Yogyakarta</td>\n",
       "      <td>2.726974</td>\n",
       "    </tr>\n",
       "    <tr>\n",
       "      <th>138</th>\n",
       "      <td>Puncak Gunung Api Purba - Nglanggeran</td>\n",
       "      <td>Cagar Alam</td>\n",
       "      <td>Yogyakarta</td>\n",
       "      <td>2.709998</td>\n",
       "    </tr>\n",
       "    <tr>\n",
       "      <th>119</th>\n",
       "      <td>Bukit Panguk Kediwung</td>\n",
       "      <td>Taman Hiburan, Cagar Alam</td>\n",
       "      <td>Yogyakarta</td>\n",
       "      <td>2.707937</td>\n",
       "    </tr>\n",
       "    <tr>\n",
       "      <th>160</th>\n",
       "      <td>Bukit Paralayang, Watugupit</td>\n",
       "      <td>Cagar Alam</td>\n",
       "      <td>Yogyakarta</td>\n",
       "      <td>2.674345</td>\n",
       "    </tr>\n",
       "    <tr>\n",
       "      <th>141</th>\n",
       "      <td>Ledok Sambi</td>\n",
       "      <td>Cagar Alam</td>\n",
       "      <td>Yogyakarta</td>\n",
       "      <td>2.638039</td>\n",
       "    </tr>\n",
       "  </tbody>\n",
       "</table>\n",
       "<p>126 rows × 4 columns</p>\n",
       "</div>"
      ],
      "text/plain": [
       "                                Place_Name  \\\n",
       "105                      Kawasan Malioboro   \n",
       "100          Kampung Wisata Sosro Menduran   \n",
       "134            Kawasan Wisata Sosrowijayan   \n",
       "173                      Pasar Beringharjo   \n",
       "159           Pasar Kebon Empring Bintaran   \n",
       "..                                     ...   \n",
       "177                             Goa Pindul   \n",
       "138  Puncak Gunung Api Purba - Nglanggeran   \n",
       "119                  Bukit Panguk Kediwung   \n",
       "160            Bukit Paralayang, Watugupit   \n",
       "141                            Ledok Sambi   \n",
       "\n",
       "                                      Category        City  Rating_Prediction  \n",
       "105  Budaya, Situs Sejarah, Pusat Perbelanjaan  Yogyakarta           4.448390  \n",
       "100  Budaya, Situs Sejarah, Pusat Perbelanjaan  Yogyakarta           4.381581  \n",
       "134                         Pusat Perbelanjaan  Yogyakarta           4.023228  \n",
       "173                         Pusat Perbelanjaan  Yogyakarta           3.982114  \n",
       "159                         Pusat Perbelanjaan  Yogyakarta           3.971991  \n",
       "..                                         ...         ...                ...  \n",
       "177                                 Cagar Alam  Yogyakarta           2.726974  \n",
       "138                                 Cagar Alam  Yogyakarta           2.709998  \n",
       "119                  Taman Hiburan, Cagar Alam  Yogyakarta           2.707937  \n",
       "160                                 Cagar Alam  Yogyakarta           2.674345  \n",
       "141                                 Cagar Alam  Yogyakarta           2.638039  \n",
       "\n",
       "[126 rows x 4 columns]"
      ]
     },
     "execution_count": 118,
     "metadata": {},
     "output_type": "execute_result"
    }
   ],
   "source": [
    "result.loc[result['City'] == city, :]"
   ]
  },
  {
   "cell_type": "markdown",
   "metadata": {
    "id": "pJiyf9V5yfjo"
   },
   "source": [
    "## **Predict 2**"
   ]
  },
  {
   "cell_type": "code",
   "execution_count": 107,
   "metadata": {
    "id": "QVWqIvtHx8HG"
   },
   "outputs": [],
   "source": [
    "def sq_dist(a,b):\n",
    "    \"\"\"\n",
    "    Returns the squared distance between two vectors\n",
    "    Args:\n",
    "      a (ndarray (n,)): vector with n features\n",
    "      b (ndarray (n,)): vector with n features\n",
    "    Returns:\n",
    "      d (float) : distance\n",
    "    \"\"\"\n",
    "    d = np.sum(np.square(a - b))\n",
    "    return d"
   ]
  },
  {
   "cell_type": "code",
   "execution_count": 108,
   "metadata": {
    "colab": {
     "base_uri": "https://localhost:8080/",
     "height": 241
    },
    "id": "ayMiaakxx_66",
    "outputId": "7e4a0cfe-4259-4cef-8065-d799b2b062db"
   },
   "outputs": [
    {
     "data": {
      "text/html": [
       "<pre style=\"white-space:pre;overflow-x:auto;line-height:normal;font-family:Menlo,'DejaVu Sans Mono',consolas,'Courier New',monospace\"><span style=\"font-weight: bold\">Model: \"functional_39\"</span>\n",
       "</pre>\n"
      ],
      "text/plain": [
       "\u001b[1mModel: \"functional_39\"\u001b[0m\n"
      ]
     },
     "metadata": {},
     "output_type": "display_data"
    },
    {
     "data": {
      "text/html": [
       "<pre style=\"white-space:pre;overflow-x:auto;line-height:normal;font-family:Menlo,'DejaVu Sans Mono',consolas,'Courier New',monospace\">┏━━━━━━━━━━━━━━━━━━━━━━━━━━━━━━━━━┳━━━━━━━━━━━━━━━━━━━━━━━━┳━━━━━━━━━━━━━━━┓\n",
       "┃<span style=\"font-weight: bold\"> Layer (type)                    </span>┃<span style=\"font-weight: bold\"> Output Shape           </span>┃<span style=\"font-weight: bold\">       Param # </span>┃\n",
       "┡━━━━━━━━━━━━━━━━━━━━━━━━━━━━━━━━━╇━━━━━━━━━━━━━━━━━━━━━━━━╇━━━━━━━━━━━━━━━┩\n",
       "│ input_layer_19 (<span style=\"color: #0087ff; text-decoration-color: #0087ff\">InputLayer</span>)     │ (<span style=\"color: #00d7ff; text-decoration-color: #00d7ff\">None</span>, <span style=\"color: #00af00; text-decoration-color: #00af00\">17</span>)             │             <span style=\"color: #00af00; text-decoration-color: #00af00\">0</span> │\n",
       "├─────────────────────────────────┼────────────────────────┼───────────────┤\n",
       "│ sequential_7 (<span style=\"color: #0087ff; text-decoration-color: #0087ff\">Sequential</span>)       │ (<span style=\"color: #00d7ff; text-decoration-color: #00d7ff\">None</span>, <span style=\"color: #00af00; text-decoration-color: #00af00\">10</span>)             │         <span style=\"color: #00af00; text-decoration-color: #00af00\">3,562</span> │\n",
       "├─────────────────────────────────┼────────────────────────┼───────────────┤\n",
       "│ l2_normalize_layer_17           │ (<span style=\"color: #00d7ff; text-decoration-color: #00d7ff\">None</span>, <span style=\"color: #00af00; text-decoration-color: #00af00\">10</span>)             │             <span style=\"color: #00af00; text-decoration-color: #00af00\">0</span> │\n",
       "│ (<span style=\"color: #0087ff; text-decoration-color: #0087ff\">L2NormalizeLayer</span>)              │                        │               │\n",
       "└─────────────────────────────────┴────────────────────────┴───────────────┘\n",
       "</pre>\n"
      ],
      "text/plain": [
       "┏━━━━━━━━━━━━━━━━━━━━━━━━━━━━━━━━━┳━━━━━━━━━━━━━━━━━━━━━━━━┳━━━━━━━━━━━━━━━┓\n",
       "┃\u001b[1m \u001b[0m\u001b[1mLayer (type)                   \u001b[0m\u001b[1m \u001b[0m┃\u001b[1m \u001b[0m\u001b[1mOutput Shape          \u001b[0m\u001b[1m \u001b[0m┃\u001b[1m \u001b[0m\u001b[1m      Param #\u001b[0m\u001b[1m \u001b[0m┃\n",
       "┡━━━━━━━━━━━━━━━━━━━━━━━━━━━━━━━━━╇━━━━━━━━━━━━━━━━━━━━━━━━╇━━━━━━━━━━━━━━━┩\n",
       "│ input_layer_19 (\u001b[38;5;33mInputLayer\u001b[0m)     │ (\u001b[38;5;45mNone\u001b[0m, \u001b[38;5;34m17\u001b[0m)             │             \u001b[38;5;34m0\u001b[0m │\n",
       "├─────────────────────────────────┼────────────────────────┼───────────────┤\n",
       "│ sequential_7 (\u001b[38;5;33mSequential\u001b[0m)       │ (\u001b[38;5;45mNone\u001b[0m, \u001b[38;5;34m10\u001b[0m)             │         \u001b[38;5;34m3,562\u001b[0m │\n",
       "├─────────────────────────────────┼────────────────────────┼───────────────┤\n",
       "│ l2_normalize_layer_17           │ (\u001b[38;5;45mNone\u001b[0m, \u001b[38;5;34m10\u001b[0m)             │             \u001b[38;5;34m0\u001b[0m │\n",
       "│ (\u001b[38;5;33mL2NormalizeLayer\u001b[0m)              │                        │               │\n",
       "└─────────────────────────────────┴────────────────────────┴───────────────┘\n"
      ]
     },
     "metadata": {},
     "output_type": "display_data"
    },
    {
     "data": {
      "text/html": [
       "<pre style=\"white-space:pre;overflow-x:auto;line-height:normal;font-family:Menlo,'DejaVu Sans Mono',consolas,'Courier New',monospace\"><span style=\"font-weight: bold\"> Total params: </span><span style=\"color: #00af00; text-decoration-color: #00af00\">3,562</span> (13.91 KB)\n",
       "</pre>\n"
      ],
      "text/plain": [
       "\u001b[1m Total params: \u001b[0m\u001b[38;5;34m3,562\u001b[0m (13.91 KB)\n"
      ]
     },
     "metadata": {},
     "output_type": "display_data"
    },
    {
     "data": {
      "text/html": [
       "<pre style=\"white-space:pre;overflow-x:auto;line-height:normal;font-family:Menlo,'DejaVu Sans Mono',consolas,'Courier New',monospace\"><span style=\"font-weight: bold\"> Trainable params: </span><span style=\"color: #00af00; text-decoration-color: #00af00\">3,562</span> (13.91 KB)\n",
       "</pre>\n"
      ],
      "text/plain": [
       "\u001b[1m Trainable params: \u001b[0m\u001b[38;5;34m3,562\u001b[0m (13.91 KB)\n"
      ]
     },
     "metadata": {},
     "output_type": "display_data"
    },
    {
     "data": {
      "text/html": [
       "<pre style=\"white-space:pre;overflow-x:auto;line-height:normal;font-family:Menlo,'DejaVu Sans Mono',consolas,'Courier New',monospace\"><span style=\"font-weight: bold\"> Non-trainable params: </span><span style=\"color: #00af00; text-decoration-color: #00af00\">0</span> (0.00 B)\n",
       "</pre>\n"
      ],
      "text/plain": [
       "\u001b[1m Non-trainable params: \u001b[0m\u001b[38;5;34m0\u001b[0m (0.00 B)\n"
      ]
     },
     "metadata": {},
     "output_type": "display_data"
    }
   ],
   "source": [
    "# So here we just want to take (a kind of) embedding value from the Tourism NN which has dimensions of 32 (32 from exercise 1)\n",
    "input_tourism_t = tf.keras.layers.Input(shape=(tourism_vector_train.shape[1],))  # input layer\n",
    "vt_t = tourism_NN(input_tourism_t)\n",
    "vt_t = L2NormalizeLayer(axis=1)(vt_t)  # incorporate normalization as was done in the original model\n",
    "model_t = tf.keras.Model(input_tourism_t, vt_t)\n",
    "model_t.summary()"
   ]
  },
  {
   "cell_type": "code",
   "execution_count": 109,
   "metadata": {
    "colab": {
     "base_uri": "https://localhost:8080/"
    },
    "id": "zxBpd6iuypHY",
    "outputId": "d00e040b-172b-4710-9d89-226f2c5ffc57"
   },
   "outputs": [
    {
     "name": "stdout",
     "output_type": "stream",
     "text": [
      "\u001b[1m14/14\u001b[0m \u001b[32m━━━━━━━━━━━━━━━━━━━━\u001b[0m\u001b[37m\u001b[0m \u001b[1m0s\u001b[0m 8ms/step\n",
      "size of all predicted tourism feature vectors: (437, 10)\n"
     ]
    }
   ],
   "source": [
    "tourism_vecs = tourism_one_hot_df.iloc[:, 1:].to_numpy()\n",
    "scaled_tourism_vecs = tourism_scaler.transform(tourism_vecs)\n",
    "vts = model_t.predict(scaled_tourism_vecs)\n",
    "print(f\"size of all predicted tourism feature vectors: {vts.shape}\")"
   ]
  },
  {
   "cell_type": "code",
   "execution_count": 110,
   "metadata": {
    "collapsed": true,
    "id": "KvDV8hG7y0q7"
   },
   "outputs": [],
   "source": [
    "count = 50  # number of tourism to display\n",
    "dim = len(vts)  # 437\n",
    "dist = np.zeros((dim,dim))  # (327, 327)\n",
    "\n",
    "for i in range(dim):\n",
    "    for j in range(dim):\n",
    "        dist[i,j] = sq_dist(vts[i, :], vts[j, :])\n",
    "\n",
    "# t_dist = dist whose diagonal is closed, because the similarity value is definitely 1 (because the tourism is the same)\n",
    "t_dist = np.ma.masked_array(dist, mask=np.identity(dist.shape[0]))  # mask the diagonal"
   ]
  },
  {
   "cell_type": "code",
   "execution_count": 111,
   "metadata": {
    "colab": {
     "base_uri": "https://localhost:8080/"
    },
    "id": "x5doYfB8EkjM",
    "outputId": "8a2f2265-1179-49cc-8dcd-691f19e3e1da"
   },
   "outputs": [
    {
     "data": {
      "text/plain": [
       "312"
      ]
     },
     "execution_count": 111,
     "metadata": {},
     "output_type": "execute_result"
    }
   ],
   "source": [
    "tourism_vector_df.loc[5, 'Place_Id'].item()"
   ]
  },
  {
   "cell_type": "code",
   "execution_count": 112,
   "metadata": {
    "id": "XpzKzs802grE"
   },
   "outputs": [
    {
     "data": {
      "text/html": [
       "<div>\n",
       "<style scoped>\n",
       "    .dataframe tbody tr th:only-of-type {\n",
       "        vertical-align: middle;\n",
       "    }\n",
       "\n",
       "    .dataframe tbody tr th {\n",
       "        vertical-align: top;\n",
       "    }\n",
       "\n",
       "    .dataframe thead th {\n",
       "        text-align: right;\n",
       "    }\n",
       "</style>\n",
       "<table border=\"1\" class=\"dataframe\">\n",
       "  <thead>\n",
       "    <tr style=\"text-align: right;\">\n",
       "      <th></th>\n",
       "      <th>tourism1</th>\n",
       "      <th>category1</th>\n",
       "      <th>tourism2</th>\n",
       "      <th>category2</th>\n",
       "    </tr>\n",
       "  </thead>\n",
       "  <tbody>\n",
       "    <tr>\n",
       "      <th>0</th>\n",
       "      <td>Monumen Nasional</td>\n",
       "      <td>Budaya, Situs Sejarah</td>\n",
       "      <td>Monumen Selamat Datang</td>\n",
       "      <td>Budaya, Situs Sejarah</td>\n",
       "    </tr>\n",
       "    <tr>\n",
       "      <th>1</th>\n",
       "      <td>Kota Tua</td>\n",
       "      <td>Budaya</td>\n",
       "      <td>Museum Nasional</td>\n",
       "      <td>Budaya</td>\n",
       "    </tr>\n",
       "    <tr>\n",
       "      <th>2</th>\n",
       "      <td>Dunia Fantasi</td>\n",
       "      <td>Taman Hiburan, Bahari</td>\n",
       "      <td>Kidzania</td>\n",
       "      <td>Taman Hiburan, Bahari</td>\n",
       "    </tr>\n",
       "    <tr>\n",
       "      <th>3</th>\n",
       "      <td>Taman Mini Indonesia Indah (TMII)</td>\n",
       "      <td>Taman Hiburan</td>\n",
       "      <td>Bumi Perkemahan Cibubur</td>\n",
       "      <td>Taman Hiburan</td>\n",
       "    </tr>\n",
       "    <tr>\n",
       "      <th>4</th>\n",
       "      <td>Atlantis Water Adventure</td>\n",
       "      <td>Taman Hiburan</td>\n",
       "      <td>Cibubur Garden Diary (Cibugary)</td>\n",
       "      <td>Taman Hiburan</td>\n",
       "    </tr>\n",
       "    <tr>\n",
       "      <th>5</th>\n",
       "      <td>Taman Impian Jaya Ancol</td>\n",
       "      <td>Taman Hiburan, Bahari</td>\n",
       "      <td>Taman Hiburan Rakyat</td>\n",
       "      <td>Taman Hiburan, Bahari</td>\n",
       "    </tr>\n",
       "    <tr>\n",
       "      <th>6</th>\n",
       "      <td>Kebun Binatang Ragunan</td>\n",
       "      <td>Cagar Alam, Taman Hiburan</td>\n",
       "      <td>Taman Cattleya</td>\n",
       "      <td>Taman Hiburan, Cagar Alam</td>\n",
       "    </tr>\n",
       "    <tr>\n",
       "      <th>7</th>\n",
       "      <td>Ocean Ecopark</td>\n",
       "      <td>Taman Hiburan</td>\n",
       "      <td>SnowBay Waterpark</td>\n",
       "      <td>Taman Hiburan</td>\n",
       "    </tr>\n",
       "    <tr>\n",
       "      <th>8</th>\n",
       "      <td>Pelabuhan Marina</td>\n",
       "      <td>Bahari</td>\n",
       "      <td>Pulau Tidung</td>\n",
       "      <td>Bahari</td>\n",
       "    </tr>\n",
       "    <tr>\n",
       "      <th>9</th>\n",
       "      <td>Pulau Tidung</td>\n",
       "      <td>Bahari</td>\n",
       "      <td>Pelabuhan Marina</td>\n",
       "      <td>Bahari</td>\n",
       "    </tr>\n",
       "    <tr>\n",
       "      <th>10</th>\n",
       "      <td>Pulau Bidadari</td>\n",
       "      <td>Bahari</td>\n",
       "      <td>Pantai Ancol</td>\n",
       "      <td>Bahari</td>\n",
       "    </tr>\n",
       "    <tr>\n",
       "      <th>11</th>\n",
       "      <td>Pulau Pari</td>\n",
       "      <td>Bahari</td>\n",
       "      <td>Pulau Semak Daun</td>\n",
       "      <td>Bahari</td>\n",
       "    </tr>\n",
       "    <tr>\n",
       "      <th>12</th>\n",
       "      <td>Pulau Pramuka</td>\n",
       "      <td>Bahari</td>\n",
       "      <td>Pantai Ancol</td>\n",
       "      <td>Bahari</td>\n",
       "    </tr>\n",
       "    <tr>\n",
       "      <th>13</th>\n",
       "      <td>Pulau Pelangi</td>\n",
       "      <td>Bahari</td>\n",
       "      <td>Monumen Batik Yogyakarta</td>\n",
       "      <td>Budaya, Situs Sejarah</td>\n",
       "    </tr>\n",
       "    <tr>\n",
       "      <th>14</th>\n",
       "      <td>Pasar Seni</td>\n",
       "      <td>Pusat Perbelanjaan</td>\n",
       "      <td>Pasar Taman Puring</td>\n",
       "      <td>Pusat Perbelanjaan</td>\n",
       "    </tr>\n",
       "    <tr>\n",
       "      <th>15</th>\n",
       "      <td>Jembatan Kota Intan</td>\n",
       "      <td>Budaya, Teater &amp; Pertunjukan</td>\n",
       "      <td>Taman Ismail Marzuki</td>\n",
       "      <td>Budaya, Teater &amp; Pertunjukan</td>\n",
       "    </tr>\n",
       "    <tr>\n",
       "      <th>16</th>\n",
       "      <td>Museum Fatahillah</td>\n",
       "      <td>Budaya, Situs Sejarah</td>\n",
       "      <td>Museum Seni Rupa dan Keramik</td>\n",
       "      <td>Budaya, Situs Sejarah</td>\n",
       "    </tr>\n",
       "    <tr>\n",
       "      <th>17</th>\n",
       "      <td>Museum Bank Indonesia</td>\n",
       "      <td>Budaya, Teater &amp; Pertunjukan</td>\n",
       "      <td>Taman Ismail Marzuki</td>\n",
       "      <td>Budaya, Teater &amp; Pertunjukan</td>\n",
       "    </tr>\n",
       "    <tr>\n",
       "      <th>18</th>\n",
       "      <td>Kidzania</td>\n",
       "      <td>Taman Hiburan, Bahari</td>\n",
       "      <td>Dunia Fantasi</td>\n",
       "      <td>Taman Hiburan, Bahari</td>\n",
       "    </tr>\n",
       "    <tr>\n",
       "      <th>19</th>\n",
       "      <td>Museum Taman Prasasti</td>\n",
       "      <td>Budaya</td>\n",
       "      <td>Kota Tua</td>\n",
       "      <td>Budaya</td>\n",
       "    </tr>\n",
       "    <tr>\n",
       "      <th>20</th>\n",
       "      <td>Museum Wayang</td>\n",
       "      <td>Budaya, Situs Sejarah</td>\n",
       "      <td>Museum Bahari Jakarta</td>\n",
       "      <td>Budaya, Situs Sejarah</td>\n",
       "    </tr>\n",
       "    <tr>\n",
       "      <th>21</th>\n",
       "      <td>Masjid Istiqlal</td>\n",
       "      <td>Tempat Ibadah</td>\n",
       "      <td>Gereja Katedral</td>\n",
       "      <td>Tempat Ibadah</td>\n",
       "    </tr>\n",
       "    <tr>\n",
       "      <th>22</th>\n",
       "      <td>Gereja Katedral</td>\n",
       "      <td>Tempat Ibadah</td>\n",
       "      <td>Masjid Istiqlal</td>\n",
       "      <td>Tempat Ibadah</td>\n",
       "    </tr>\n",
       "    <tr>\n",
       "      <th>23</th>\n",
       "      <td>Museum Nasional</td>\n",
       "      <td>Budaya</td>\n",
       "      <td>Kota Tua</td>\n",
       "      <td>Budaya</td>\n",
       "    </tr>\n",
       "    <tr>\n",
       "      <th>24</th>\n",
       "      <td>Pasar Tanah Abang</td>\n",
       "      <td>Pusat Perbelanjaan</td>\n",
       "      <td>Pecinan Glodok</td>\n",
       "      <td>Pusat Perbelanjaan</td>\n",
       "    </tr>\n",
       "    <tr>\n",
       "      <th>25</th>\n",
       "      <td>Pecinan Glodok</td>\n",
       "      <td>Pusat Perbelanjaan</td>\n",
       "      <td>Pasar Petak Sembilan</td>\n",
       "      <td>Pusat Perbelanjaan</td>\n",
       "    </tr>\n",
       "    <tr>\n",
       "      <th>26</th>\n",
       "      <td>Sea World</td>\n",
       "      <td>Taman Hiburan</td>\n",
       "      <td>Skyrink - Mall Taman Anggrek</td>\n",
       "      <td>Taman Hiburan</td>\n",
       "    </tr>\n",
       "    <tr>\n",
       "      <th>27</th>\n",
       "      <td>Wisata Agro Edukatif Istana Susu Cibugary</td>\n",
       "      <td>Taman Hiburan</td>\n",
       "      <td>Taman Legenda Keong Emas</td>\n",
       "      <td>Taman Hiburan</td>\n",
       "    </tr>\n",
       "    <tr>\n",
       "      <th>28</th>\n",
       "      <td>Wisata Kuliner Pecenongan</td>\n",
       "      <td>Pusat Perbelanjaan</td>\n",
       "      <td>Kawasan Kuliner BSM</td>\n",
       "      <td>Pusat Perbelanjaan</td>\n",
       "    </tr>\n",
       "    <tr>\n",
       "      <th>29</th>\n",
       "      <td>Taman Menteng</td>\n",
       "      <td>Taman Hiburan</td>\n",
       "      <td>Taman Mini Indonesia Indah (TMII)</td>\n",
       "      <td>Taman Hiburan</td>\n",
       "    </tr>\n",
       "    <tr>\n",
       "      <th>30</th>\n",
       "      <td>Wisata Alam Mangrove Angke</td>\n",
       "      <td>Cagar Alam, Taman Hiburan</td>\n",
       "      <td>Hutan Kota Srengseng</td>\n",
       "      <td>Taman Hiburan, Cagar Alam</td>\n",
       "    </tr>\n",
       "    <tr>\n",
       "      <th>31</th>\n",
       "      <td>Setu Babakan</td>\n",
       "      <td>Budaya, Situs Sejarah, Taman Hiburan</td>\n",
       "      <td>Tugu Proklamasi</td>\n",
       "      <td>Budaya, Situs Sejarah, Taman Hiburan</td>\n",
       "    </tr>\n",
       "    <tr>\n",
       "      <th>32</th>\n",
       "      <td>Taman Suropati</td>\n",
       "      <td>Taman Hiburan, Bahari, Budaya</td>\n",
       "      <td>Pulau Tidung</td>\n",
       "      <td>Bahari</td>\n",
       "    </tr>\n",
       "    <tr>\n",
       "      <th>33</th>\n",
       "      <td>Pasar Taman Puring</td>\n",
       "      <td>Pusat Perbelanjaan</td>\n",
       "      <td>Mall Thamrin City</td>\n",
       "      <td>Pusat Perbelanjaan</td>\n",
       "    </tr>\n",
       "    <tr>\n",
       "      <th>34</th>\n",
       "      <td>Grand Indonesia Mall</td>\n",
       "      <td>Pusat Perbelanjaan</td>\n",
       "      <td>Plaza Indonesia</td>\n",
       "      <td>Pusat Perbelanjaan</td>\n",
       "    </tr>\n",
       "    <tr>\n",
       "      <th>35</th>\n",
       "      <td>Skyrink - Mall Taman Anggrek</td>\n",
       "      <td>Taman Hiburan</td>\n",
       "      <td>Sea World</td>\n",
       "      <td>Taman Hiburan</td>\n",
       "    </tr>\n",
       "    <tr>\n",
       "      <th>36</th>\n",
       "      <td>Bumi Perkemahan Cibubur</td>\n",
       "      <td>Taman Hiburan</td>\n",
       "      <td>Taman Mini Indonesia Indah (TMII)</td>\n",
       "      <td>Taman Hiburan</td>\n",
       "    </tr>\n",
       "    <tr>\n",
       "      <th>37</th>\n",
       "      <td>Istana Negara Republik Indonesia</td>\n",
       "      <td>Budaya, Situs Sejarah</td>\n",
       "      <td>Galeri Nasional Indonesia</td>\n",
       "      <td>Budaya, Situs Sejarah</td>\n",
       "    </tr>\n",
       "    <tr>\n",
       "      <th>38</th>\n",
       "      <td>Museum Macan (Modern and Contemporary Art in N...</td>\n",
       "      <td>Budaya</td>\n",
       "      <td>Kota Tua</td>\n",
       "      <td>Budaya</td>\n",
       "    </tr>\n",
       "    <tr>\n",
       "      <th>39</th>\n",
       "      <td>Galeri Nasional Indonesia</td>\n",
       "      <td>Budaya, Situs Sejarah</td>\n",
       "      <td>Istana Negara Republik Indonesia</td>\n",
       "      <td>Budaya, Situs Sejarah</td>\n",
       "    </tr>\n",
       "    <tr>\n",
       "      <th>40</th>\n",
       "      <td>Museum Bahari Jakarta</td>\n",
       "      <td>Budaya, Situs Sejarah</td>\n",
       "      <td>Museum Wayang</td>\n",
       "      <td>Budaya, Situs Sejarah</td>\n",
       "    </tr>\n",
       "    <tr>\n",
       "      <th>41</th>\n",
       "      <td>Museum Seni Rupa dan Keramik</td>\n",
       "      <td>Budaya, Situs Sejarah</td>\n",
       "      <td>Museum Fatahillah</td>\n",
       "      <td>Budaya, Situs Sejarah</td>\n",
       "    </tr>\n",
       "    <tr>\n",
       "      <th>42</th>\n",
       "      <td>The Escape Hunt</td>\n",
       "      <td>Taman Hiburan</td>\n",
       "      <td>Jakarta Planetarium</td>\n",
       "      <td>Taman Hiburan</td>\n",
       "    </tr>\n",
       "    <tr>\n",
       "      <th>43</th>\n",
       "      <td>Monumen Selamat Datang</td>\n",
       "      <td>Budaya, Situs Sejarah</td>\n",
       "      <td>Monumen Nasional</td>\n",
       "      <td>Budaya, Situs Sejarah</td>\n",
       "    </tr>\n",
       "    <tr>\n",
       "      <th>44</th>\n",
       "      <td>Jakarta Aquarium dan Safari</td>\n",
       "      <td>Taman Hiburan, Bahari</td>\n",
       "      <td>Saloka Theme Park</td>\n",
       "      <td>Taman Hiburan, Bahari</td>\n",
       "    </tr>\n",
       "    <tr>\n",
       "      <th>45</th>\n",
       "      <td>Pulau Semak Daun</td>\n",
       "      <td>Bahari</td>\n",
       "      <td>Pulau Pramuka</td>\n",
       "      <td>Bahari</td>\n",
       "    </tr>\n",
       "    <tr>\n",
       "      <th>46</th>\n",
       "      <td>Taman Situ Lembang</td>\n",
       "      <td>Taman Hiburan, Situs Sejarah</td>\n",
       "      <td>Taman Spathodea</td>\n",
       "      <td>Taman Hiburan</td>\n",
       "    </tr>\n",
       "    <tr>\n",
       "      <th>47</th>\n",
       "      <td>Taman Ismail Marzuki</td>\n",
       "      <td>Budaya, Teater &amp; Pertunjukan</td>\n",
       "      <td>Museum Bank Indonesia</td>\n",
       "      <td>Budaya, Teater &amp; Pertunjukan</td>\n",
       "    </tr>\n",
       "    <tr>\n",
       "      <th>48</th>\n",
       "      <td>Galeri Indonesia Kaya</td>\n",
       "      <td>Budaya, Situs Sejarah</td>\n",
       "      <td>Museum Sumpah Pemuda</td>\n",
       "      <td>Budaya, Situs Sejarah</td>\n",
       "    </tr>\n",
       "    <tr>\n",
       "      <th>49</th>\n",
       "      <td>Museum Joang 45</td>\n",
       "      <td>Budaya, Situs Sejarah</td>\n",
       "      <td>Museum Bahari Jakarta</td>\n",
       "      <td>Budaya, Situs Sejarah</td>\n",
       "    </tr>\n",
       "  </tbody>\n",
       "</table>\n",
       "</div>"
      ],
      "text/plain": [
       "                                             tourism1  \\\n",
       "0                                    Monumen Nasional   \n",
       "1                                            Kota Tua   \n",
       "2                                       Dunia Fantasi   \n",
       "3                   Taman Mini Indonesia Indah (TMII)   \n",
       "4                            Atlantis Water Adventure   \n",
       "5                             Taman Impian Jaya Ancol   \n",
       "6                              Kebun Binatang Ragunan   \n",
       "7                                       Ocean Ecopark   \n",
       "8                                    Pelabuhan Marina   \n",
       "9                                        Pulau Tidung   \n",
       "10                                     Pulau Bidadari   \n",
       "11                                         Pulau Pari   \n",
       "12                                      Pulau Pramuka   \n",
       "13                                      Pulau Pelangi   \n",
       "14                                         Pasar Seni   \n",
       "15                                Jembatan Kota Intan   \n",
       "16                                  Museum Fatahillah   \n",
       "17                              Museum Bank Indonesia   \n",
       "18                                           Kidzania   \n",
       "19                              Museum Taman Prasasti   \n",
       "20                                      Museum Wayang   \n",
       "21                                    Masjid Istiqlal   \n",
       "22                                    Gereja Katedral   \n",
       "23                                    Museum Nasional   \n",
       "24                                  Pasar Tanah Abang   \n",
       "25                                     Pecinan Glodok   \n",
       "26                                          Sea World   \n",
       "27          Wisata Agro Edukatif Istana Susu Cibugary   \n",
       "28                          Wisata Kuliner Pecenongan   \n",
       "29                                      Taman Menteng   \n",
       "30                         Wisata Alam Mangrove Angke   \n",
       "31                                       Setu Babakan   \n",
       "32                                     Taman Suropati   \n",
       "33                                 Pasar Taman Puring   \n",
       "34                               Grand Indonesia Mall   \n",
       "35                       Skyrink - Mall Taman Anggrek   \n",
       "36                            Bumi Perkemahan Cibubur   \n",
       "37                   Istana Negara Republik Indonesia   \n",
       "38  Museum Macan (Modern and Contemporary Art in N...   \n",
       "39                          Galeri Nasional Indonesia   \n",
       "40                              Museum Bahari Jakarta   \n",
       "41                       Museum Seni Rupa dan Keramik   \n",
       "42                                    The Escape Hunt   \n",
       "43                             Monumen Selamat Datang   \n",
       "44                        Jakarta Aquarium dan Safari   \n",
       "45                                   Pulau Semak Daun   \n",
       "46                                 Taman Situ Lembang   \n",
       "47                               Taman Ismail Marzuki   \n",
       "48                              Galeri Indonesia Kaya   \n",
       "49                                    Museum Joang 45   \n",
       "\n",
       "                               category1                           tourism2  \\\n",
       "0                  Budaya, Situs Sejarah             Monumen Selamat Datang   \n",
       "1                                 Budaya                    Museum Nasional   \n",
       "2                  Taman Hiburan, Bahari                           Kidzania   \n",
       "3                          Taman Hiburan            Bumi Perkemahan Cibubur   \n",
       "4                          Taman Hiburan    Cibubur Garden Diary (Cibugary)   \n",
       "5                  Taman Hiburan, Bahari               Taman Hiburan Rakyat   \n",
       "6              Cagar Alam, Taman Hiburan                     Taman Cattleya   \n",
       "7                          Taman Hiburan                  SnowBay Waterpark   \n",
       "8                                 Bahari                       Pulau Tidung   \n",
       "9                                 Bahari                   Pelabuhan Marina   \n",
       "10                                Bahari                       Pantai Ancol   \n",
       "11                                Bahari                   Pulau Semak Daun   \n",
       "12                                Bahari                       Pantai Ancol   \n",
       "13                                Bahari           Monumen Batik Yogyakarta   \n",
       "14                    Pusat Perbelanjaan                 Pasar Taman Puring   \n",
       "15          Budaya, Teater & Pertunjukan               Taman Ismail Marzuki   \n",
       "16                 Budaya, Situs Sejarah       Museum Seni Rupa dan Keramik   \n",
       "17          Budaya, Teater & Pertunjukan               Taman Ismail Marzuki   \n",
       "18                 Taman Hiburan, Bahari                      Dunia Fantasi   \n",
       "19                                Budaya                           Kota Tua   \n",
       "20                 Budaya, Situs Sejarah              Museum Bahari Jakarta   \n",
       "21                         Tempat Ibadah                    Gereja Katedral   \n",
       "22                         Tempat Ibadah                    Masjid Istiqlal   \n",
       "23                                Budaya                           Kota Tua   \n",
       "24                    Pusat Perbelanjaan                     Pecinan Glodok   \n",
       "25                    Pusat Perbelanjaan               Pasar Petak Sembilan   \n",
       "26                         Taman Hiburan       Skyrink - Mall Taman Anggrek   \n",
       "27                         Taman Hiburan           Taman Legenda Keong Emas   \n",
       "28                    Pusat Perbelanjaan                Kawasan Kuliner BSM   \n",
       "29                         Taman Hiburan  Taman Mini Indonesia Indah (TMII)   \n",
       "30             Cagar Alam, Taman Hiburan               Hutan Kota Srengseng   \n",
       "31  Budaya, Situs Sejarah, Taman Hiburan                    Tugu Proklamasi   \n",
       "32         Taman Hiburan, Bahari, Budaya                       Pulau Tidung   \n",
       "33                    Pusat Perbelanjaan                  Mall Thamrin City   \n",
       "34                    Pusat Perbelanjaan                    Plaza Indonesia   \n",
       "35                         Taman Hiburan                          Sea World   \n",
       "36                         Taman Hiburan  Taman Mini Indonesia Indah (TMII)   \n",
       "37                 Budaya, Situs Sejarah          Galeri Nasional Indonesia   \n",
       "38                                Budaya                           Kota Tua   \n",
       "39                 Budaya, Situs Sejarah   Istana Negara Republik Indonesia   \n",
       "40                 Budaya, Situs Sejarah                      Museum Wayang   \n",
       "41                 Budaya, Situs Sejarah                  Museum Fatahillah   \n",
       "42                         Taman Hiburan                Jakarta Planetarium   \n",
       "43                 Budaya, Situs Sejarah                   Monumen Nasional   \n",
       "44                 Taman Hiburan, Bahari                  Saloka Theme Park   \n",
       "45                                Bahari                      Pulau Pramuka   \n",
       "46          Taman Hiburan, Situs Sejarah                    Taman Spathodea   \n",
       "47          Budaya, Teater & Pertunjukan              Museum Bank Indonesia   \n",
       "48                 Budaya, Situs Sejarah               Museum Sumpah Pemuda   \n",
       "49                 Budaya, Situs Sejarah              Museum Bahari Jakarta   \n",
       "\n",
       "                               category2  \n",
       "0                  Budaya, Situs Sejarah  \n",
       "1                                 Budaya  \n",
       "2                  Taman Hiburan, Bahari  \n",
       "3                          Taman Hiburan  \n",
       "4                          Taman Hiburan  \n",
       "5                  Taman Hiburan, Bahari  \n",
       "6              Taman Hiburan, Cagar Alam  \n",
       "7                          Taman Hiburan  \n",
       "8                                 Bahari  \n",
       "9                                 Bahari  \n",
       "10                                Bahari  \n",
       "11                                Bahari  \n",
       "12                                Bahari  \n",
       "13                 Budaya, Situs Sejarah  \n",
       "14                    Pusat Perbelanjaan  \n",
       "15          Budaya, Teater & Pertunjukan  \n",
       "16                 Budaya, Situs Sejarah  \n",
       "17          Budaya, Teater & Pertunjukan  \n",
       "18                 Taman Hiburan, Bahari  \n",
       "19                                Budaya  \n",
       "20                 Budaya, Situs Sejarah  \n",
       "21                         Tempat Ibadah  \n",
       "22                         Tempat Ibadah  \n",
       "23                                Budaya  \n",
       "24                    Pusat Perbelanjaan  \n",
       "25                    Pusat Perbelanjaan  \n",
       "26                         Taman Hiburan  \n",
       "27                         Taman Hiburan  \n",
       "28                    Pusat Perbelanjaan  \n",
       "29                         Taman Hiburan  \n",
       "30             Taman Hiburan, Cagar Alam  \n",
       "31  Budaya, Situs Sejarah, Taman Hiburan  \n",
       "32                                Bahari  \n",
       "33                    Pusat Perbelanjaan  \n",
       "34                    Pusat Perbelanjaan  \n",
       "35                         Taman Hiburan  \n",
       "36                         Taman Hiburan  \n",
       "37                 Budaya, Situs Sejarah  \n",
       "38                                Budaya  \n",
       "39                 Budaya, Situs Sejarah  \n",
       "40                 Budaya, Situs Sejarah  \n",
       "41                 Budaya, Situs Sejarah  \n",
       "42                         Taman Hiburan  \n",
       "43                 Budaya, Situs Sejarah  \n",
       "44                 Taman Hiburan, Bahari  \n",
       "45                                Bahari  \n",
       "46                         Taman Hiburan  \n",
       "47          Budaya, Teater & Pertunjukan  \n",
       "48                 Budaya, Situs Sejarah  \n",
       "49                 Budaya, Situs Sejarah  "
      ]
     },
     "execution_count": 112,
     "metadata": {},
     "output_type": "execute_result"
    }
   ],
   "source": [
    "# The point is to get the 1 most similar movie from each movie.\n",
    "header = [\"tourism1\", \"category1\", \"tourism2\", \"category2\"]\n",
    "disp = list()\n",
    "for i in range(count):\n",
    "    min_idx = np.argmin(t_dist[i])  # Get the index from the smallest similarity value in tourism i\n",
    "    movie1_id = int(tourism_df.loc[i, 'Place_Id']) - 1  # Get index from tourism origin\n",
    "    movie2_id = int(tourism_df.loc[min_idx, 'Place_Id']) - 1  # Get the index of the most similar tourism\n",
    "    disp.append( [tourism_df.loc[movie1_id, 'Place_Name'], tourism_df.loc[movie1_id, 'Category'],\n",
    "                  tourism_df.loc[movie2_id, 'Place_Name'], tourism_df.loc[movie2_id, 'Category']]\n",
    "               )\n",
    "\n",
    "disp_df = pd.DataFrame(disp, columns=header)\n",
    "disp_df"
   ]
  },
  {
   "cell_type": "markdown",
   "metadata": {
    "id": "z2Q9eq5lWDkb"
   },
   "source": [
    "## **Save Model**"
   ]
  },
  {
   "cell_type": "code",
   "execution_count": 113,
   "metadata": {
    "colab": {
     "base_uri": "https://localhost:8080/"
    },
    "id": "PnMUnhE3Sjm2",
    "outputId": "1d5fe9ae-a2db-42be-9a86-883ab293c44e"
   },
   "outputs": [
    {
     "name": "stderr",
     "output_type": "stream",
     "text": [
      "WARNING:absl:You are saving your model as an HDF5 file via `model.save()` or `keras.saving.save_model(model)`. This file format is considered legacy. We recommend using instead the native Keras format, e.g. `model.save('my_model.keras')` or `keras.saving.save_model(model, 'my_model.keras')`. \n"
     ]
    }
   ],
   "source": [
    "# Save model to h5 file\n",
    "model.save('content_based.h5')"
   ]
  },
  {
   "cell_type": "code",
   "execution_count": 114,
   "metadata": {
    "colab": {
     "base_uri": "https://localhost:8080/"
    },
    "id": "XaJl6lUTSpa5",
    "outputId": "61ecaf38-e891-4029-d65e-395ccac4b53f"
   },
   "outputs": [
    {
     "name": "stderr",
     "output_type": "stream",
     "text": [
      "WARNING:absl:Compiled the loaded model, but the compiled metrics have yet to be built. `model.compile_metrics` will be empty until you train or evaluate the model.\n"
     ]
    }
   ],
   "source": [
    "# Check loaded model\n",
    "new_model = tf.keras.models.load_model('content_based.h5')"
   ]
  },
  {
   "cell_type": "code",
   "execution_count": 115,
   "metadata": {},
   "outputs": [
    {
     "name": "stdout",
     "output_type": "stream",
     "text": [
      "\u001b[1m230/230\u001b[0m \u001b[32m━━━━━━━━━━━━━━━━━━━━\u001b[0m\u001b[37m\u001b[0m \u001b[1m1s\u001b[0m 2ms/step - loss: 0.2615 - root_mean_squared_error: 0.3106\n"
     ]
    },
    {
     "data": {
      "text/plain": [
       "[0.2633797526359558, 0.3129413425922394]"
      ]
     },
     "metadata": {},
     "output_type": "display_data"
    },
    {
     "name": "stdout",
     "output_type": "stream",
     "text": [
      "\u001b[1m26/26\u001b[0m \u001b[32m━━━━━━━━━━━━━━━━━━━━\u001b[0m\u001b[37m\u001b[0m \u001b[1m0s\u001b[0m 2ms/step - loss: 0.2897 - root_mean_squared_error: 0.3425 \n"
     ]
    },
    {
     "data": {
      "text/plain": [
       "[0.28244829177856445, 0.331250935792923]"
      ]
     },
     "metadata": {},
     "output_type": "display_data"
    },
    {
     "name": "stdout",
     "output_type": "stream",
     "text": [
      "\u001b[1m45/45\u001b[0m \u001b[32m━━━━━━━━━━━━━━━━━━━━\u001b[0m\u001b[37m\u001b[0m \u001b[1m0s\u001b[0m 2ms/step - loss: 0.2894 - root_mean_squared_error: 0.3406\n"
     ]
    },
    {
     "data": {
      "text/plain": [
       "[0.28615257143974304, 0.33620700240135193]"
      ]
     },
     "metadata": {},
     "output_type": "display_data"
    }
   ],
   "source": [
    "# Check loaded model\n",
    "display(new_model.evaluate([user_vector_train_scaled, tourism_vector_train_scaled], y_train_scaled))  # train\n",
    "display(new_model.evaluate([user_vector_val_scaled, tourism_vector_val_scaled], y_val_scaled))        # val\n",
    "display(new_model.evaluate([user_vector_test_scaled, tourism_vector_test_scaled], y_test_scaled))     # test"
   ]
  }
 ],
 "metadata": {
  "colab": {
   "provenance": []
  },
  "kernelspec": {
   "display_name": ".venv",
   "language": "python",
   "name": "python3"
  },
  "language_info": {
   "codemirror_mode": {
    "name": "ipython",
    "version": 3
   },
   "file_extension": ".py",
   "mimetype": "text/x-python",
   "name": "python",
   "nbconvert_exporter": "python",
   "pygments_lexer": "ipython3",
   "version": "3.11.4"
  }
 },
 "nbformat": 4,
 "nbformat_minor": 0
}
