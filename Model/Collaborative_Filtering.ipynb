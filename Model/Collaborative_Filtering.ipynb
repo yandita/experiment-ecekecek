{
 "cells": [
  {
   "cell_type": "markdown",
   "metadata": {
    "id": "Utkf9K3dX5mv"
   },
   "source": [
    "# **Import Library**"
   ]
  },
  {
   "cell_type": "code",
   "execution_count": 1,
   "metadata": {
    "id": "T790X6HJT86t"
   },
   "outputs": [],
   "source": [
    "import keras\n",
    "import numpy as np\n",
    "import pandas as pd\n",
    "import seaborn as sns\n",
    "import tensorflow as tf\n",
    "import matplotlib.pyplot as plt"
   ]
  },
  {
   "cell_type": "code",
   "execution_count": 2,
   "metadata": {},
   "outputs": [
    {
     "name": "stdout",
     "output_type": "stream",
     "text": [
      "2.18.0\n",
      "3.7.0\n"
     ]
    }
   ],
   "source": [
    "print(tf.__version__)\n",
    "print(keras.__version__)"
   ]
  },
  {
   "cell_type": "markdown",
   "metadata": {
    "id": "UfPbQi5pBopC"
   },
   "source": [
    "# **Import Dataset**"
   ]
  },
  {
   "cell_type": "code",
   "execution_count": 3,
   "metadata": {
    "id": "u59fExEREkXD"
   },
   "outputs": [],
   "source": [
    "# Load all dataset to Pandas DataFrame\n",
    "user_df = pd.read_csv(\"../Dataset/old_users_data_with_links.csv\", sep=';')\n",
    "tourism_df = pd.read_csv(\"../Dataset/new_tourism_with_id_links_3.csv\")\n",
    "rating_df = pd.read_csv(\"../Dataset/new_tourism_rating_comments.csv\")"
   ]
  },
  {
   "cell_type": "code",
   "execution_count": 4,
   "metadata": {
    "colab": {
     "base_uri": "https://localhost:8080/",
     "height": 1000
    },
    "id": "AlHShlJUE5Kv",
    "outputId": "cbbd0657-0958-420b-f16c-b471e0436a9f"
   },
   "outputs": [
    {
     "name": "stdout",
     "output_type": "stream",
     "text": [
      "old_users_data.csv\n"
     ]
    },
    {
     "data": {
      "text/html": [
       "<div>\n",
       "<style scoped>\n",
       "    .dataframe tbody tr th:only-of-type {\n",
       "        vertical-align: middle;\n",
       "    }\n",
       "\n",
       "    .dataframe tbody tr th {\n",
       "        vertical-align: top;\n",
       "    }\n",
       "\n",
       "    .dataframe thead th {\n",
       "        text-align: right;\n",
       "    }\n",
       "</style>\n",
       "<table border=\"1\" class=\"dataframe\">\n",
       "  <thead>\n",
       "    <tr style=\"text-align: right;\">\n",
       "      <th></th>\n",
       "      <th>User_Id</th>\n",
       "      <th>Full_Name</th>\n",
       "      <th>Age</th>\n",
       "      <th>Email</th>\n",
       "      <th>Password</th>\n",
       "      <th>Img_Path</th>\n",
       "    </tr>\n",
       "  </thead>\n",
       "  <tbody>\n",
       "    <tr>\n",
       "      <th>254</th>\n",
       "      <td>255</td>\n",
       "      <td>Carrol Lapere</td>\n",
       "      <td>30</td>\n",
       "      <td>clapere72@yale.edu</td>\n",
       "      <td>dY7}}iIf</td>\n",
       "      <td>User\\ProfilePicture (181).jpg</td>\n",
       "    </tr>\n",
       "    <tr>\n",
       "      <th>96</th>\n",
       "      <td>97</td>\n",
       "      <td>Josephine Cancott</td>\n",
       "      <td>38</td>\n",
       "      <td>jcancott2o@cdc.gov</td>\n",
       "      <td>bH9&amp;r1PZ9%h1</td>\n",
       "      <td>User\\ProfilePicture (97).jpg</td>\n",
       "    </tr>\n",
       "    <tr>\n",
       "      <th>28</th>\n",
       "      <td>29</td>\n",
       "      <td>Tamara Gladdor</td>\n",
       "      <td>34</td>\n",
       "      <td>tgladdors@netlog.com</td>\n",
       "      <td>sG3$f#M3yYTet'</td>\n",
       "      <td>User\\ProfilePicture (29).jpg</td>\n",
       "    </tr>\n",
       "  </tbody>\n",
       "</table>\n",
       "</div>"
      ],
      "text/plain": [
       "     User_Id          Full_Name  Age                 Email        Password  \\\n",
       "254      255      Carrol Lapere   30    clapere72@yale.edu        dY7}}iIf   \n",
       "96        97  Josephine Cancott   38    jcancott2o@cdc.gov    bH9&r1PZ9%h1   \n",
       "28        29     Tamara Gladdor   34  tgladdors@netlog.com  sG3$f#M3yYTet'   \n",
       "\n",
       "                          Img_Path  \n",
       "254  User\\ProfilePicture (181).jpg  \n",
       "96    User\\ProfilePicture (97).jpg  \n",
       "28    User\\ProfilePicture (29).jpg  "
      ]
     },
     "metadata": {},
     "output_type": "display_data"
    },
    {
     "name": "stdout",
     "output_type": "stream",
     "text": [
      "\n",
      "\n",
      "new_tourism_rating_comments.csv\n"
     ]
    },
    {
     "data": {
      "text/html": [
       "<div>\n",
       "<style scoped>\n",
       "    .dataframe tbody tr th:only-of-type {\n",
       "        vertical-align: middle;\n",
       "    }\n",
       "\n",
       "    .dataframe tbody tr th {\n",
       "        vertical-align: top;\n",
       "    }\n",
       "\n",
       "    .dataframe thead th {\n",
       "        text-align: right;\n",
       "    }\n",
       "</style>\n",
       "<table border=\"1\" class=\"dataframe\">\n",
       "  <thead>\n",
       "    <tr style=\"text-align: right;\">\n",
       "      <th></th>\n",
       "      <th>User_Id</th>\n",
       "      <th>Place_Id</th>\n",
       "      <th>Place_Ratings</th>\n",
       "      <th>Comment</th>\n",
       "    </tr>\n",
       "  </thead>\n",
       "  <tbody>\n",
       "    <tr>\n",
       "      <th>7017</th>\n",
       "      <td>220</td>\n",
       "      <td>391</td>\n",
       "      <td>1</td>\n",
       "      <td>Seriusan deh, Flower Farm Setiya Aji tuh menge...</td>\n",
       "    </tr>\n",
       "    <tr>\n",
       "      <th>1431</th>\n",
       "      <td>46</td>\n",
       "      <td>55</td>\n",
       "      <td>2</td>\n",
       "      <td>Aku sebenernya berharap lebih dari Klenteng Ji...</td>\n",
       "    </tr>\n",
       "    <tr>\n",
       "      <th>2497</th>\n",
       "      <td>80</td>\n",
       "      <td>355</td>\n",
       "      <td>3</td>\n",
       "      <td>Buat refreshing, Umbul Sidomukti masih oke lah...</td>\n",
       "    </tr>\n",
       "  </tbody>\n",
       "</table>\n",
       "</div>"
      ],
      "text/plain": [
       "      User_Id  Place_Id  Place_Ratings  \\\n",
       "7017      220       391              1   \n",
       "1431       46        55              2   \n",
       "2497       80       355              3   \n",
       "\n",
       "                                                Comment  \n",
       "7017  Seriusan deh, Flower Farm Setiya Aji tuh menge...  \n",
       "1431  Aku sebenernya berharap lebih dari Klenteng Ji...  \n",
       "2497  Buat refreshing, Umbul Sidomukti masih oke lah...  "
      ]
     },
     "metadata": {},
     "output_type": "display_data"
    },
    {
     "name": "stdout",
     "output_type": "stream",
     "text": [
      "\n",
      "\n",
      "new_tourism_with_id_links.csv\n"
     ]
    },
    {
     "data": {
      "text/html": [
       "<div>\n",
       "<style scoped>\n",
       "    .dataframe tbody tr th:only-of-type {\n",
       "        vertical-align: middle;\n",
       "    }\n",
       "\n",
       "    .dataframe tbody tr th {\n",
       "        vertical-align: top;\n",
       "    }\n",
       "\n",
       "    .dataframe thead th {\n",
       "        text-align: right;\n",
       "    }\n",
       "</style>\n",
       "<table border=\"1\" class=\"dataframe\">\n",
       "  <thead>\n",
       "    <tr style=\"text-align: right;\">\n",
       "      <th></th>\n",
       "      <th>Place_Id</th>\n",
       "      <th>Place_Name</th>\n",
       "      <th>Category</th>\n",
       "      <th>Description</th>\n",
       "      <th>City</th>\n",
       "      <th>Price</th>\n",
       "      <th>Rating</th>\n",
       "      <th>Time_Minutes</th>\n",
       "      <th>Coordinate</th>\n",
       "      <th>Lat</th>\n",
       "      <th>Long</th>\n",
       "      <th>Img_Path_0</th>\n",
       "      <th>Img_Path_1</th>\n",
       "      <th>Img_Path_2</th>\n",
       "    </tr>\n",
       "  </thead>\n",
       "  <tbody>\n",
       "    <tr>\n",
       "      <th>170</th>\n",
       "      <td>171</td>\n",
       "      <td>Candi Ijo</td>\n",
       "      <td>Budaya</td>\n",
       "      <td>Candi Ijo (bahasa Jawa: ꦕꦤ꧀ꦝꦶ​ꦆꦗꦺꦴ, translit. ...</td>\n",
       "      <td>Yogyakarta</td>\n",
       "      <td>5000</td>\n",
       "      <td>4,6</td>\n",
       "      <td>60.0</td>\n",
       "      <td>{'lat': -7.783827600000001, 'lng': 110.5118987}</td>\n",
       "      <td>-7.783828</td>\n",
       "      <td>110.511899</td>\n",
       "      <td>images_output\\Candi Ijo\\Candi Ijo_0.jpg</td>\n",
       "      <td>images_output\\Candi Ijo\\Candi Ijo_1.jpg</td>\n",
       "      <td>NaN</td>\n",
       "    </tr>\n",
       "    <tr>\n",
       "      <th>409</th>\n",
       "      <td>410</td>\n",
       "      <td>Ciputra Waterpark</td>\n",
       "      <td>Taman Hiburan</td>\n",
       "      <td>Ciputra Waterpark Surabaya – Bermain air di wa...</td>\n",
       "      <td>Surabaya</td>\n",
       "      <td>95000</td>\n",
       "      <td>4,3</td>\n",
       "      <td>90.0</td>\n",
       "      <td>{'lat': -7.2861707, 'lng': 112.6333338}</td>\n",
       "      <td>-7.286171</td>\n",
       "      <td>112.633334</td>\n",
       "      <td>images_output\\Ciputra Waterpark\\Ciputra Waterp...</td>\n",
       "      <td>images_output\\Ciputra Waterpark\\Ciputra Waterp...</td>\n",
       "      <td>NaN</td>\n",
       "    </tr>\n",
       "    <tr>\n",
       "      <th>237</th>\n",
       "      <td>238</td>\n",
       "      <td>Gunung Manglayang</td>\n",
       "      <td>Taman Hiburan, Cagar Alam</td>\n",
       "      <td>Gunung Manglayang adalah sebuah gunung bertipe...</td>\n",
       "      <td>Bandung</td>\n",
       "      <td>7500</td>\n",
       "      <td>4,5</td>\n",
       "      <td>NaN</td>\n",
       "      <td>{'lat': -6.876111099999999, 'lng': 107.7436111}</td>\n",
       "      <td>-6.876111</td>\n",
       "      <td>107.743611</td>\n",
       "      <td>images_output\\Gunung Manglayang\\Gunung Manglay...</td>\n",
       "      <td>images_output\\Gunung Manglayang\\Gunung Manglay...</td>\n",
       "      <td>images_output\\Gunung Manglayang\\Gunung Manglay...</td>\n",
       "    </tr>\n",
       "  </tbody>\n",
       "</table>\n",
       "</div>"
      ],
      "text/plain": [
       "     Place_Id         Place_Name                   Category  \\\n",
       "170       171          Candi Ijo                     Budaya   \n",
       "409       410  Ciputra Waterpark              Taman Hiburan   \n",
       "237       238  Gunung Manglayang  Taman Hiburan, Cagar Alam   \n",
       "\n",
       "                                           Description        City  Price  \\\n",
       "170  Candi Ijo (bahasa Jawa: ꦕꦤ꧀ꦝꦶ​ꦆꦗꦺꦴ, translit. ...  Yogyakarta   5000   \n",
       "409  Ciputra Waterpark Surabaya – Bermain air di wa...    Surabaya  95000   \n",
       "237  Gunung Manglayang adalah sebuah gunung bertipe...     Bandung   7500   \n",
       "\n",
       "    Rating  Time_Minutes                                       Coordinate  \\\n",
       "170    4,6          60.0  {'lat': -7.783827600000001, 'lng': 110.5118987}   \n",
       "409    4,3          90.0          {'lat': -7.2861707, 'lng': 112.6333338}   \n",
       "237    4,5           NaN  {'lat': -6.876111099999999, 'lng': 107.7436111}   \n",
       "\n",
       "          Lat        Long                                         Img_Path_0  \\\n",
       "170 -7.783828  110.511899            images_output\\Candi Ijo\\Candi Ijo_0.jpg   \n",
       "409 -7.286171  112.633334  images_output\\Ciputra Waterpark\\Ciputra Waterp...   \n",
       "237 -6.876111  107.743611  images_output\\Gunung Manglayang\\Gunung Manglay...   \n",
       "\n",
       "                                            Img_Path_1  \\\n",
       "170            images_output\\Candi Ijo\\Candi Ijo_1.jpg   \n",
       "409  images_output\\Ciputra Waterpark\\Ciputra Waterp...   \n",
       "237  images_output\\Gunung Manglayang\\Gunung Manglay...   \n",
       "\n",
       "                                            Img_Path_2  \n",
       "170                                                NaN  \n",
       "409                                                NaN  \n",
       "237  images_output\\Gunung Manglayang\\Gunung Manglay...  "
      ]
     },
     "metadata": {},
     "output_type": "display_data"
    },
    {
     "data": {
      "text/plain": [
       "(None, None)"
      ]
     },
     "execution_count": 4,
     "metadata": {},
     "output_type": "execute_result"
    }
   ],
   "source": [
    "print(\"old_users_data.csv\"),               display(user_df.sample(3)),     print(\"\\n\")\n",
    "print(\"new_tourism_rating_comments.csv\"),  display(rating_df.sample(3)),   print(\"\\n\")\n",
    "print(\"new_tourism_with_id_links.csv\"),    display(tourism_df.sample(3))"
   ]
  },
  {
   "cell_type": "markdown",
   "metadata": {
    "id": "S-c8z1oeZ-WM"
   },
   "source": [
    "# **Data Assessment**\n"
   ]
  },
  {
   "cell_type": "markdown",
   "metadata": {
    "id": "kxtQI4DO7Bp2"
   },
   "source": [
    "## **`user_df`**"
   ]
  },
  {
   "cell_type": "code",
   "execution_count": 5,
   "metadata": {
    "colab": {
     "base_uri": "https://localhost:8080/",
     "height": 206
    },
    "id": "Q80r4MXX7548",
    "outputId": "51e70752-4892-4f52-e808-f9eb4e724c6d"
   },
   "outputs": [
    {
     "data": {
      "text/html": [
       "<div>\n",
       "<style scoped>\n",
       "    .dataframe tbody tr th:only-of-type {\n",
       "        vertical-align: middle;\n",
       "    }\n",
       "\n",
       "    .dataframe tbody tr th {\n",
       "        vertical-align: top;\n",
       "    }\n",
       "\n",
       "    .dataframe thead th {\n",
       "        text-align: right;\n",
       "    }\n",
       "</style>\n",
       "<table border=\"1\" class=\"dataframe\">\n",
       "  <thead>\n",
       "    <tr style=\"text-align: right;\">\n",
       "      <th></th>\n",
       "      <th>User_Id</th>\n",
       "      <th>Full_Name</th>\n",
       "      <th>Age</th>\n",
       "      <th>Email</th>\n",
       "      <th>Password</th>\n",
       "      <th>Img_Path</th>\n",
       "    </tr>\n",
       "  </thead>\n",
       "  <tbody>\n",
       "    <tr>\n",
       "      <th>259</th>\n",
       "      <td>260</td>\n",
       "      <td>Ker Bigmore</td>\n",
       "      <td>33</td>\n",
       "      <td>kbigmore77@bandcamp.com</td>\n",
       "      <td>dP5(FFxp6F}0\"l</td>\n",
       "      <td>User\\ProfilePicture (181).jpg</td>\n",
       "    </tr>\n",
       "    <tr>\n",
       "      <th>191</th>\n",
       "      <td>192</td>\n",
       "      <td>Boyce Moller</td>\n",
       "      <td>37</td>\n",
       "      <td>bmoller5b@kickstarter.com</td>\n",
       "      <td>jN5&gt;DIi_){)j0C9f</td>\n",
       "      <td>User\\ProfilePicture (181).jpg</td>\n",
       "    </tr>\n",
       "    <tr>\n",
       "      <th>13</th>\n",
       "      <td>14</td>\n",
       "      <td>Gail Stodd</td>\n",
       "      <td>26</td>\n",
       "      <td>gstoddd@imgur.com</td>\n",
       "      <td>mC0.Y%6_|</td>\n",
       "      <td>User\\ProfilePicture (14).jpg</td>\n",
       "    </tr>\n",
       "    <tr>\n",
       "      <th>214</th>\n",
       "      <td>215</td>\n",
       "      <td>Ranique Cassey</td>\n",
       "      <td>23</td>\n",
       "      <td>rcassey5y@tiny.cc</td>\n",
       "      <td>dW1&gt;pNi?CW&gt;7</td>\n",
       "      <td>User\\ProfilePicture (181).jpg</td>\n",
       "    </tr>\n",
       "    <tr>\n",
       "      <th>47</th>\n",
       "      <td>48</td>\n",
       "      <td>Codee Arkill</td>\n",
       "      <td>35</td>\n",
       "      <td>carkill1b@xrea.com</td>\n",
       "      <td>dG0+TP4r|5</td>\n",
       "      <td>User\\ProfilePicture (48).jpg</td>\n",
       "    </tr>\n",
       "  </tbody>\n",
       "</table>\n",
       "</div>"
      ],
      "text/plain": [
       "     User_Id       Full_Name  Age                      Email  \\\n",
       "259      260     Ker Bigmore   33    kbigmore77@bandcamp.com   \n",
       "191      192    Boyce Moller   37  bmoller5b@kickstarter.com   \n",
       "13        14      Gail Stodd   26          gstoddd@imgur.com   \n",
       "214      215  Ranique Cassey   23          rcassey5y@tiny.cc   \n",
       "47        48    Codee Arkill   35         carkill1b@xrea.com   \n",
       "\n",
       "             Password                       Img_Path  \n",
       "259    dP5(FFxp6F}0\"l  User\\ProfilePicture (181).jpg  \n",
       "191  jN5>DIi_){)j0C9f  User\\ProfilePicture (181).jpg  \n",
       "13          mC0.Y%6_|   User\\ProfilePicture (14).jpg  \n",
       "214      dW1>pNi?CW>7  User\\ProfilePicture (181).jpg  \n",
       "47         dG0+TP4r|5   User\\ProfilePicture (48).jpg  "
      ]
     },
     "execution_count": 5,
     "metadata": {},
     "output_type": "execute_result"
    }
   ],
   "source": [
    "user_df.sample(5)"
   ]
  },
  {
   "cell_type": "code",
   "execution_count": 6,
   "metadata": {
    "colab": {
     "base_uri": "https://localhost:8080/",
     "height": 477
    },
    "id": "lwHaj9pD6-VM",
    "outputId": "c0bab12b-b68a-4491-f433-95ef428b2708"
   },
   "outputs": [
    {
     "name": "stdout",
     "output_type": "stream",
     "text": [
      "<class 'pandas.core.frame.DataFrame'>\n",
      "RangeIndex: 300 entries, 0 to 299\n",
      "Data columns (total 6 columns):\n",
      " #   Column     Non-Null Count  Dtype \n",
      "---  ------     --------------  ----- \n",
      " 0   User_Id    300 non-null    int64 \n",
      " 1   Full_Name  300 non-null    object\n",
      " 2   Age        300 non-null    int64 \n",
      " 3   Email      300 non-null    object\n",
      " 4   Password   300 non-null    object\n",
      " 5   Img_Path   300 non-null    object\n",
      "dtypes: int64(2), object(4)\n",
      "memory usage: 14.2+ KB\n"
     ]
    }
   ],
   "source": [
    "# View variable information in users data\n",
    "user_df.info()"
   ]
  },
  {
   "cell_type": "code",
   "execution_count": 7,
   "metadata": {
    "id": "KbxNZVp1tQtS",
    "outputId": "d866df4f-8737-4028-bbd5-df2cc62104b7"
   },
   "outputs": [
    {
     "name": "stdout",
     "output_type": "stream",
     "text": [
      "Number of unique data:\n",
      "User_Id      300\n",
      "Full_Name    300\n",
      "Age           23\n",
      "Email        300\n",
      "Password     300\n",
      "Img_Path     181\n",
      "dtype: int64\n"
     ]
    }
   ],
   "source": [
    "# View the number of unique data in each users data variable\n",
    "print(\"Number of unique data:\")\n",
    "print(user_df.nunique())"
   ]
  },
  {
   "cell_type": "code",
   "execution_count": 8,
   "metadata": {
    "id": "HQUXe6oMtQtS",
    "outputId": "88fba95e-692c-4e56-85cd-af3bc45b40e7"
   },
   "outputs": [
    {
     "name": "stdout",
     "output_type": "stream",
     "text": [
      "Number of empty data:\n",
      "User_Id      0\n",
      "Full_Name    0\n",
      "Age          0\n",
      "Email        0\n",
      "Password     0\n",
      "Img_Path     0\n",
      "dtype: int64\n"
     ]
    }
   ],
   "source": [
    "# See the number of empty data in each users data variable\n",
    "print(\"Number of empty data:\")\n",
    "print(user_df.isna().sum())"
   ]
  },
  {
   "cell_type": "code",
   "execution_count": 9,
   "metadata": {
    "id": "ZuKNZEkItQtT",
    "outputId": "710ddccf-6a2a-4529-b4e0-de540f205b0c"
   },
   "outputs": [
    {
     "name": "stdout",
     "output_type": "stream",
     "text": [
      "Number of duplicate rows: 0\n"
     ]
    }
   ],
   "source": [
    "# View the number of duplicate data in each row of seller data\n",
    "print(\"Number of duplicate rows:\", end=\" \")\n",
    "print(user_df.duplicated().sum())"
   ]
  },
  {
   "cell_type": "code",
   "execution_count": 10,
   "metadata": {
    "id": "1XBEcMcgtQtT",
    "outputId": "003c9e5d-bbc7-4917-cd76-ace066880bed"
   },
   "outputs": [
    {
     "data": {
      "text/html": [
       "<div>\n",
       "<style scoped>\n",
       "    .dataframe tbody tr th:only-of-type {\n",
       "        vertical-align: middle;\n",
       "    }\n",
       "\n",
       "    .dataframe tbody tr th {\n",
       "        vertical-align: top;\n",
       "    }\n",
       "\n",
       "    .dataframe thead th {\n",
       "        text-align: right;\n",
       "    }\n",
       "</style>\n",
       "<table border=\"1\" class=\"dataframe\">\n",
       "  <thead>\n",
       "    <tr style=\"text-align: right;\">\n",
       "      <th></th>\n",
       "      <th>User_Id</th>\n",
       "      <th>Age</th>\n",
       "    </tr>\n",
       "  </thead>\n",
       "  <tbody>\n",
       "    <tr>\n",
       "      <th>count</th>\n",
       "      <td>300.000000</td>\n",
       "      <td>300.000000</td>\n",
       "    </tr>\n",
       "    <tr>\n",
       "      <th>mean</th>\n",
       "      <td>150.500000</td>\n",
       "      <td>28.700000</td>\n",
       "    </tr>\n",
       "    <tr>\n",
       "      <th>std</th>\n",
       "      <td>86.746758</td>\n",
       "      <td>6.393716</td>\n",
       "    </tr>\n",
       "    <tr>\n",
       "      <th>min</th>\n",
       "      <td>1.000000</td>\n",
       "      <td>18.000000</td>\n",
       "    </tr>\n",
       "    <tr>\n",
       "      <th>25%</th>\n",
       "      <td>75.750000</td>\n",
       "      <td>24.000000</td>\n",
       "    </tr>\n",
       "    <tr>\n",
       "      <th>50%</th>\n",
       "      <td>150.500000</td>\n",
       "      <td>29.000000</td>\n",
       "    </tr>\n",
       "    <tr>\n",
       "      <th>75%</th>\n",
       "      <td>225.250000</td>\n",
       "      <td>34.000000</td>\n",
       "    </tr>\n",
       "    <tr>\n",
       "      <th>max</th>\n",
       "      <td>300.000000</td>\n",
       "      <td>40.000000</td>\n",
       "    </tr>\n",
       "  </tbody>\n",
       "</table>\n",
       "</div>"
      ],
      "text/plain": [
       "          User_Id         Age\n",
       "count  300.000000  300.000000\n",
       "mean   150.500000   28.700000\n",
       "std     86.746758    6.393716\n",
       "min      1.000000   18.000000\n",
       "25%     75.750000   24.000000\n",
       "50%    150.500000   29.000000\n",
       "75%    225.250000   34.000000\n",
       "max    300.000000   40.000000"
      ]
     },
     "execution_count": 10,
     "metadata": {},
     "output_type": "execute_result"
    }
   ],
   "source": [
    "# View descriptive parameter data from each numeric variable of seller data\n",
    "user_df.describe()"
   ]
  },
  {
   "cell_type": "markdown",
   "metadata": {
    "id": "R34y2sfY7jTm"
   },
   "source": [
    "## **`tourism_df`**"
   ]
  },
  {
   "cell_type": "code",
   "execution_count": 11,
   "metadata": {
    "colab": {
     "base_uri": "https://localhost:8080/",
     "height": 389
    },
    "id": "-tQQjbog7-Lh",
    "outputId": "35061129-20a2-45a2-e5b7-c69bcf6f355a"
   },
   "outputs": [
    {
     "data": {
      "text/html": [
       "<div>\n",
       "<style scoped>\n",
       "    .dataframe tbody tr th:only-of-type {\n",
       "        vertical-align: middle;\n",
       "    }\n",
       "\n",
       "    .dataframe tbody tr th {\n",
       "        vertical-align: top;\n",
       "    }\n",
       "\n",
       "    .dataframe thead th {\n",
       "        text-align: right;\n",
       "    }\n",
       "</style>\n",
       "<table border=\"1\" class=\"dataframe\">\n",
       "  <thead>\n",
       "    <tr style=\"text-align: right;\">\n",
       "      <th></th>\n",
       "      <th>Place_Id</th>\n",
       "      <th>Place_Name</th>\n",
       "      <th>Category</th>\n",
       "      <th>Description</th>\n",
       "      <th>City</th>\n",
       "      <th>Price</th>\n",
       "      <th>Rating</th>\n",
       "      <th>Time_Minutes</th>\n",
       "      <th>Coordinate</th>\n",
       "      <th>Lat</th>\n",
       "      <th>Long</th>\n",
       "      <th>Img_Path_0</th>\n",
       "      <th>Img_Path_1</th>\n",
       "      <th>Img_Path_2</th>\n",
       "    </tr>\n",
       "  </thead>\n",
       "  <tbody>\n",
       "    <tr>\n",
       "      <th>251</th>\n",
       "      <td>252</td>\n",
       "      <td>Kampoeng Tulip</td>\n",
       "      <td>Taman Hiburan</td>\n",
       "      <td>Kampoeng Tulip ialah salah satu objek wisata d...</td>\n",
       "      <td>Bandung</td>\n",
       "      <td>15000</td>\n",
       "      <td>3,8</td>\n",
       "      <td>60.0</td>\n",
       "      <td>{'lat': -6.963162, 'lng': 107.66195}</td>\n",
       "      <td>-6.963162</td>\n",
       "      <td>107.661950</td>\n",
       "      <td>images_output\\Kampoeng Tulip\\Kampoeng Tulip_0.jpg</td>\n",
       "      <td>images_output\\Kampoeng Tulip\\Kampoeng Tulip_1.jpg</td>\n",
       "      <td>NaN</td>\n",
       "    </tr>\n",
       "    <tr>\n",
       "      <th>298</th>\n",
       "      <td>299</td>\n",
       "      <td>Sendang Geulis Kahuripan</td>\n",
       "      <td>Cagar Alam</td>\n",
       "      <td>Wilayah ini lebih tepatnya berada di RPH Cikal...</td>\n",
       "      <td>Bandung</td>\n",
       "      <td>10000</td>\n",
       "      <td>4,3</td>\n",
       "      <td>120.0</td>\n",
       "      <td>{'lat': -6.7495268, 'lng': 107.478658}</td>\n",
       "      <td>-6.749527</td>\n",
       "      <td>107.478658</td>\n",
       "      <td>images_output\\Sendang Geulis Kahuripan\\Sendang...</td>\n",
       "      <td>NaN</td>\n",
       "      <td>NaN</td>\n",
       "    </tr>\n",
       "    <tr>\n",
       "      <th>325</th>\n",
       "      <td>326</td>\n",
       "      <td>Taman Kupu-Kupu Cihanjuang</td>\n",
       "      <td>Cagar Alam, Kebun Binatang</td>\n",
       "      <td>Taman Kupu-Kupu Cihanjuang Bandung ini,seperti...</td>\n",
       "      <td>Bandung</td>\n",
       "      <td>10000</td>\n",
       "      <td>4</td>\n",
       "      <td>NaN</td>\n",
       "      <td>{'lat': -6.8590047, 'lng': 107.568779}</td>\n",
       "      <td>-6.859005</td>\n",
       "      <td>107.568779</td>\n",
       "      <td>images_output\\Taman Kupu-Kupu Cihanjuang\\Taman...</td>\n",
       "      <td>NaN</td>\n",
       "      <td>NaN</td>\n",
       "    </tr>\n",
       "  </tbody>\n",
       "</table>\n",
       "</div>"
      ],
      "text/plain": [
       "     Place_Id                  Place_Name                    Category  \\\n",
       "251       252              Kampoeng Tulip               Taman Hiburan   \n",
       "298       299    Sendang Geulis Kahuripan                  Cagar Alam   \n",
       "325       326  Taman Kupu-Kupu Cihanjuang  Cagar Alam, Kebun Binatang   \n",
       "\n",
       "                                           Description     City  Price Rating  \\\n",
       "251  Kampoeng Tulip ialah salah satu objek wisata d...  Bandung  15000    3,8   \n",
       "298  Wilayah ini lebih tepatnya berada di RPH Cikal...  Bandung  10000    4,3   \n",
       "325  Taman Kupu-Kupu Cihanjuang Bandung ini,seperti...  Bandung  10000      4   \n",
       "\n",
       "     Time_Minutes                              Coordinate       Lat  \\\n",
       "251          60.0    {'lat': -6.963162, 'lng': 107.66195} -6.963162   \n",
       "298         120.0  {'lat': -6.7495268, 'lng': 107.478658} -6.749527   \n",
       "325           NaN  {'lat': -6.8590047, 'lng': 107.568779} -6.859005   \n",
       "\n",
       "           Long                                         Img_Path_0  \\\n",
       "251  107.661950  images_output\\Kampoeng Tulip\\Kampoeng Tulip_0.jpg   \n",
       "298  107.478658  images_output\\Sendang Geulis Kahuripan\\Sendang...   \n",
       "325  107.568779  images_output\\Taman Kupu-Kupu Cihanjuang\\Taman...   \n",
       "\n",
       "                                            Img_Path_1 Img_Path_2  \n",
       "251  images_output\\Kampoeng Tulip\\Kampoeng Tulip_1.jpg        NaN  \n",
       "298                                                NaN        NaN  \n",
       "325                                                NaN        NaN  "
      ]
     },
     "execution_count": 11,
     "metadata": {},
     "output_type": "execute_result"
    }
   ],
   "source": [
    "tourism_df.sample(3)"
   ]
  },
  {
   "cell_type": "code",
   "execution_count": 12,
   "metadata": {
    "colab": {
     "base_uri": "https://localhost:8080/"
    },
    "id": "a-2wQHyx7avf",
    "outputId": "de6ebe92-d6a7-4d55-d862-beabe1e8a711"
   },
   "outputs": [
    {
     "name": "stdout",
     "output_type": "stream",
     "text": [
      "<class 'pandas.core.frame.DataFrame'>\n",
      "RangeIndex: 437 entries, 0 to 436\n",
      "Data columns (total 14 columns):\n",
      " #   Column        Non-Null Count  Dtype  \n",
      "---  ------        --------------  -----  \n",
      " 0   Place_Id      437 non-null    int64  \n",
      " 1   Place_Name    437 non-null    object \n",
      " 2   Category      437 non-null    object \n",
      " 3   Description   437 non-null    object \n",
      " 4   City          437 non-null    object \n",
      " 5   Price         437 non-null    int64  \n",
      " 6   Rating        437 non-null    object \n",
      " 7   Time_Minutes  205 non-null    float64\n",
      " 8   Coordinate    437 non-null    object \n",
      " 9   Lat           437 non-null    float64\n",
      " 10  Long          437 non-null    float64\n",
      " 11  Img_Path_0    437 non-null    object \n",
      " 12  Img_Path_1    358 non-null    object \n",
      " 13  Img_Path_2    166 non-null    object \n",
      "dtypes: float64(3), int64(2), object(9)\n",
      "memory usage: 47.9+ KB\n"
     ]
    }
   ],
   "source": [
    "# View variable information in tourism data\n",
    "tourism_df.info()"
   ]
  },
  {
   "cell_type": "code",
   "execution_count": 13,
   "metadata": {
    "id": "JT0nrd4WtQtU",
    "outputId": "e1023c61-5c4a-4e00-cec1-46ff99f2ca9c"
   },
   "outputs": [
    {
     "name": "stdout",
     "output_type": "stream",
     "text": [
      "Number of unique data:\n",
      "Place_Id        437\n",
      "Place_Name      437\n",
      "Category         26\n",
      "Description     437\n",
      "City              5\n",
      "Price            50\n",
      "Rating           14\n",
      "Time_Minutes     15\n",
      "Coordinate      437\n",
      "Lat             437\n",
      "Long            437\n",
      "Img_Path_0      432\n",
      "Img_Path_1      353\n",
      "Img_Path_2      164\n",
      "dtype: int64\n"
     ]
    }
   ],
   "source": [
    "# View the number of unique data in each tourism data variable\n",
    "print(\"Number of unique data:\")\n",
    "print(tourism_df.nunique())"
   ]
  },
  {
   "cell_type": "code",
   "execution_count": 14,
   "metadata": {
    "id": "w_hr6pSftQtU",
    "outputId": "b759f953-70c1-4724-8a9b-0dd800545810"
   },
   "outputs": [
    {
     "name": "stdout",
     "output_type": "stream",
     "text": [
      "Number of empty data:\n",
      "Place_Id          0\n",
      "Place_Name        0\n",
      "Category          0\n",
      "Description       0\n",
      "City              0\n",
      "Price             0\n",
      "Rating            0\n",
      "Time_Minutes    232\n",
      "Coordinate        0\n",
      "Lat               0\n",
      "Long              0\n",
      "Img_Path_0        0\n",
      "Img_Path_1       79\n",
      "Img_Path_2      271\n",
      "dtype: int64\n"
     ]
    }
   ],
   "source": [
    "# See the number of empty data in each tourism data variable\n",
    "print(\"Number of empty data:\")\n",
    "print(tourism_df.isna().sum())"
   ]
  },
  {
   "cell_type": "code",
   "execution_count": 15,
   "metadata": {
    "id": "7ytDKLkKtQtU",
    "outputId": "3fd157c6-0521-4958-b05c-7a344a84970c"
   },
   "outputs": [
    {
     "name": "stdout",
     "output_type": "stream",
     "text": [
      "Number of duplicate rows: 0\n"
     ]
    }
   ],
   "source": [
    "# View the number of duplicate data in each row of tourism data\n",
    "print(\"Number of duplicate rows:\", end=\" \")\n",
    "print(tourism_df.duplicated().sum())"
   ]
  },
  {
   "cell_type": "code",
   "execution_count": 16,
   "metadata": {
    "id": "5RbXA46-tQtU",
    "outputId": "2933082f-291f-4a50-c113-16a3220cbd84"
   },
   "outputs": [
    {
     "name": "stdout",
     "output_type": "stream",
     "text": [
      "Number of categories: 9\n",
      "0 Bahari\n",
      "1 Taman Hiburan\n",
      "2 Cagar Alam\n",
      "3 Pusat Perbelanjaan\n",
      "4 Situs Sejarah\n",
      "5 Budaya\n",
      "6 Teater & Pertunjukan\n",
      "7 Tempat Ibadah\n",
      "8 Kebun Binatang\n"
     ]
    }
   ],
   "source": [
    "# View all unique categories\n",
    "categories_set = set()\n",
    "for data in tourism_df['Category'].tolist():\n",
    "  categories = data.split(', ')\n",
    "  for category in categories:\n",
    "    categories_set.add(category)\n",
    "\n",
    "print(f'Number of categories: {len(categories_set)}')\n",
    "for index, data in enumerate(categories_set):\n",
    "  print(index, data)"
   ]
  },
  {
   "cell_type": "code",
   "execution_count": 17,
   "metadata": {
    "id": "N1XiRmzUtQtU",
    "outputId": "4536a8b2-1594-440a-bd63-53cadce65bfd"
   },
   "outputs": [
    {
     "data": {
      "text/html": [
       "<div>\n",
       "<style scoped>\n",
       "    .dataframe tbody tr th:only-of-type {\n",
       "        vertical-align: middle;\n",
       "    }\n",
       "\n",
       "    .dataframe tbody tr th {\n",
       "        vertical-align: top;\n",
       "    }\n",
       "\n",
       "    .dataframe thead th {\n",
       "        text-align: right;\n",
       "    }\n",
       "</style>\n",
       "<table border=\"1\" class=\"dataframe\">\n",
       "  <thead>\n",
       "    <tr style=\"text-align: right;\">\n",
       "      <th></th>\n",
       "      <th>Place_Id</th>\n",
       "      <th>Price</th>\n",
       "      <th>Time_Minutes</th>\n",
       "      <th>Lat</th>\n",
       "      <th>Long</th>\n",
       "    </tr>\n",
       "  </thead>\n",
       "  <tbody>\n",
       "    <tr>\n",
       "      <th>count</th>\n",
       "      <td>437.000000</td>\n",
       "      <td>437.000000</td>\n",
       "      <td>205.000000</td>\n",
       "      <td>437.000000</td>\n",
       "      <td>437.000000</td>\n",
       "    </tr>\n",
       "    <tr>\n",
       "      <th>mean</th>\n",
       "      <td>219.000000</td>\n",
       "      <td>24652.173913</td>\n",
       "      <td>82.609756</td>\n",
       "      <td>-7.095438</td>\n",
       "      <td>109.160142</td>\n",
       "    </tr>\n",
       "    <tr>\n",
       "      <th>std</th>\n",
       "      <td>126.295289</td>\n",
       "      <td>66446.374709</td>\n",
       "      <td>52.872339</td>\n",
       "      <td>0.727241</td>\n",
       "      <td>1.962848</td>\n",
       "    </tr>\n",
       "    <tr>\n",
       "      <th>min</th>\n",
       "      <td>1.000000</td>\n",
       "      <td>0.000000</td>\n",
       "      <td>10.000000</td>\n",
       "      <td>-8.197894</td>\n",
       "      <td>103.931398</td>\n",
       "    </tr>\n",
       "    <tr>\n",
       "      <th>25%</th>\n",
       "      <td>110.000000</td>\n",
       "      <td>0.000000</td>\n",
       "      <td>45.000000</td>\n",
       "      <td>-7.749590</td>\n",
       "      <td>107.578369</td>\n",
       "    </tr>\n",
       "    <tr>\n",
       "      <th>50%</th>\n",
       "      <td>219.000000</td>\n",
       "      <td>5000.000000</td>\n",
       "      <td>60.000000</td>\n",
       "      <td>-7.020524</td>\n",
       "      <td>110.237468</td>\n",
       "    </tr>\n",
       "    <tr>\n",
       "      <th>75%</th>\n",
       "      <td>328.000000</td>\n",
       "      <td>20000.000000</td>\n",
       "      <td>120.000000</td>\n",
       "      <td>-6.829411</td>\n",
       "      <td>110.431869</td>\n",
       "    </tr>\n",
       "    <tr>\n",
       "      <th>max</th>\n",
       "      <td>437.000000</td>\n",
       "      <td>900000.000000</td>\n",
       "      <td>360.000000</td>\n",
       "      <td>1.078880</td>\n",
       "      <td>112.821662</td>\n",
       "    </tr>\n",
       "  </tbody>\n",
       "</table>\n",
       "</div>"
      ],
      "text/plain": [
       "         Place_Id          Price  Time_Minutes         Lat        Long\n",
       "count  437.000000     437.000000    205.000000  437.000000  437.000000\n",
       "mean   219.000000   24652.173913     82.609756   -7.095438  109.160142\n",
       "std    126.295289   66446.374709     52.872339    0.727241    1.962848\n",
       "min      1.000000       0.000000     10.000000   -8.197894  103.931398\n",
       "25%    110.000000       0.000000     45.000000   -7.749590  107.578369\n",
       "50%    219.000000    5000.000000     60.000000   -7.020524  110.237468\n",
       "75%    328.000000   20000.000000    120.000000   -6.829411  110.431869\n",
       "max    437.000000  900000.000000    360.000000    1.078880  112.821662"
      ]
     },
     "execution_count": 17,
     "metadata": {},
     "output_type": "execute_result"
    }
   ],
   "source": [
    "# View descriptive parameter data of each numeric variable of customer data\n",
    "tourism_df.describe()"
   ]
  },
  {
   "cell_type": "markdown",
   "metadata": {
    "id": "M68TlaL27sk6"
   },
   "source": [
    "## **`rating_df`**"
   ]
  },
  {
   "cell_type": "code",
   "execution_count": 18,
   "metadata": {
    "colab": {
     "base_uri": "https://localhost:8080/",
     "height": 143
    },
    "id": "kLHaAI_DK83d",
    "outputId": "813bc7f9-459e-4450-d276-2a98d33f2ebf"
   },
   "outputs": [
    {
     "data": {
      "text/html": [
       "<div>\n",
       "<style scoped>\n",
       "    .dataframe tbody tr th:only-of-type {\n",
       "        vertical-align: middle;\n",
       "    }\n",
       "\n",
       "    .dataframe tbody tr th {\n",
       "        vertical-align: top;\n",
       "    }\n",
       "\n",
       "    .dataframe thead th {\n",
       "        text-align: right;\n",
       "    }\n",
       "</style>\n",
       "<table border=\"1\" class=\"dataframe\">\n",
       "  <thead>\n",
       "    <tr style=\"text-align: right;\">\n",
       "      <th></th>\n",
       "      <th>User_Id</th>\n",
       "      <th>Place_Id</th>\n",
       "      <th>Place_Ratings</th>\n",
       "      <th>Comment</th>\n",
       "    </tr>\n",
       "  </thead>\n",
       "  <tbody>\n",
       "    <tr>\n",
       "      <th>431</th>\n",
       "      <td>16</td>\n",
       "      <td>73</td>\n",
       "      <td>2</td>\n",
       "      <td>Sayang banget Museum Perangko kurang terawat, ...</td>\n",
       "    </tr>\n",
       "    <tr>\n",
       "      <th>6145</th>\n",
       "      <td>192</td>\n",
       "      <td>370</td>\n",
       "      <td>3</td>\n",
       "      <td>Buat refreshing, Benteng Pendem masih oke lah,...</td>\n",
       "    </tr>\n",
       "    <tr>\n",
       "      <th>9572</th>\n",
       "      <td>299</td>\n",
       "      <td>105</td>\n",
       "      <td>3</td>\n",
       "      <td>Candi Donotirto biasa aja sih menurutku, tapi ...</td>\n",
       "    </tr>\n",
       "  </tbody>\n",
       "</table>\n",
       "</div>"
      ],
      "text/plain": [
       "      User_Id  Place_Id  Place_Ratings  \\\n",
       "431        16        73              2   \n",
       "6145      192       370              3   \n",
       "9572      299       105              3   \n",
       "\n",
       "                                                Comment  \n",
       "431   Sayang banget Museum Perangko kurang terawat, ...  \n",
       "6145  Buat refreshing, Benteng Pendem masih oke lah,...  \n",
       "9572  Candi Donotirto biasa aja sih menurutku, tapi ...  "
      ]
     },
     "execution_count": 18,
     "metadata": {},
     "output_type": "execute_result"
    }
   ],
   "source": [
    "rating_df.sample(3)"
   ]
  },
  {
   "cell_type": "code",
   "execution_count": 19,
   "metadata": {
    "colab": {
     "base_uri": "https://localhost:8080/",
     "height": 427
    },
    "id": "AAhoqIpWaIig",
    "outputId": "84902fb9-0f16-4126-e04c-70bfa2f260e7"
   },
   "outputs": [
    {
     "name": "stdout",
     "output_type": "stream",
     "text": [
      "<class 'pandas.core.frame.DataFrame'>\n",
      "RangeIndex: 9597 entries, 0 to 9596\n",
      "Data columns (total 4 columns):\n",
      " #   Column         Non-Null Count  Dtype \n",
      "---  ------         --------------  ----- \n",
      " 0   User_Id        9597 non-null   int64 \n",
      " 1   Place_Id       9597 non-null   int64 \n",
      " 2   Place_Ratings  9597 non-null   int64 \n",
      " 3   Comment        9597 non-null   object\n",
      "dtypes: int64(3), object(1)\n",
      "memory usage: 300.0+ KB\n"
     ]
    }
   ],
   "source": [
    "# View variable information in rating data\n",
    "rating_df.info()"
   ]
  },
  {
   "cell_type": "code",
   "execution_count": 20,
   "metadata": {
    "id": "2lx5t8LHtQtV",
    "outputId": "9ebd687f-4e06-4465-df95-02c6f26e639d"
   },
   "outputs": [
    {
     "name": "stdout",
     "output_type": "stream",
     "text": [
      "Number of unique data:\n",
      "User_Id           300\n",
      "Place_Id          437\n",
      "Place_Ratings       5\n",
      "Comment          7118\n",
      "dtype: int64\n"
     ]
    }
   ],
   "source": [
    "# View the number of unique data in each rating data variable\n",
    "print(\"Number of unique data:\")\n",
    "print(rating_df.nunique())"
   ]
  },
  {
   "cell_type": "code",
   "execution_count": 21,
   "metadata": {
    "id": "kd0FH5HLtQtV",
    "outputId": "7688c4d6-8d6b-4564-cce2-d501ca53feaf"
   },
   "outputs": [
    {
     "name": "stdout",
     "output_type": "stream",
     "text": [
      "Number of empty data:\n",
      "User_Id          0\n",
      "Place_Id         0\n",
      "Place_Ratings    0\n",
      "Comment          0\n",
      "dtype: int64\n"
     ]
    }
   ],
   "source": [
    "# See the number of empty data in each rating data variable\n",
    "print(\"Number of empty data:\")\n",
    "print(rating_df.isna().sum())"
   ]
  },
  {
   "cell_type": "code",
   "execution_count": 22,
   "metadata": {
    "id": "z58fsBR_tQtV",
    "outputId": "8cb42f6e-4507-4a95-8b79-71560285dfab"
   },
   "outputs": [
    {
     "name": "stdout",
     "output_type": "stream",
     "text": [
      "Number of duplicate rows: 0\n"
     ]
    }
   ],
   "source": [
    "# View the number of duplicate data in each row of rating data\n",
    "print(\"Number of duplicate rows:\", end=\" \")\n",
    "print(rating_df.duplicated().sum())"
   ]
  },
  {
   "cell_type": "code",
   "execution_count": 23,
   "metadata": {
    "id": "ljAOLzUytQtV",
    "outputId": "54d201d3-0a71-4471-f9b8-95b5a58a758e"
   },
   "outputs": [
    {
     "data": {
      "text/html": [
       "<div>\n",
       "<style scoped>\n",
       "    .dataframe tbody tr th:only-of-type {\n",
       "        vertical-align: middle;\n",
       "    }\n",
       "\n",
       "    .dataframe tbody tr th {\n",
       "        vertical-align: top;\n",
       "    }\n",
       "\n",
       "    .dataframe thead th {\n",
       "        text-align: right;\n",
       "    }\n",
       "</style>\n",
       "<table border=\"1\" class=\"dataframe\">\n",
       "  <thead>\n",
       "    <tr style=\"text-align: right;\">\n",
       "      <th></th>\n",
       "      <th>User_Id</th>\n",
       "      <th>Place_Id</th>\n",
       "      <th>Place_Ratings</th>\n",
       "    </tr>\n",
       "  </thead>\n",
       "  <tbody>\n",
       "    <tr>\n",
       "      <th>count</th>\n",
       "      <td>9597.000000</td>\n",
       "      <td>9597.000000</td>\n",
       "      <td>9597.000000</td>\n",
       "    </tr>\n",
       "    <tr>\n",
       "      <th>mean</th>\n",
       "      <td>151.046681</td>\n",
       "      <td>219.356049</td>\n",
       "      <td>3.066688</td>\n",
       "    </tr>\n",
       "    <tr>\n",
       "      <th>std</th>\n",
       "      <td>86.141501</td>\n",
       "      <td>126.126850</td>\n",
       "      <td>1.381008</td>\n",
       "    </tr>\n",
       "    <tr>\n",
       "      <th>min</th>\n",
       "      <td>1.000000</td>\n",
       "      <td>1.000000</td>\n",
       "      <td>1.000000</td>\n",
       "    </tr>\n",
       "    <tr>\n",
       "      <th>25%</th>\n",
       "      <td>76.000000</td>\n",
       "      <td>109.000000</td>\n",
       "      <td>2.000000</td>\n",
       "    </tr>\n",
       "    <tr>\n",
       "      <th>50%</th>\n",
       "      <td>150.000000</td>\n",
       "      <td>220.000000</td>\n",
       "      <td>3.000000</td>\n",
       "    </tr>\n",
       "    <tr>\n",
       "      <th>75%</th>\n",
       "      <td>226.000000</td>\n",
       "      <td>329.000000</td>\n",
       "      <td>4.000000</td>\n",
       "    </tr>\n",
       "    <tr>\n",
       "      <th>max</th>\n",
       "      <td>300.000000</td>\n",
       "      <td>437.000000</td>\n",
       "      <td>5.000000</td>\n",
       "    </tr>\n",
       "  </tbody>\n",
       "</table>\n",
       "</div>"
      ],
      "text/plain": [
       "           User_Id     Place_Id  Place_Ratings\n",
       "count  9597.000000  9597.000000    9597.000000\n",
       "mean    151.046681   219.356049       3.066688\n",
       "std      86.141501   126.126850       1.381008\n",
       "min       1.000000     1.000000       1.000000\n",
       "25%      76.000000   109.000000       2.000000\n",
       "50%     150.000000   220.000000       3.000000\n",
       "75%     226.000000   329.000000       4.000000\n",
       "max     300.000000   437.000000       5.000000"
      ]
     },
     "execution_count": 23,
     "metadata": {},
     "output_type": "execute_result"
    }
   ],
   "source": [
    "# View descriptive parameter data of each numeric variable of rating data\n",
    "rating_df.describe()"
   ]
  },
  {
   "cell_type": "markdown",
   "metadata": {
    "id": "ttCFTTwRtwij"
   },
   "source": [
    "# **Data Cleaning**"
   ]
  },
  {
   "cell_type": "markdown",
   "metadata": {
    "id": "XsyiDNmhtQtV"
   },
   "source": [
    "## **`user_df`**"
   ]
  },
  {
   "cell_type": "code",
   "execution_count": 24,
   "metadata": {
    "id": "kAEjnAGAtQtV",
    "outputId": "d622f727-0f39-4fb8-8cde-7b0d9f8e02a0"
   },
   "outputs": [
    {
     "data": {
      "text/html": [
       "<div>\n",
       "<style scoped>\n",
       "    .dataframe tbody tr th:only-of-type {\n",
       "        vertical-align: middle;\n",
       "    }\n",
       "\n",
       "    .dataframe tbody tr th {\n",
       "        vertical-align: top;\n",
       "    }\n",
       "\n",
       "    .dataframe thead th {\n",
       "        text-align: right;\n",
       "    }\n",
       "</style>\n",
       "<table border=\"1\" class=\"dataframe\">\n",
       "  <thead>\n",
       "    <tr style=\"text-align: right;\">\n",
       "      <th></th>\n",
       "      <th>User_Id</th>\n",
       "      <th>Full_Name</th>\n",
       "      <th>Age</th>\n",
       "    </tr>\n",
       "  </thead>\n",
       "  <tbody>\n",
       "    <tr>\n",
       "      <th>0</th>\n",
       "      <td>1</td>\n",
       "      <td>Corey Bloxsom</td>\n",
       "      <td>20</td>\n",
       "    </tr>\n",
       "    <tr>\n",
       "      <th>1</th>\n",
       "      <td>2</td>\n",
       "      <td>Koo Houtby</td>\n",
       "      <td>21</td>\n",
       "    </tr>\n",
       "    <tr>\n",
       "      <th>2</th>\n",
       "      <td>3</td>\n",
       "      <td>Haydon Coldrick</td>\n",
       "      <td>23</td>\n",
       "    </tr>\n",
       "  </tbody>\n",
       "</table>\n",
       "</div>"
      ],
      "text/plain": [
       "   User_Id        Full_Name  Age\n",
       "0        1    Corey Bloxsom   20\n",
       "1        2       Koo Houtby   21\n",
       "2        3  Haydon Coldrick   23"
      ]
     },
     "execution_count": 24,
     "metadata": {},
     "output_type": "execute_result"
    }
   ],
   "source": [
    "# Only keep necessary columns\n",
    "user_df = user_df[['User_Id', 'Full_Name', 'Age']].copy()\n",
    "user_df.head(3)"
   ]
  },
  {
   "cell_type": "markdown",
   "metadata": {
    "id": "lZrTNon-tQtW"
   },
   "source": [
    "## **`tourism_df`**"
   ]
  },
  {
   "cell_type": "code",
   "execution_count": 25,
   "metadata": {
    "id": "rQ6cveFotQtW",
    "outputId": "8147b373-b1b8-4386-97f7-f4f0c8687e0a"
   },
   "outputs": [
    {
     "data": {
      "text/html": [
       "<div>\n",
       "<style scoped>\n",
       "    .dataframe tbody tr th:only-of-type {\n",
       "        vertical-align: middle;\n",
       "    }\n",
       "\n",
       "    .dataframe tbody tr th {\n",
       "        vertical-align: top;\n",
       "    }\n",
       "\n",
       "    .dataframe thead th {\n",
       "        text-align: right;\n",
       "    }\n",
       "</style>\n",
       "<table border=\"1\" class=\"dataframe\">\n",
       "  <thead>\n",
       "    <tr style=\"text-align: right;\">\n",
       "      <th></th>\n",
       "      <th>Place_Id</th>\n",
       "      <th>Place_Name</th>\n",
       "      <th>Category</th>\n",
       "      <th>City</th>\n",
       "      <th>Price</th>\n",
       "      <th>Rating</th>\n",
       "      <th>Time_Minutes</th>\n",
       "    </tr>\n",
       "  </thead>\n",
       "  <tbody>\n",
       "    <tr>\n",
       "      <th>0</th>\n",
       "      <td>1</td>\n",
       "      <td>Monumen Nasional</td>\n",
       "      <td>Budaya, Situs Sejarah</td>\n",
       "      <td>Jakarta</td>\n",
       "      <td>20000</td>\n",
       "      <td>4,6</td>\n",
       "      <td>15.0</td>\n",
       "    </tr>\n",
       "    <tr>\n",
       "      <th>1</th>\n",
       "      <td>2</td>\n",
       "      <td>Kota Tua</td>\n",
       "      <td>Budaya</td>\n",
       "      <td>Jakarta</td>\n",
       "      <td>0</td>\n",
       "      <td>4,6</td>\n",
       "      <td>90.0</td>\n",
       "    </tr>\n",
       "    <tr>\n",
       "      <th>2</th>\n",
       "      <td>3</td>\n",
       "      <td>Dunia Fantasi</td>\n",
       "      <td>Taman Hiburan, Bahari</td>\n",
       "      <td>Jakarta</td>\n",
       "      <td>270000</td>\n",
       "      <td>4,6</td>\n",
       "      <td>360.0</td>\n",
       "    </tr>\n",
       "  </tbody>\n",
       "</table>\n",
       "</div>"
      ],
      "text/plain": [
       "   Place_Id        Place_Name               Category     City   Price Rating  \\\n",
       "0         1  Monumen Nasional  Budaya, Situs Sejarah  Jakarta   20000    4,6   \n",
       "1         2          Kota Tua                 Budaya  Jakarta       0    4,6   \n",
       "2         3     Dunia Fantasi  Taman Hiburan, Bahari  Jakarta  270000    4,6   \n",
       "\n",
       "   Time_Minutes  \n",
       "0          15.0  \n",
       "1          90.0  \n",
       "2         360.0  "
      ]
     },
     "execution_count": 25,
     "metadata": {},
     "output_type": "execute_result"
    }
   ],
   "source": [
    "# Only keep necessary columns\n",
    "columns = ['Place_Id', 'Place_Name', 'Category', 'City', 'Price', 'Rating', 'Time_Minutes']\n",
    "tourism_df = tourism_df[columns].copy()\n",
    "tourism_df.head(3)"
   ]
  },
  {
   "cell_type": "code",
   "execution_count": 26,
   "metadata": {
    "colab": {
     "base_uri": "https://localhost:8080/"
    },
    "collapsed": true,
    "id": "6sr_bcYCECYQ",
    "outputId": "8bea0ac7-70d9-48cb-e96f-5152b8ab12b1"
   },
   "outputs": [
    {
     "name": "stdout",
     "output_type": "stream",
     "text": [
      "<class 'pandas.core.frame.DataFrame'>\n",
      "RangeIndex: 437 entries, 0 to 436\n",
      "Data columns (total 7 columns):\n",
      " #   Column        Non-Null Count  Dtype  \n",
      "---  ------        --------------  -----  \n",
      " 0   Place_Id      437 non-null    int64  \n",
      " 1   Place_Name    437 non-null    object \n",
      " 2   Category      437 non-null    object \n",
      " 3   City          437 non-null    object \n",
      " 4   Price         437 non-null    int64  \n",
      " 5   Rating        437 non-null    float64\n",
      " 6   Time_Minutes  205 non-null    float64\n",
      "dtypes: float64(2), int64(2), object(3)\n",
      "memory usage: 24.0+ KB\n"
     ]
    }
   ],
   "source": [
    "# Convert Rating columns with commas to proper float format\n",
    "tourism_df['Rating'] = tourism_df['Rating'].replace(',', '.', regex=True)\n",
    "tourism_df['Rating'] = tourism_df['Rating'].astype(dtype='float64')\n",
    "tourism_df.info()"
   ]
  },
  {
   "cell_type": "code",
   "execution_count": 27,
   "metadata": {
    "id": "HaXejUYFtQtW"
   },
   "outputs": [],
   "source": [
    "# Fill missing Time_Minutes with the median\n",
    "tourism_df.fillna({'Time_Minutes': tourism_df['Time_Minutes'].median()}, inplace=True)"
   ]
  },
  {
   "cell_type": "markdown",
   "metadata": {
    "id": "oFvvVF-ttQtW"
   },
   "source": [
    "## **`rating_df`**"
   ]
  },
  {
   "cell_type": "code",
   "execution_count": 28,
   "metadata": {
    "id": "k8kNtLX9tQtW",
    "outputId": "de175088-09ac-4d29-ff43-4d61e22ccc44"
   },
   "outputs": [
    {
     "data": {
      "text/html": [
       "<div>\n",
       "<style scoped>\n",
       "    .dataframe tbody tr th:only-of-type {\n",
       "        vertical-align: middle;\n",
       "    }\n",
       "\n",
       "    .dataframe tbody tr th {\n",
       "        vertical-align: top;\n",
       "    }\n",
       "\n",
       "    .dataframe thead th {\n",
       "        text-align: right;\n",
       "    }\n",
       "</style>\n",
       "<table border=\"1\" class=\"dataframe\">\n",
       "  <thead>\n",
       "    <tr style=\"text-align: right;\">\n",
       "      <th></th>\n",
       "      <th>User_Id</th>\n",
       "      <th>Place_Id</th>\n",
       "      <th>Place_Ratings</th>\n",
       "    </tr>\n",
       "  </thead>\n",
       "  <tbody>\n",
       "    <tr>\n",
       "      <th>0</th>\n",
       "      <td>1</td>\n",
       "      <td>179</td>\n",
       "      <td>3</td>\n",
       "    </tr>\n",
       "    <tr>\n",
       "      <th>1</th>\n",
       "      <td>1</td>\n",
       "      <td>344</td>\n",
       "      <td>2</td>\n",
       "    </tr>\n",
       "    <tr>\n",
       "      <th>2</th>\n",
       "      <td>1</td>\n",
       "      <td>5</td>\n",
       "      <td>5</td>\n",
       "    </tr>\n",
       "  </tbody>\n",
       "</table>\n",
       "</div>"
      ],
      "text/plain": [
       "   User_Id  Place_Id  Place_Ratings\n",
       "0        1       179              3\n",
       "1        1       344              2\n",
       "2        1         5              5"
      ]
     },
     "execution_count": 28,
     "metadata": {},
     "output_type": "execute_result"
    }
   ],
   "source": [
    "# Only keep necessary columns\n",
    "rating_df = rating_df[['User_Id', 'Place_Id', 'Place_Ratings']].copy()\n",
    "rating_df.head(3)"
   ]
  },
  {
   "cell_type": "markdown",
   "metadata": {
    "id": "L8WRa_7qtQtW"
   },
   "source": [
    "# **Explanatory Data Analysis**"
   ]
  },
  {
   "cell_type": "markdown",
   "metadata": {
    "id": "FLJX7l8ftQta"
   },
   "source": [
    "## **`user_df`**"
   ]
  },
  {
   "cell_type": "code",
   "execution_count": 29,
   "metadata": {
    "id": "UH56EJcMtQta",
    "outputId": "06e7e20f-39c4-497d-b727-87010afdcc7d"
   },
   "outputs": [
    {
     "data": {
      "image/png": "[encoded data removed]",
      "text/plain": [
       "<Figure size 640x480 with 1 Axes>"
      ]
     },
     "metadata": {},
     "output_type": "display_data"
    }
   ],
   "source": [
    "# View the distribution of user based on age\n",
    "users_age_df = pd.DataFrame(user_df.groupby(by='Age')['User_Id'].nunique())\n",
    "users_age_df.reset_index(inplace=True)\n",
    "users_age_df.rename(columns={'User_Id': 'Count'}, inplace=True)\n",
    "\n",
    "# Visualize the distribution of user based on age\n",
    "sns.barplot(x='Age', y='Count', data=users_age_df.sort_values(by='Age', ascending=True))\n",
    "plt.title('Users by Age', loc='center', fontsize=10)\n",
    "plt.show()"
   ]
  },
  {
   "cell_type": "markdown",
   "metadata": {
    "id": "n4LPe17NtQta"
   },
   "source": [
    "## **`tourism_df`**"
   ]
  },
  {
   "cell_type": "code",
   "execution_count": 30,
   "metadata": {
    "id": "N-w7rKNMtQta",
    "outputId": "2f3713c2-a93f-438f-87e0-b38ff16c9734"
   },
   "outputs": [
    {
     "data": {
      "text/plain": [
       "array([[<Axes: title={'center': 'Price'}>,\n",
       "        <Axes: title={'center': 'Rating'}>],\n",
       "       [<Axes: title={'center': 'Time_Minutes'}>, <Axes: >]], dtype=object)"
      ]
     },
     "execution_count": 30,
     "metadata": {},
     "output_type": "execute_result"
    },
    {
     "data": {
      "image/png": "[encoded data removed]",
      "text/plain": [
       "<Figure size 1000x600 with 4 Axes>"
      ]
     },
     "metadata": {},
     "output_type": "display_data"
    }
   ],
   "source": [
    "# View the distribution of numeric values\n",
    "tourism_df[['Price', 'Rating', 'Time_Minutes']].hist(figsize=(10, 6))"
   ]
  },
  {
   "cell_type": "code",
   "execution_count": 31,
   "metadata": {
    "id": "S7oUFocntQta",
    "outputId": "ace42f6c-6290-4622-bbad-20f355077396"
   },
   "outputs": [
    {
     "data": {
      "image/png": "[encoded data removed]",
      "text/plain": [
       "<Figure size 640x480 with 1 Axes>"
      ]
     },
     "metadata": {},
     "output_type": "display_data"
    }
   ],
   "source": [
    "# View the distribution of tourism spots based on city\n",
    "tourism_city_df = pd.DataFrame(tourism_df.groupby(by='City')['Place_Id'].nunique())\n",
    "tourism_city_df.reset_index(inplace=True)\n",
    "tourism_city_df.rename(columns={'Place_Id': 'Count'}, inplace=True)\n",
    "\n",
    "# Visualize the distribution of tourism spots based on city\n",
    "sns.barplot(x=\"City\", y=\"Count\", data=tourism_city_df.sort_values(by=\"Count\", ascending=False))\n",
    "plt.title(\"Tourism Spots by City\", loc=\"center\", fontsize=10)\n",
    "plt.show()"
   ]
  },
  {
   "cell_type": "code",
   "execution_count": 32,
   "metadata": {
    "id": "rasBQAIRtQtb",
    "outputId": "093814ff-0988-4488-e46e-e90d570397c4"
   },
   "outputs": [
    {
     "data": {
      "image/png": "[encoded data removed]",
      "text/plain": [
       "<Figure size 640x480 with 1 Axes>"
      ]
     },
     "metadata": {},
     "output_type": "display_data"
    }
   ],
   "source": [
    "# View the distribution of tourism spots based on category\n",
    "tourism_category_df = tourism_df.copy()\n",
    "tourism_category_df['Category'] = tourism_category_df['Category'].str.split(', ')\n",
    "tourism_category_df = tourism_category_df.explode('Category').groupby('Category').size().reset_index(name='Count')\n",
    "\n",
    "# Visualize the distribution of tourism spots based on category\n",
    "sns.barplot(x=\"Category\", y=\"Count\", data=tourism_category_df.sort_values(by=\"Count\", ascending=False))\n",
    "plt.title(\"Tourism Spots by Category (Split)\", loc=\"center\", fontsize=10)\n",
    "plt.xticks(rotation=45)\n",
    "plt.show()"
   ]
  },
  {
   "cell_type": "markdown",
   "metadata": {
    "id": "9ikA2CK9tQtb"
   },
   "source": [
    "## **`rating_df`**"
   ]
  },
  {
   "cell_type": "code",
   "execution_count": 33,
   "metadata": {
    "id": "9o8IEGKUtQtb",
    "outputId": "beb7fb7c-027e-4aba-aefa-e21c3f422c0c"
   },
   "outputs": [
    {
     "data": {
      "image/png": "[encoded data removed]",
      "text/plain": [
       "<Figure size 600x400 with 1 Axes>"
      ]
     },
     "metadata": {},
     "output_type": "display_data"
    }
   ],
   "source": [
    "# View the distribution of user ratings\n",
    "plt.figure(figsize=(6, 4))\n",
    "plt.hist(rating_df['Place_Ratings'])\n",
    "plt.title(\"Distribution of Ratings\")\n",
    "plt.show()"
   ]
  },
  {
   "cell_type": "markdown",
   "metadata": {
    "id": "pq2sifWtjHfK"
   },
   "source": [
    "# **Data Preprocessing**"
   ]
  },
  {
   "cell_type": "markdown",
   "metadata": {
    "id": "LsTR6GB6MUUW"
   },
   "source": [
    "## **Create User Vector Basket**"
   ]
  },
  {
   "cell_type": "markdown",
   "metadata": {
    "id": "N_djy15_N9y_"
   },
   "source": [
    "![image.png](data:image/png;base64,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)"
   ]
  },
  {
   "cell_type": "code",
   "execution_count": 34,
   "metadata": {
    "id": "WLiLnAtpMXE7"
   },
   "outputs": [],
   "source": [
    "def get_user_vector_basket(rating_df: pd.DataFrame) -> tuple[pd.DataFrame, pd.DataFrame]:\n",
    "\n",
    "  def encode_values(x):\n",
    "    if x == 0:\n",
    "      return 0\n",
    "    if x > 0:\n",
    "      return 1\n",
    "\n",
    "  user_vector = rating_df.groupby(['Place_Id', 'User_Id'])['Place_Ratings']\\\n",
    "                .sum().unstack().reset_index().fillna(0).set_index('Place_Id')\n",
    "\n",
    "  # Calculates the average rating only for values ​​greater than zero\n",
    "  average_ratings = np.round(user_vector.replace(0, np.nan).mean(axis=1), 1)\n",
    "  average_ratings = average_ratings.fillna(0)\n",
    "\n",
    "  # Adding User_Id = 0 with the average in the leftmost column\n",
    "  user_vector.insert(0, 0, average_ratings)\n",
    "\n",
    "  # Encode user vector to 0 and 1\n",
    "  user_vector_encoded = user_vector.map(encode_values)\n",
    "\n",
    "  return user_vector, user_vector_encoded"
   ]
  },
  {
   "cell_type": "code",
   "execution_count": 35,
   "metadata": {
    "colab": {
     "base_uri": "https://localhost:8080/",
     "height": 892
    },
    "id": "9IoVpgQPWIRZ",
    "outputId": "a900994b-a841-4286-8ec3-1110fe960b8c"
   },
   "outputs": [
    {
     "data": {
      "text/html": [
       "<div>\n",
       "<style scoped>\n",
       "    .dataframe tbody tr th:only-of-type {\n",
       "        vertical-align: middle;\n",
       "    }\n",
       "\n",
       "    .dataframe tbody tr th {\n",
       "        vertical-align: top;\n",
       "    }\n",
       "\n",
       "    .dataframe thead th {\n",
       "        text-align: right;\n",
       "    }\n",
       "</style>\n",
       "<table border=\"1\" class=\"dataframe\">\n",
       "  <thead>\n",
       "    <tr style=\"text-align: right;\">\n",
       "      <th>User_Id</th>\n",
       "      <th>0</th>\n",
       "      <th>1</th>\n",
       "      <th>2</th>\n",
       "      <th>3</th>\n",
       "      <th>4</th>\n",
       "      <th>5</th>\n",
       "      <th>6</th>\n",
       "      <th>7</th>\n",
       "      <th>8</th>\n",
       "      <th>9</th>\n",
       "      <th>...</th>\n",
       "      <th>291</th>\n",
       "      <th>292</th>\n",
       "      <th>293</th>\n",
       "      <th>294</th>\n",
       "      <th>295</th>\n",
       "      <th>296</th>\n",
       "      <th>297</th>\n",
       "      <th>298</th>\n",
       "      <th>299</th>\n",
       "      <th>300</th>\n",
       "    </tr>\n",
       "    <tr>\n",
       "      <th>Place_Id</th>\n",
       "      <th></th>\n",
       "      <th></th>\n",
       "      <th></th>\n",
       "      <th></th>\n",
       "      <th></th>\n",
       "      <th></th>\n",
       "      <th></th>\n",
       "      <th></th>\n",
       "      <th></th>\n",
       "      <th></th>\n",
       "      <th></th>\n",
       "      <th></th>\n",
       "      <th></th>\n",
       "      <th></th>\n",
       "      <th></th>\n",
       "      <th></th>\n",
       "      <th></th>\n",
       "      <th></th>\n",
       "      <th></th>\n",
       "      <th></th>\n",
       "      <th></th>\n",
       "    </tr>\n",
       "  </thead>\n",
       "  <tbody>\n",
       "    <tr>\n",
       "      <th>1</th>\n",
       "      <td>3.7</td>\n",
       "      <td>0.0</td>\n",
       "      <td>0.0</td>\n",
       "      <td>0.0</td>\n",
       "      <td>0.0</td>\n",
       "      <td>0.0</td>\n",
       "      <td>0.0</td>\n",
       "      <td>0.0</td>\n",
       "      <td>0.0</td>\n",
       "      <td>0.0</td>\n",
       "      <td>...</td>\n",
       "      <td>0.0</td>\n",
       "      <td>0.0</td>\n",
       "      <td>0.0</td>\n",
       "      <td>0.0</td>\n",
       "      <td>0.0</td>\n",
       "      <td>0.0</td>\n",
       "      <td>0.0</td>\n",
       "      <td>0.0</td>\n",
       "      <td>0.0</td>\n",
       "      <td>0.0</td>\n",
       "    </tr>\n",
       "    <tr>\n",
       "      <th>2</th>\n",
       "      <td>2.8</td>\n",
       "      <td>0.0</td>\n",
       "      <td>5.0</td>\n",
       "      <td>0.0</td>\n",
       "      <td>0.0</td>\n",
       "      <td>0.0</td>\n",
       "      <td>0.0</td>\n",
       "      <td>0.0</td>\n",
       "      <td>0.0</td>\n",
       "      <td>0.0</td>\n",
       "      <td>...</td>\n",
       "      <td>0.0</td>\n",
       "      <td>3.0</td>\n",
       "      <td>0.0</td>\n",
       "      <td>0.0</td>\n",
       "      <td>2.0</td>\n",
       "      <td>0.0</td>\n",
       "      <td>0.0</td>\n",
       "      <td>0.0</td>\n",
       "      <td>0.0</td>\n",
       "      <td>0.0</td>\n",
       "    </tr>\n",
       "    <tr>\n",
       "      <th>3</th>\n",
       "      <td>2.4</td>\n",
       "      <td>0.0</td>\n",
       "      <td>0.0</td>\n",
       "      <td>0.0</td>\n",
       "      <td>0.0</td>\n",
       "      <td>0.0</td>\n",
       "      <td>0.0</td>\n",
       "      <td>0.0</td>\n",
       "      <td>0.0</td>\n",
       "      <td>0.0</td>\n",
       "      <td>...</td>\n",
       "      <td>0.0</td>\n",
       "      <td>0.0</td>\n",
       "      <td>0.0</td>\n",
       "      <td>0.0</td>\n",
       "      <td>1.0</td>\n",
       "      <td>0.0</td>\n",
       "      <td>0.0</td>\n",
       "      <td>0.0</td>\n",
       "      <td>0.0</td>\n",
       "      <td>0.0</td>\n",
       "    </tr>\n",
       "    <tr>\n",
       "      <th>4</th>\n",
       "      <td>2.9</td>\n",
       "      <td>0.0</td>\n",
       "      <td>0.0</td>\n",
       "      <td>0.0</td>\n",
       "      <td>4.0</td>\n",
       "      <td>3.0</td>\n",
       "      <td>4.0</td>\n",
       "      <td>0.0</td>\n",
       "      <td>0.0</td>\n",
       "      <td>0.0</td>\n",
       "      <td>...</td>\n",
       "      <td>0.0</td>\n",
       "      <td>0.0</td>\n",
       "      <td>0.0</td>\n",
       "      <td>0.0</td>\n",
       "      <td>0.0</td>\n",
       "      <td>0.0</td>\n",
       "      <td>0.0</td>\n",
       "      <td>0.0</td>\n",
       "      <td>0.0</td>\n",
       "      <td>0.0</td>\n",
       "    </tr>\n",
       "    <tr>\n",
       "      <th>5</th>\n",
       "      <td>3.5</td>\n",
       "      <td>5.0</td>\n",
       "      <td>0.0</td>\n",
       "      <td>0.0</td>\n",
       "      <td>5.0</td>\n",
       "      <td>0.0</td>\n",
       "      <td>0.0</td>\n",
       "      <td>0.0</td>\n",
       "      <td>0.0</td>\n",
       "      <td>0.0</td>\n",
       "      <td>...</td>\n",
       "      <td>0.0</td>\n",
       "      <td>0.0</td>\n",
       "      <td>0.0</td>\n",
       "      <td>0.0</td>\n",
       "      <td>0.0</td>\n",
       "      <td>0.0</td>\n",
       "      <td>0.0</td>\n",
       "      <td>0.0</td>\n",
       "      <td>0.0</td>\n",
       "      <td>0.0</td>\n",
       "    </tr>\n",
       "    <tr>\n",
       "      <th>...</th>\n",
       "      <td>...</td>\n",
       "      <td>...</td>\n",
       "      <td>...</td>\n",
       "      <td>...</td>\n",
       "      <td>...</td>\n",
       "      <td>...</td>\n",
       "      <td>...</td>\n",
       "      <td>...</td>\n",
       "      <td>...</td>\n",
       "      <td>...</td>\n",
       "      <td>...</td>\n",
       "      <td>...</td>\n",
       "      <td>...</td>\n",
       "      <td>...</td>\n",
       "      <td>...</td>\n",
       "      <td>...</td>\n",
       "      <td>...</td>\n",
       "      <td>...</td>\n",
       "      <td>...</td>\n",
       "      <td>...</td>\n",
       "      <td>...</td>\n",
       "    </tr>\n",
       "    <tr>\n",
       "      <th>433</th>\n",
       "      <td>3.4</td>\n",
       "      <td>0.0</td>\n",
       "      <td>0.0</td>\n",
       "      <td>0.0</td>\n",
       "      <td>0.0</td>\n",
       "      <td>4.0</td>\n",
       "      <td>4.0</td>\n",
       "      <td>0.0</td>\n",
       "      <td>4.0</td>\n",
       "      <td>0.0</td>\n",
       "      <td>...</td>\n",
       "      <td>0.0</td>\n",
       "      <td>0.0</td>\n",
       "      <td>0.0</td>\n",
       "      <td>0.0</td>\n",
       "      <td>0.0</td>\n",
       "      <td>0.0</td>\n",
       "      <td>0.0</td>\n",
       "      <td>0.0</td>\n",
       "      <td>0.0</td>\n",
       "      <td>0.0</td>\n",
       "    </tr>\n",
       "    <tr>\n",
       "      <th>434</th>\n",
       "      <td>2.4</td>\n",
       "      <td>0.0</td>\n",
       "      <td>0.0</td>\n",
       "      <td>0.0</td>\n",
       "      <td>0.0</td>\n",
       "      <td>4.0</td>\n",
       "      <td>0.0</td>\n",
       "      <td>0.0</td>\n",
       "      <td>0.0</td>\n",
       "      <td>0.0</td>\n",
       "      <td>...</td>\n",
       "      <td>0.0</td>\n",
       "      <td>0.0</td>\n",
       "      <td>0.0</td>\n",
       "      <td>0.0</td>\n",
       "      <td>0.0</td>\n",
       "      <td>0.0</td>\n",
       "      <td>0.0</td>\n",
       "      <td>0.0</td>\n",
       "      <td>0.0</td>\n",
       "      <td>0.0</td>\n",
       "    </tr>\n",
       "    <tr>\n",
       "      <th>435</th>\n",
       "      <td>3.0</td>\n",
       "      <td>0.0</td>\n",
       "      <td>0.0</td>\n",
       "      <td>0.0</td>\n",
       "      <td>0.0</td>\n",
       "      <td>0.0</td>\n",
       "      <td>0.0</td>\n",
       "      <td>0.0</td>\n",
       "      <td>0.0</td>\n",
       "      <td>0.0</td>\n",
       "      <td>...</td>\n",
       "      <td>0.0</td>\n",
       "      <td>0.0</td>\n",
       "      <td>0.0</td>\n",
       "      <td>0.0</td>\n",
       "      <td>0.0</td>\n",
       "      <td>0.0</td>\n",
       "      <td>0.0</td>\n",
       "      <td>0.0</td>\n",
       "      <td>0.0</td>\n",
       "      <td>4.0</td>\n",
       "    </tr>\n",
       "    <tr>\n",
       "      <th>436</th>\n",
       "      <td>3.0</td>\n",
       "      <td>0.0</td>\n",
       "      <td>0.0</td>\n",
       "      <td>0.0</td>\n",
       "      <td>0.0</td>\n",
       "      <td>5.0</td>\n",
       "      <td>0.0</td>\n",
       "      <td>0.0</td>\n",
       "      <td>0.0</td>\n",
       "      <td>0.0</td>\n",
       "      <td>...</td>\n",
       "      <td>0.0</td>\n",
       "      <td>2.0</td>\n",
       "      <td>0.0</td>\n",
       "      <td>1.0</td>\n",
       "      <td>0.0</td>\n",
       "      <td>0.0</td>\n",
       "      <td>0.0</td>\n",
       "      <td>0.0</td>\n",
       "      <td>0.0</td>\n",
       "      <td>0.0</td>\n",
       "    </tr>\n",
       "    <tr>\n",
       "      <th>437</th>\n",
       "      <td>3.2</td>\n",
       "      <td>0.0</td>\n",
       "      <td>5.0</td>\n",
       "      <td>0.0</td>\n",
       "      <td>0.0</td>\n",
       "      <td>0.0</td>\n",
       "      <td>0.0</td>\n",
       "      <td>0.0</td>\n",
       "      <td>0.0</td>\n",
       "      <td>0.0</td>\n",
       "      <td>...</td>\n",
       "      <td>0.0</td>\n",
       "      <td>0.0</td>\n",
       "      <td>0.0</td>\n",
       "      <td>0.0</td>\n",
       "      <td>0.0</td>\n",
       "      <td>0.0</td>\n",
       "      <td>4.0</td>\n",
       "      <td>3.0</td>\n",
       "      <td>0.0</td>\n",
       "      <td>0.0</td>\n",
       "    </tr>\n",
       "  </tbody>\n",
       "</table>\n",
       "<p>437 rows × 301 columns</p>\n",
       "</div>"
      ],
      "text/plain": [
       "User_Id   0    1    2    3    4    5    6    7    8    9    ...  291  292  \\\n",
       "Place_Id                                                    ...             \n",
       "1         3.7  0.0  0.0  0.0  0.0  0.0  0.0  0.0  0.0  0.0  ...  0.0  0.0   \n",
       "2         2.8  0.0  5.0  0.0  0.0  0.0  0.0  0.0  0.0  0.0  ...  0.0  3.0   \n",
       "3         2.4  0.0  0.0  0.0  0.0  0.0  0.0  0.0  0.0  0.0  ...  0.0  0.0   \n",
       "4         2.9  0.0  0.0  0.0  4.0  3.0  4.0  0.0  0.0  0.0  ...  0.0  0.0   \n",
       "5         3.5  5.0  0.0  0.0  5.0  0.0  0.0  0.0  0.0  0.0  ...  0.0  0.0   \n",
       "...       ...  ...  ...  ...  ...  ...  ...  ...  ...  ...  ...  ...  ...   \n",
       "433       3.4  0.0  0.0  0.0  0.0  4.0  4.0  0.0  4.0  0.0  ...  0.0  0.0   \n",
       "434       2.4  0.0  0.0  0.0  0.0  4.0  0.0  0.0  0.0  0.0  ...  0.0  0.0   \n",
       "435       3.0  0.0  0.0  0.0  0.0  0.0  0.0  0.0  0.0  0.0  ...  0.0  0.0   \n",
       "436       3.0  0.0  0.0  0.0  0.0  5.0  0.0  0.0  0.0  0.0  ...  0.0  2.0   \n",
       "437       3.2  0.0  5.0  0.0  0.0  0.0  0.0  0.0  0.0  0.0  ...  0.0  0.0   \n",
       "\n",
       "User_Id   293  294  295  296  297  298  299  300  \n",
       "Place_Id                                          \n",
       "1         0.0  0.0  0.0  0.0  0.0  0.0  0.0  0.0  \n",
       "2         0.0  0.0  2.0  0.0  0.0  0.0  0.0  0.0  \n",
       "3         0.0  0.0  1.0  0.0  0.0  0.0  0.0  0.0  \n",
       "4         0.0  0.0  0.0  0.0  0.0  0.0  0.0  0.0  \n",
       "5         0.0  0.0  0.0  0.0  0.0  0.0  0.0  0.0  \n",
       "...       ...  ...  ...  ...  ...  ...  ...  ...  \n",
       "433       0.0  0.0  0.0  0.0  0.0  0.0  0.0  0.0  \n",
       "434       0.0  0.0  0.0  0.0  0.0  0.0  0.0  0.0  \n",
       "435       0.0  0.0  0.0  0.0  0.0  0.0  0.0  4.0  \n",
       "436       0.0  1.0  0.0  0.0  0.0  0.0  0.0  0.0  \n",
       "437       0.0  0.0  0.0  0.0  4.0  3.0  0.0  0.0  \n",
       "\n",
       "[437 rows x 301 columns]"
      ]
     },
     "metadata": {},
     "output_type": "display_data"
    },
    {
     "data": {
      "text/html": [
       "<div>\n",
       "<style scoped>\n",
       "    .dataframe tbody tr th:only-of-type {\n",
       "        vertical-align: middle;\n",
       "    }\n",
       "\n",
       "    .dataframe tbody tr th {\n",
       "        vertical-align: top;\n",
       "    }\n",
       "\n",
       "    .dataframe thead th {\n",
       "        text-align: right;\n",
       "    }\n",
       "</style>\n",
       "<table border=\"1\" class=\"dataframe\">\n",
       "  <thead>\n",
       "    <tr style=\"text-align: right;\">\n",
       "      <th>User_Id</th>\n",
       "      <th>0</th>\n",
       "      <th>1</th>\n",
       "      <th>2</th>\n",
       "      <th>3</th>\n",
       "      <th>4</th>\n",
       "      <th>5</th>\n",
       "      <th>6</th>\n",
       "      <th>7</th>\n",
       "      <th>8</th>\n",
       "      <th>9</th>\n",
       "      <th>...</th>\n",
       "      <th>291</th>\n",
       "      <th>292</th>\n",
       "      <th>293</th>\n",
       "      <th>294</th>\n",
       "      <th>295</th>\n",
       "      <th>296</th>\n",
       "      <th>297</th>\n",
       "      <th>298</th>\n",
       "      <th>299</th>\n",
       "      <th>300</th>\n",
       "    </tr>\n",
       "    <tr>\n",
       "      <th>Place_Id</th>\n",
       "      <th></th>\n",
       "      <th></th>\n",
       "      <th></th>\n",
       "      <th></th>\n",
       "      <th></th>\n",
       "      <th></th>\n",
       "      <th></th>\n",
       "      <th></th>\n",
       "      <th></th>\n",
       "      <th></th>\n",
       "      <th></th>\n",
       "      <th></th>\n",
       "      <th></th>\n",
       "      <th></th>\n",
       "      <th></th>\n",
       "      <th></th>\n",
       "      <th></th>\n",
       "      <th></th>\n",
       "      <th></th>\n",
       "      <th></th>\n",
       "      <th></th>\n",
       "    </tr>\n",
       "  </thead>\n",
       "  <tbody>\n",
       "    <tr>\n",
       "      <th>1</th>\n",
       "      <td>1</td>\n",
       "      <td>0</td>\n",
       "      <td>0</td>\n",
       "      <td>0</td>\n",
       "      <td>0</td>\n",
       "      <td>0</td>\n",
       "      <td>0</td>\n",
       "      <td>0</td>\n",
       "      <td>0</td>\n",
       "      <td>0</td>\n",
       "      <td>...</td>\n",
       "      <td>0</td>\n",
       "      <td>0</td>\n",
       "      <td>0</td>\n",
       "      <td>0</td>\n",
       "      <td>0</td>\n",
       "      <td>0</td>\n",
       "      <td>0</td>\n",
       "      <td>0</td>\n",
       "      <td>0</td>\n",
       "      <td>0</td>\n",
       "    </tr>\n",
       "    <tr>\n",
       "      <th>2</th>\n",
       "      <td>1</td>\n",
       "      <td>0</td>\n",
       "      <td>1</td>\n",
       "      <td>0</td>\n",
       "      <td>0</td>\n",
       "      <td>0</td>\n",
       "      <td>0</td>\n",
       "      <td>0</td>\n",
       "      <td>0</td>\n",
       "      <td>0</td>\n",
       "      <td>...</td>\n",
       "      <td>0</td>\n",
       "      <td>1</td>\n",
       "      <td>0</td>\n",
       "      <td>0</td>\n",
       "      <td>1</td>\n",
       "      <td>0</td>\n",
       "      <td>0</td>\n",
       "      <td>0</td>\n",
       "      <td>0</td>\n",
       "      <td>0</td>\n",
       "    </tr>\n",
       "    <tr>\n",
       "      <th>3</th>\n",
       "      <td>1</td>\n",
       "      <td>0</td>\n",
       "      <td>0</td>\n",
       "      <td>0</td>\n",
       "      <td>0</td>\n",
       "      <td>0</td>\n",
       "      <td>0</td>\n",
       "      <td>0</td>\n",
       "      <td>0</td>\n",
       "      <td>0</td>\n",
       "      <td>...</td>\n",
       "      <td>0</td>\n",
       "      <td>0</td>\n",
       "      <td>0</td>\n",
       "      <td>0</td>\n",
       "      <td>1</td>\n",
       "      <td>0</td>\n",
       "      <td>0</td>\n",
       "      <td>0</td>\n",
       "      <td>0</td>\n",
       "      <td>0</td>\n",
       "    </tr>\n",
       "    <tr>\n",
       "      <th>4</th>\n",
       "      <td>1</td>\n",
       "      <td>0</td>\n",
       "      <td>0</td>\n",
       "      <td>0</td>\n",
       "      <td>1</td>\n",
       "      <td>1</td>\n",
       "      <td>1</td>\n",
       "      <td>0</td>\n",
       "      <td>0</td>\n",
       "      <td>0</td>\n",
       "      <td>...</td>\n",
       "      <td>0</td>\n",
       "      <td>0</td>\n",
       "      <td>0</td>\n",
       "      <td>0</td>\n",
       "      <td>0</td>\n",
       "      <td>0</td>\n",
       "      <td>0</td>\n",
       "      <td>0</td>\n",
       "      <td>0</td>\n",
       "      <td>0</td>\n",
       "    </tr>\n",
       "    <tr>\n",
       "      <th>5</th>\n",
       "      <td>1</td>\n",
       "      <td>1</td>\n",
       "      <td>0</td>\n",
       "      <td>0</td>\n",
       "      <td>1</td>\n",
       "      <td>0</td>\n",
       "      <td>0</td>\n",
       "      <td>0</td>\n",
       "      <td>0</td>\n",
       "      <td>0</td>\n",
       "      <td>...</td>\n",
       "      <td>0</td>\n",
       "      <td>0</td>\n",
       "      <td>0</td>\n",
       "      <td>0</td>\n",
       "      <td>0</td>\n",
       "      <td>0</td>\n",
       "      <td>0</td>\n",
       "      <td>0</td>\n",
       "      <td>0</td>\n",
       "      <td>0</td>\n",
       "    </tr>\n",
       "    <tr>\n",
       "      <th>...</th>\n",
       "      <td>...</td>\n",
       "      <td>...</td>\n",
       "      <td>...</td>\n",
       "      <td>...</td>\n",
       "      <td>...</td>\n",
       "      <td>...</td>\n",
       "      <td>...</td>\n",
       "      <td>...</td>\n",
       "      <td>...</td>\n",
       "      <td>...</td>\n",
       "      <td>...</td>\n",
       "      <td>...</td>\n",
       "      <td>...</td>\n",
       "      <td>...</td>\n",
       "      <td>...</td>\n",
       "      <td>...</td>\n",
       "      <td>...</td>\n",
       "      <td>...</td>\n",
       "      <td>...</td>\n",
       "      <td>...</td>\n",
       "      <td>...</td>\n",
       "    </tr>\n",
       "    <tr>\n",
       "      <th>433</th>\n",
       "      <td>1</td>\n",
       "      <td>0</td>\n",
       "      <td>0</td>\n",
       "      <td>0</td>\n",
       "      <td>0</td>\n",
       "      <td>1</td>\n",
       "      <td>1</td>\n",
       "      <td>0</td>\n",
       "      <td>1</td>\n",
       "      <td>0</td>\n",
       "      <td>...</td>\n",
       "      <td>0</td>\n",
       "      <td>0</td>\n",
       "      <td>0</td>\n",
       "      <td>0</td>\n",
       "      <td>0</td>\n",
       "      <td>0</td>\n",
       "      <td>0</td>\n",
       "      <td>0</td>\n",
       "      <td>0</td>\n",
       "      <td>0</td>\n",
       "    </tr>\n",
       "    <tr>\n",
       "      <th>434</th>\n",
       "      <td>1</td>\n",
       "      <td>0</td>\n",
       "      <td>0</td>\n",
       "      <td>0</td>\n",
       "      <td>0</td>\n",
       "      <td>1</td>\n",
       "      <td>0</td>\n",
       "      <td>0</td>\n",
       "      <td>0</td>\n",
       "      <td>0</td>\n",
       "      <td>...</td>\n",
       "      <td>0</td>\n",
       "      <td>0</td>\n",
       "      <td>0</td>\n",
       "      <td>0</td>\n",
       "      <td>0</td>\n",
       "      <td>0</td>\n",
       "      <td>0</td>\n",
       "      <td>0</td>\n",
       "      <td>0</td>\n",
       "      <td>0</td>\n",
       "    </tr>\n",
       "    <tr>\n",
       "      <th>435</th>\n",
       "      <td>1</td>\n",
       "      <td>0</td>\n",
       "      <td>0</td>\n",
       "      <td>0</td>\n",
       "      <td>0</td>\n",
       "      <td>0</td>\n",
       "      <td>0</td>\n",
       "      <td>0</td>\n",
       "      <td>0</td>\n",
       "      <td>0</td>\n",
       "      <td>...</td>\n",
       "      <td>0</td>\n",
       "      <td>0</td>\n",
       "      <td>0</td>\n",
       "      <td>0</td>\n",
       "      <td>0</td>\n",
       "      <td>0</td>\n",
       "      <td>0</td>\n",
       "      <td>0</td>\n",
       "      <td>0</td>\n",
       "      <td>1</td>\n",
       "    </tr>\n",
       "    <tr>\n",
       "      <th>436</th>\n",
       "      <td>1</td>\n",
       "      <td>0</td>\n",
       "      <td>0</td>\n",
       "      <td>0</td>\n",
       "      <td>0</td>\n",
       "      <td>1</td>\n",
       "      <td>0</td>\n",
       "      <td>0</td>\n",
       "      <td>0</td>\n",
       "      <td>0</td>\n",
       "      <td>...</td>\n",
       "      <td>0</td>\n",
       "      <td>1</td>\n",
       "      <td>0</td>\n",
       "      <td>1</td>\n",
       "      <td>0</td>\n",
       "      <td>0</td>\n",
       "      <td>0</td>\n",
       "      <td>0</td>\n",
       "      <td>0</td>\n",
       "      <td>0</td>\n",
       "    </tr>\n",
       "    <tr>\n",
       "      <th>437</th>\n",
       "      <td>1</td>\n",
       "      <td>0</td>\n",
       "      <td>1</td>\n",
       "      <td>0</td>\n",
       "      <td>0</td>\n",
       "      <td>0</td>\n",
       "      <td>0</td>\n",
       "      <td>0</td>\n",
       "      <td>0</td>\n",
       "      <td>0</td>\n",
       "      <td>...</td>\n",
       "      <td>0</td>\n",
       "      <td>0</td>\n",
       "      <td>0</td>\n",
       "      <td>0</td>\n",
       "      <td>0</td>\n",
       "      <td>0</td>\n",
       "      <td>1</td>\n",
       "      <td>1</td>\n",
       "      <td>0</td>\n",
       "      <td>0</td>\n",
       "    </tr>\n",
       "  </tbody>\n",
       "</table>\n",
       "<p>437 rows × 301 columns</p>\n",
       "</div>"
      ],
      "text/plain": [
       "User_Id   0    1    2    3    4    5    6    7    8    9    ...  291  292  \\\n",
       "Place_Id                                                    ...             \n",
       "1           1    0    0    0    0    0    0    0    0    0  ...    0    0   \n",
       "2           1    0    1    0    0    0    0    0    0    0  ...    0    1   \n",
       "3           1    0    0    0    0    0    0    0    0    0  ...    0    0   \n",
       "4           1    0    0    0    1    1    1    0    0    0  ...    0    0   \n",
       "5           1    1    0    0    1    0    0    0    0    0  ...    0    0   \n",
       "...       ...  ...  ...  ...  ...  ...  ...  ...  ...  ...  ...  ...  ...   \n",
       "433         1    0    0    0    0    1    1    0    1    0  ...    0    0   \n",
       "434         1    0    0    0    0    1    0    0    0    0  ...    0    0   \n",
       "435         1    0    0    0    0    0    0    0    0    0  ...    0    0   \n",
       "436         1    0    0    0    0    1    0    0    0    0  ...    0    1   \n",
       "437         1    0    1    0    0    0    0    0    0    0  ...    0    0   \n",
       "\n",
       "User_Id   293  294  295  296  297  298  299  300  \n",
       "Place_Id                                          \n",
       "1           0    0    0    0    0    0    0    0  \n",
       "2           0    0    1    0    0    0    0    0  \n",
       "3           0    0    1    0    0    0    0    0  \n",
       "4           0    0    0    0    0    0    0    0  \n",
       "5           0    0    0    0    0    0    0    0  \n",
       "...       ...  ...  ...  ...  ...  ...  ...  ...  \n",
       "433         0    0    0    0    0    0    0    0  \n",
       "434         0    0    0    0    0    0    0    0  \n",
       "435         0    0    0    0    0    0    0    1  \n",
       "436         0    1    0    0    0    0    0    0  \n",
       "437         0    0    0    0    1    1    0    0  \n",
       "\n",
       "[437 rows x 301 columns]"
      ]
     },
     "metadata": {},
     "output_type": "display_data"
    }
   ],
   "source": [
    "# Create user vector basket\n",
    "user_vector, user_vector_encoded = get_user_vector_basket(rating_df)\n",
    "Y = user_vector.to_numpy(copy=True)\n",
    "R = user_vector_encoded.to_numpy(copy=True)\n",
    "\n",
    "display(user_vector)\n",
    "display(user_vector_encoded)"
   ]
  },
  {
   "cell_type": "code",
   "execution_count": 36,
   "metadata": {
    "id": "4rUbeyc-OyY-"
   },
   "outputs": [],
   "source": [
    "def normalize_ratings(Y: np.ndarray, R:np.ndarray) -> tuple[np.ndarray, np.ndarray]:\n",
    "    Y_mean = (np.sum(Y * R, axis=1) / (np.sum(R, axis=1) + 1e-12)).reshape(-1,1)\n",
    "    Y_norm = Y - np.multiply(Y_mean, R)\n",
    "    return (Y_norm, Y_mean)\n",
    "\n",
    "# Normalize the Dataset\n",
    "Y_norm, Y_mean = normalize_ratings(Y, R)"
   ]
  },
  {
   "cell_type": "code",
   "execution_count": 37,
   "metadata": {
    "id": "ZuEJSauWJlaV"
   },
   "outputs": [],
   "source": [
    "# Save the normalize mean\n",
    "np.save('Y_mean.npy', Y_mean)"
   ]
  },
  {
   "cell_type": "markdown",
   "metadata": {
    "id": "oigSxTcvJoeL"
   },
   "source": [
    "# **Collaborative Filtering Model**"
   ]
  },
  {
   "cell_type": "markdown",
   "metadata": {
    "id": "n1nno5bJieiU"
   },
   "source": [
    "## **Custom Layer**"
   ]
  },
  {
   "cell_type": "code",
   "execution_count": 38,
   "metadata": {
    "id": "gbRL7UB0HEEW"
   },
   "outputs": [],
   "source": [
    "# Define the custom layer\n",
    "@keras.saving.register_keras_serializable(package='CollaborativeFiltering')\n",
    "class CollaborativeFilteringLayer(tf.keras.layers.Layer):\n",
    "\n",
    "  def __init__(self, num_users, num_tourism, num_features, name='collaborative_filtering_layer', **kwargs):\n",
    "    super(CollaborativeFilteringLayer, self).__init__(name=name, **kwargs)\n",
    "    self.num_users = num_users\n",
    "    self.num_tourism = num_tourism\n",
    "    self.num_features = num_features\n",
    "\n",
    "    self.X = self.add_weight(\n",
    "      shape=(self.num_tourism, self.num_features),\n",
    "      initializer=tf.keras.initializers.RandomNormal(mean=0.0, stddev=1.0, seed=tf.random.set_seed(42)),\n",
    "      dtype=tf.float32,\n",
    "      trainable=True,\n",
    "      name='X'\n",
    "    )\n",
    "\n",
    "    self.W = self.add_weight(\n",
    "      shape=(self.num_users, self.num_features),\n",
    "      initializer=tf.keras.initializers.RandomNormal(mean=0.0, stddev=1.0, seed=tf.random.set_seed(42)),\n",
    "      dtype=tf.float32,\n",
    "      trainable=True,\n",
    "      name='W'\n",
    "    )\n",
    "\n",
    "    self.b = self.add_weight(\n",
    "      shape=(1, self.num_users),\n",
    "      initializer=tf.keras.initializers.RandomNormal(mean=0.0, stddev=1.0, seed=tf.random.set_seed(42)),\n",
    "      dtype=tf.float32,\n",
    "      trainable=True,\n",
    "      name='b'\n",
    "    )\n",
    "\n",
    "  def call(self, inputs):\n",
    "    if tf.math.equal(inputs, tf.constant(-1, dtype=tf.int32)):  # inputs = id\n",
    "      return tf.matmul(self.X, self.W, transpose_b=True) + self.b\n",
    "    else:\n",
    "      return tf.matmul(self.X, tf.reshape(self.W[inputs], (-1, 1))) + self.b[:, inputs]\n",
    "\n",
    "  def get_config(self):\n",
    "    # config = super(CollaborativeFilteringLayer, self).get_config()\n",
    "    config = super().get_config()\n",
    "    config.update({\n",
    "        'num_users': self.num_users,\n",
    "        'num_tourism': self.num_tourism,\n",
    "        'num_features': self.num_features\n",
    "    })\n",
    "    return config\n",
    "\n",
    "  @classmethod\n",
    "  def from_config(cls, config):\n",
    "    return cls(**config)"
   ]
  },
  {
   "cell_type": "markdown",
   "metadata": {
    "id": "iUAH1wBWyExy"
   },
   "source": [
    "## **Custom Model**"
   ]
  },
  {
   "cell_type": "code",
   "execution_count": 39,
   "metadata": {
    "id": "AE0JhOueyGEV"
   },
   "outputs": [],
   "source": [
    "# Define the custom model\n",
    "@keras.saving.register_keras_serializable(package='CollaborativeFiltering')\n",
    "class CollaborativeFilteringModel(tf.keras.Model):\n",
    "  def __init__(self, num_users, num_tourism, num_features, name='collaborative_filtering_model', **kwargs):\n",
    "    super(CollaborativeFilteringModel, self).__init__(name=name, **kwargs)\n",
    "    self.num_users = num_users\n",
    "    self.num_tourism = num_tourism\n",
    "    self.num_features = num_features\n",
    "    self.collaborative_filtering = CollaborativeFilteringLayer(num_users, num_tourism, num_features)\n",
    "\n",
    "  def call(self, inputs):\n",
    "    return self.collaborative_filtering(inputs)\n",
    "\n",
    "  def get_config(self):\n",
    "    config = super().get_config()\n",
    "    config.update({\n",
    "        'num_users': self.num_users,\n",
    "        'num_tourism': self.num_tourism,\n",
    "        'num_features': self.num_features\n",
    "    })\n",
    "    return config\n",
    "\n",
    "  @classmethod\n",
    "  def from_config(cls, config):\n",
    "    return cls(**config)"
   ]
  },
  {
   "cell_type": "code",
   "execution_count": 40,
   "metadata": {
    "id": "l5AwnZa6J5mN"
   },
   "outputs": [],
   "source": [
    "# Cost function for collaborative filtering\n",
    "def cofi_cost_function(X, W, R, Y_true, Y_pred, lambda_):\n",
    "  loss = (Y_pred - Y_true) * R\n",
    "  cost = 0.5 * tf.reduce_sum(loss**2) + (lambda_/2) * (tf.reduce_sum(X**2) + tf.reduce_sum(W**2))\n",
    "  return cost"
   ]
  },
  {
   "cell_type": "markdown",
   "metadata": {
    "id": "IGBZOrPciy-U"
   },
   "source": [
    "## **Training**"
   ]
  },
  {
   "cell_type": "code",
   "execution_count": 41,
   "metadata": {
    "id": "rsGdGeO8J5mN"
   },
   "outputs": [],
   "source": [
    "# Importance variables\n",
    "num_tourism, num_users = Y.shape\n",
    "num_features = 64\n",
    "\n",
    "# instantiate collaborative filtering and the optimizer\n",
    "cofi = CollaborativeFilteringModel(num_users, num_tourism, num_features)\n",
    "optimizer = tf.keras.optimizers.Adam(learning_rate=1e-1)"
   ]
  },
  {
   "cell_type": "code",
   "execution_count": 42,
   "metadata": {
    "colab": {
     "base_uri": "https://localhost:8080/"
    },
    "id": "OTD5lq3bJ5mO",
    "outputId": "c16c59f6-c329-4ae0-fdfa-4a251a1d0a2f"
   },
   "outputs": [
    {
     "name": "stdout",
     "output_type": "stream",
     "text": [
      "Training loss at epoch 20: 16832.7\n",
      "Training loss at epoch 40: 7767.0\n",
      "Training loss at epoch 60: 4650.6\n",
      "Training loss at epoch 80: 3270.7\n",
      "Training loss at epoch 100: 2563.3\n",
      "Training loss at epoch 120: 2167.2\n",
      "Training loss at epoch 140: 1932.2\n",
      "Training loss at epoch 160: 1785.3\n",
      "Training loss at epoch 180: 1688.9\n",
      "Training loss at epoch 200: 1622.7\n",
      "Training loss at epoch 220: 1575.5\n",
      "Training loss at epoch 240: 1540.9\n",
      "Training loss at epoch 260: 1514.7\n",
      "Training loss at epoch 280: 1494.6\n",
      "Training loss at epoch 300: 1478.9\n",
      "Training loss at epoch 320: 1466.4\n",
      "Training loss at epoch 340: 1456.4\n",
      "Training loss at epoch 360: 1448.3\n",
      "Training loss at epoch 380: 1441.7\n",
      "Training loss at epoch 400: 1436.3\n",
      "Training loss at epoch 420: 1431.8\n",
      "Training loss at epoch 440: 1428.0\n",
      "Training loss at epoch 460: 1424.9\n",
      "Training loss at epoch 480: 1422.3\n",
      "Training loss at epoch 500: 1420.0\n",
      "Training loss at epoch 520: 1418.2\n",
      "Training loss at epoch 540: 1416.6\n",
      "Training loss at epoch 560: 1415.2\n",
      "Training loss at epoch 580: 1414.1\n",
      "Training loss at epoch 600: 1413.1\n",
      "Training loss at epoch 620: 1412.3\n",
      "Training loss at epoch 640: 1411.6\n",
      "Training loss at epoch 660: 1411.0\n",
      "Training loss at epoch 680: 1410.4\n",
      "Training loss at epoch 700: 1410.0\n",
      "Training loss at epoch 720: 1409.6\n",
      "Training loss at epoch 740: 1409.3\n",
      "Training loss at epoch 760: 1409.0\n",
      "Training loss at epoch 780: 1408.7\n",
      "Training loss at epoch 800: 1408.5\n",
      "Training loss at epoch 820: 1408.3\n",
      "Training loss at epoch 840: 1408.2\n",
      "Training loss at epoch 860: 1408.0\n",
      "Training loss at epoch 880: 1407.9\n",
      "Training loss at epoch 900: 1407.8\n",
      "Training loss at epoch 920: 1407.7\n",
      "Training loss at epoch 940: 1407.6\n",
      "Training loss at epoch 960: 1407.5\n",
      "Training loss at epoch 980: 1407.5\n",
      "Training loss at epoch 1000: 1407.4\n",
      "Training loss at epoch 1020: 1407.4\n",
      "Training loss at epoch 1040: 1407.3\n",
      "Training loss at epoch 1060: 1407.3\n",
      "Training loss at epoch 1080: 1407.3\n",
      "Training loss at epoch 1100: 1407.2\n",
      "Training loss at epoch 1120: 1407.2\n",
      "Training loss at epoch 1140: 1407.2\n",
      "Training loss at epoch 1160: 1407.2\n",
      "Training loss at epoch 1180: 1407.1\n",
      "Training loss at epoch 1200: 1407.1\n",
      "Training loss at epoch 1220: 1407.1\n",
      "Training loss at epoch 1240: 1407.1\n",
      "Training loss at epoch 1260: 1407.1\n",
      "Training loss at epoch 1280: 1407.1\n",
      "Training loss at epoch 1300: 1407.1\n",
      "Training loss at epoch 1320: 1407.1\n",
      "Training loss at epoch 1340: 1407.1\n",
      "Training loss at epoch 1360: 1407.0\n",
      "Training loss at epoch 1380: 1407.0\n",
      "Training loss at epoch 1400: 1407.0\n",
      "Training loss at epoch 1420: 1407.0\n",
      "Training loss at epoch 1440: 1407.0\n",
      "Training loss at epoch 1460: 1407.0\n",
      "Training loss at epoch 1480: 1407.0\n",
      "Training loss at epoch 1500: 1407.0\n"
     ]
    }
   ],
   "source": [
    "inputs = tf.constant(-1, dtype=tf.int32)\n",
    "cost_values = list()\n",
    "epochs = 1500\n",
    "\n",
    "# Make sure all tensors use float32 from the start\n",
    "Y_norm = tf.constant(Y_norm, dtype=tf.float32)\n",
    "lambda_ = tf.constant(1.0, dtype=tf.float32)\n",
    "\n",
    "for epoch in range(1, epochs + 1):\n",
    "    # Use TensorFlow’s GradientTape to record the operations used to compute the cost\n",
    "    with tf.GradientTape() as tape:\n",
    "\n",
    "        # Predict all the user ratings\n",
    "        Y_pred = cofi(inputs)\n",
    "\n",
    "        # Compute the cost (forward pass included in cost)\n",
    "        cost_value = cofi_cost_function(cofi.layers[0].X, cofi.layers[0].W, R, Y_norm, Y_pred, lambda_)\n",
    "        cost_values.append(cost_value.numpy())\n",
    "\n",
    "    # Use the gradient tape to automatically retrieve\n",
    "    # the gradients of the trainable variables with respect to the loss\n",
    "    grads = tape.gradient( cost_value, [cofi.layers[0].X, cofi.layers[0].W, cofi.layers[0].b] )\n",
    "\n",
    "    # Run one step of gradient descent by updating the value of the variables to minimize the loss.\n",
    "    optimizer.apply_gradients( zip(grads, [cofi.layers[0].X, cofi.layers[0].W, cofi.layers[0].b]) )\n",
    "\n",
    "    # Log periodically.\n",
    "    if epoch % 20 == 0:\n",
    "      print(f\"Training loss at epoch {epoch}: {cost_value:0.1f}\")"
   ]
  },
  {
   "cell_type": "code",
   "execution_count": 43,
   "metadata": {},
   "outputs": [
    {
     "data": {
      "image/png": "[encoded data removed]",
      "text/plain": [
       "<Figure size 640x480 with 1 Axes>"
      ]
     },
     "metadata": {},
     "output_type": "display_data"
    }
   ],
   "source": [
    "plt.plot(cost_values, label='Training Loss')\n",
    "plt.title('Model Loss During Training')\n",
    "plt.xlabel('Epochs')\n",
    "plt.ylabel('Loss')\n",
    "plt.legend()\n",
    "plt.show()"
   ]
  },
  {
   "cell_type": "markdown",
   "metadata": {
    "id": "6S6_4l24i2OC"
   },
   "source": [
    "## **Prediction**"
   ]
  },
  {
   "cell_type": "code",
   "execution_count": 44,
   "metadata": {
    "id": "fCTCiO27M_Uj"
   },
   "outputs": [],
   "source": [
    "# Make a prediction using trained weights and biases\n",
    "def get_recommendations(cofi_layer, user_id):\n",
    "  user_id = tf.constant(user_id, dtype=tf.int32)\n",
    "  my_pred = cofi_layer(user_id)\n",
    "  my_pred = my_pred + Y_mean # restore the mean\n",
    "  my_pred = tf.reshape(my_pred, (-1))\n",
    "\n",
    "  # sort predictions\n",
    "  ix = tf.argsort(my_pred, direction='DESCENDING')\n",
    "\n",
    "  return ix, my_pred\n",
    "\n",
    "# Print recommendations\n",
    "def print_recommendations(ix, my_pred, num_recom):\n",
    "  for i, tourist_spots_idx in enumerate(ix):\n",
    "    if i == num_recom:\n",
    "      break\n",
    "    j = tourist_spots_idx.numpy()\n",
    "    print(f'Predicting rating {my_pred[j]:0.2f} for {tourism_df.loc[j, \"Place_Name\"]}')"
   ]
  },
  {
   "cell_type": "code",
   "execution_count": 45,
   "metadata": {
    "colab": {
     "base_uri": "https://localhost:8080/"
    },
    "id": "UsBMnLxNM_Uk",
    "outputId": "d3afce14-640c-4157-a4bd-28524fddcbee"
   },
   "outputs": [
    {
     "name": "stdout",
     "output_type": "stream",
     "text": [
      "Predicting rating 4.89 for Puncak Segoro\n",
      "Predicting rating 4.88 for Goa Rong\n",
      "Predicting rating 4.87 for Wisata Agro Edukatif Istana Susu Cibugary\n",
      "Predicting rating 4.85 for Museum Bahari Jakarta\n",
      "Predicting rating 4.84 for Masjid Agung Ungaran\n",
      "Predicting rating 4.84 for Pantai Ngobaran\n",
      "Predicting rating 4.82 for Farm House Susu Lembang\n",
      "Predicting rating 4.81 for Chingu Cafe Little Seoul\n",
      "Predicting rating 4.71 for Pantai Baron\n",
      "Predicting rating 4.62 for Tafso Barn\n",
      "Predicting rating 4.52 for Taman Balai Kota Bandung\n",
      "Predicting rating 4.49 for Monumen Nasional\n",
      "Predicting rating 4.48 for Pantai Ngrenehan\n",
      "Predicting rating 4.22 for Bunker Kaliadem Merapi\n",
      "Predicting rating 4.19 for Monumen Yogya Kembali\n",
      "Predicting rating 4.14 for Margasatwa Muara Angke\n",
      "Predicting rating 4.14 for Wisata Lereng Kelir\n",
      "Predicting rating 4.13 for Taman Pelangi Yogyakarta\n",
      "Predicting rating 4.12 for Lawangwangi Creative Space\n",
      "Predicting rating 4.12 for Water Blaster Bukit Candi Golf\n"
     ]
    }
   ],
   "source": [
    "# Print 20 recommendations\n",
    "user_id = 120\n",
    "num_recom = 20\n",
    "\n",
    "ix, my_pred = get_recommendations(cofi, user_id)\n",
    "print_recommendations(ix, my_pred, num_recom)"
   ]
  },
  {
   "cell_type": "markdown",
   "metadata": {
    "id": "ZY6QJcNz0Tmg"
   },
   "source": [
    "## **Save and Load Model**"
   ]
  },
  {
   "cell_type": "code",
   "execution_count": 46,
   "metadata": {
    "colab": {
     "base_uri": "https://localhost:8080/"
    },
    "collapsed": true,
    "id": "otYXkieu6tCM",
    "outputId": "dd91e749-3bb6-4b87-cd1a-7e5a8925b41c"
   },
   "outputs": [
    {
     "name": "stderr",
     "output_type": "stream",
     "text": [
      "WARNING:absl:You are saving your model as an HDF5 file via `model.save()` or `keras.saving.save_model(model)`. This file format is considered legacy. We recommend using instead the native Keras format, e.g. `model.save('my_model.keras')` or `keras.saving.save_model(model, 'my_model.keras')`. \n"
     ]
    }
   ],
   "source": [
    "cofi.save(\"collaborative_filtering.h5\")"
   ]
  },
  {
   "cell_type": "code",
   "execution_count": 47,
   "metadata": {},
   "outputs": [
    {
     "name": "stderr",
     "output_type": "stream",
     "text": [
      "WARNING:absl:No training configuration found in the save file, so the model was *not* compiled. Compile it manually.\n"
     ]
    },
    {
     "name": "stdout",
     "output_type": "stream",
     "text": [
      "Predicting rating 4.89 for Puncak Segoro\n",
      "Predicting rating 4.88 for Goa Rong\n",
      "Predicting rating 4.87 for Wisata Agro Edukatif Istana Susu Cibugary\n",
      "Predicting rating 4.85 for Museum Bahari Jakarta\n",
      "Predicting rating 4.84 for Masjid Agung Ungaran\n",
      "Predicting rating 4.84 for Pantai Ngobaran\n",
      "Predicting rating 4.82 for Farm House Susu Lembang\n",
      "Predicting rating 4.81 for Chingu Cafe Little Seoul\n",
      "Predicting rating 4.71 for Pantai Baron\n",
      "Predicting rating 4.62 for Tafso Barn\n",
      "Predicting rating 4.52 for Taman Balai Kota Bandung\n",
      "Predicting rating 4.49 for Monumen Nasional\n",
      "Predicting rating 4.48 for Pantai Ngrenehan\n",
      "Predicting rating 4.22 for Bunker Kaliadem Merapi\n",
      "Predicting rating 4.19 for Monumen Yogya Kembali\n",
      "Predicting rating 4.14 for Margasatwa Muara Angke\n",
      "Predicting rating 4.14 for Wisata Lereng Kelir\n",
      "Predicting rating 4.13 for Taman Pelangi Yogyakarta\n",
      "Predicting rating 4.12 for Lawangwangi Creative Space\n",
      "Predicting rating 4.12 for Water Blaster Bukit Candi Golf\n"
     ]
    }
   ],
   "source": [
    "reconstructed_cofi_model = tf.keras.models.load_model(\"collaborative_filtering.h5\", custom_objects={\n",
    "    'CollaborativeFilteringModel': CollaborativeFilteringModel,\n",
    "    'CollaborativeFilteringLayer': CollaborativeFilteringLayer\n",
    "})\n",
    "\n",
    "user_id = 120\n",
    "num_recom = 20\n",
    "\n",
    "ix, my_pred = get_recommendations(reconstructed_cofi_model, user_id)\n",
    "print_recommendations(ix, my_pred, num_recom)"
   ]
  }
 ],
 "metadata": {
  "colab": {
   "provenance": [],
   "toc_visible": true
  },
  "kernelspec": {
   "display_name": ".venv",
   "language": "python",
   "name": "python3"
  },
  "language_info": {
   "codemirror_mode": {
    "name": "ipython",
    "version": 3
   },
   "file_extension": ".py",
   "mimetype": "text/x-python",
   "name": "python",
   "nbconvert_exporter": "python",
   "pygments_lexer": "ipython3",
   "version": "3.11.4"
  }
 },
 "nbformat": 4,
 "nbformat_minor": 0
}
