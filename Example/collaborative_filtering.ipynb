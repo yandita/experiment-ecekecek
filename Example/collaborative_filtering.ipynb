{
 "cells": [
  {
   "cell_type": "markdown",
   "metadata": {},
   "source": [
    "# **Import Libraries**"
   ]
  },
  {
   "cell_type": "code",
   "execution_count": 1,
   "metadata": {},
   "outputs": [],
   "source": [
    "import numpy as np\n",
    "import pandas as pd\n",
    "import tensorflow as tf\n",
    "from TF_Object import CollaborativeFilteringLayer\n",
    "from TF_Object import CollaborativeFilteringModel"
   ]
  },
  {
   "cell_type": "markdown",
   "metadata": {},
   "source": [
    "# **Prepare Dataset**"
   ]
  },
  {
   "cell_type": "code",
   "execution_count": 2,
   "metadata": {},
   "outputs": [],
   "source": [
    "# Load all dataset in Pandas DataFrame\n",
    "tourism_df = pd.read_csv(\"../Dataset/new_tourism_with_id_links_3.csv\")"
   ]
  },
  {
   "cell_type": "code",
   "execution_count": 3,
   "metadata": {},
   "outputs": [
    {
     "data": {
      "text/html": [
       "<div>\n",
       "<style scoped>\n",
       "    .dataframe tbody tr th:only-of-type {\n",
       "        vertical-align: middle;\n",
       "    }\n",
       "\n",
       "    .dataframe tbody tr th {\n",
       "        vertical-align: top;\n",
       "    }\n",
       "\n",
       "    .dataframe thead th {\n",
       "        text-align: right;\n",
       "    }\n",
       "</style>\n",
       "<table border=\"1\" class=\"dataframe\">\n",
       "  <thead>\n",
       "    <tr style=\"text-align: right;\">\n",
       "      <th></th>\n",
       "      <th>Place_Id</th>\n",
       "      <th>Place_Name</th>\n",
       "      <th>Category</th>\n",
       "      <th>Description</th>\n",
       "      <th>City</th>\n",
       "      <th>Price</th>\n",
       "      <th>Rating</th>\n",
       "      <th>Time_Minutes</th>\n",
       "      <th>Coordinate</th>\n",
       "      <th>Lat</th>\n",
       "      <th>Long</th>\n",
       "      <th>Img_Path_0</th>\n",
       "      <th>Img_Path_1</th>\n",
       "      <th>Img_Path_2</th>\n",
       "    </tr>\n",
       "  </thead>\n",
       "  <tbody>\n",
       "    <tr>\n",
       "      <th>0</th>\n",
       "      <td>1</td>\n",
       "      <td>Monumen Nasional</td>\n",
       "      <td>Budaya, Situs Sejarah</td>\n",
       "      <td>Monumen Nasional atau yang populer disingkat d...</td>\n",
       "      <td>Jakarta</td>\n",
       "      <td>20000</td>\n",
       "      <td>4,6</td>\n",
       "      <td>15.0</td>\n",
       "      <td>{'lat': -6.1753924, 'lng': 106.8271528}</td>\n",
       "      <td>-6.175392</td>\n",
       "      <td>106.827153</td>\n",
       "      <td>images_output\\Monumen Nasional\\Monumen Nasiona...</td>\n",
       "      <td>images_output\\Monumen Nasional\\Monumen Nasiona...</td>\n",
       "      <td>images_output\\Monumen Nasional\\Monumen Nasiona...</td>\n",
       "    </tr>\n",
       "    <tr>\n",
       "      <th>1</th>\n",
       "      <td>2</td>\n",
       "      <td>Kota Tua</td>\n",
       "      <td>Budaya</td>\n",
       "      <td>Kota tua di Jakarta, yang juga bernama Kota Tu...</td>\n",
       "      <td>Jakarta</td>\n",
       "      <td>0</td>\n",
       "      <td>4,6</td>\n",
       "      <td>90.0</td>\n",
       "      <td>{'lat': -6.137644799999999, 'lng': 106.8171245}</td>\n",
       "      <td>-6.137645</td>\n",
       "      <td>106.817125</td>\n",
       "      <td>images_output\\Kota Tua\\Kota Tua_0.jpg</td>\n",
       "      <td>images_output\\Kota Tua\\Kota Tua_1.jpg</td>\n",
       "      <td>NaN</td>\n",
       "    </tr>\n",
       "    <tr>\n",
       "      <th>2</th>\n",
       "      <td>3</td>\n",
       "      <td>Dunia Fantasi</td>\n",
       "      <td>Taman Hiburan, Bahari</td>\n",
       "      <td>Dunia Fantasi atau disebut juga Dufan adalah t...</td>\n",
       "      <td>Jakarta</td>\n",
       "      <td>270000</td>\n",
       "      <td>4,6</td>\n",
       "      <td>360.0</td>\n",
       "      <td>{'lat': -6.125312399999999, 'lng': 106.8335377}</td>\n",
       "      <td>-6.125312</td>\n",
       "      <td>106.833538</td>\n",
       "      <td>images_output\\Dunia Fantasi\\Dunia Fantasi_0.jpg</td>\n",
       "      <td>images_output\\Dunia Fantasi\\Dunia Fantasi_1.png</td>\n",
       "      <td>images_output\\Dunia Fantasi\\Dunia Fantasi_2.jpg</td>\n",
       "    </tr>\n",
       "  </tbody>\n",
       "</table>\n",
       "</div>"
      ],
      "text/plain": [
       "   Place_Id        Place_Name               Category  \\\n",
       "0         1  Monumen Nasional  Budaya, Situs Sejarah   \n",
       "1         2          Kota Tua                 Budaya   \n",
       "2         3     Dunia Fantasi  Taman Hiburan, Bahari   \n",
       "\n",
       "                                         Description     City   Price Rating  \\\n",
       "0  Monumen Nasional atau yang populer disingkat d...  Jakarta   20000    4,6   \n",
       "1  Kota tua di Jakarta, yang juga bernama Kota Tu...  Jakarta       0    4,6   \n",
       "2  Dunia Fantasi atau disebut juga Dufan adalah t...  Jakarta  270000    4,6   \n",
       "\n",
       "   Time_Minutes                                       Coordinate       Lat  \\\n",
       "0          15.0          {'lat': -6.1753924, 'lng': 106.8271528} -6.175392   \n",
       "1          90.0  {'lat': -6.137644799999999, 'lng': 106.8171245} -6.137645   \n",
       "2         360.0  {'lat': -6.125312399999999, 'lng': 106.8335377} -6.125312   \n",
       "\n",
       "         Long                                         Img_Path_0  \\\n",
       "0  106.827153  images_output\\Monumen Nasional\\Monumen Nasiona...   \n",
       "1  106.817125              images_output\\Kota Tua\\Kota Tua_0.jpg   \n",
       "2  106.833538    images_output\\Dunia Fantasi\\Dunia Fantasi_0.jpg   \n",
       "\n",
       "                                          Img_Path_1  \\\n",
       "0  images_output\\Monumen Nasional\\Monumen Nasiona...   \n",
       "1              images_output\\Kota Tua\\Kota Tua_1.jpg   \n",
       "2    images_output\\Dunia Fantasi\\Dunia Fantasi_1.png   \n",
       "\n",
       "                                          Img_Path_2  \n",
       "0  images_output\\Monumen Nasional\\Monumen Nasiona...  \n",
       "1                                                NaN  \n",
       "2    images_output\\Dunia Fantasi\\Dunia Fantasi_2.jpg  "
      ]
     },
     "execution_count": 3,
     "metadata": {},
     "output_type": "execute_result"
    }
   ],
   "source": [
    "tourism_df.head(3)"
   ]
  },
  {
   "cell_type": "markdown",
   "metadata": {},
   "source": [
    "# **Initiate Important Instance**"
   ]
  },
  {
   "cell_type": "code",
   "execution_count": 4,
   "metadata": {},
   "outputs": [
    {
     "name": "stderr",
     "output_type": "stream",
     "text": [
      "WARNING:absl:No training configuration found in the save file, so the model was *not* compiled. Compile it manually.\n"
     ]
    }
   ],
   "source": [
    "# Load Y_mean for denormalize prediction results\n",
    "Y_mean = np.load('../Vector/Y_mean.npy')\n",
    "\n",
    "# Load Collaborative Filtering Model\n",
    "cofi_model = tf.keras.models.load_model('Model/collaborative_filtering.h5', custom_objects={\n",
    "    'CollaborativeFilteringModel': CollaborativeFilteringModel,\n",
    "    'CollaborativeFilteringLayer': CollaborativeFilteringLayer\n",
    "})"
   ]
  },
  {
   "cell_type": "markdown",
   "metadata": {},
   "source": [
    "# **Collaborative Filtering Recommendation**"
   ]
  },
  {
   "cell_type": "code",
   "execution_count": 5,
   "metadata": {},
   "outputs": [],
   "source": [
    "# Make a prediction using trained weights and biases\n",
    "def get_recommendations(cofi_model, user_id):\n",
    "  # Prepare User Data\n",
    "  user_id = tf.constant(user_id, dtype=tf.int32)\n",
    "\n",
    "  # Make prediction\n",
    "  my_pred = cofi_model(user_id)\n",
    "\n",
    "  # Convert to Numpy and restore the mean\n",
    "  my_pred = my_pred.numpy()\n",
    "  my_pred = my_pred + Y_mean\n",
    "  my_pred = tf.reshape(my_pred, (-1))\n",
    "\n",
    "  # sort predictions\n",
    "  sorted_index = np.argsort(-my_pred, axis=0).reshape(-1)\n",
    "\n",
    "  return sorted_index, my_pred\n",
    "\n",
    "# Print recommendations\n",
    "def print_recommendations(sorted_index, my_pred, num_recom):\n",
    "  for i, tourist_spots_idx in enumerate(sorted_index):\n",
    "    if i == num_recom:\n",
    "      break\n",
    "    j = tourist_spots_idx\n",
    "    print(f'Predicting rating {my_pred[j]:0.2f} for {tourism_df.loc[j, \"Place_Name\"]}')"
   ]
  },
  {
   "cell_type": "code",
   "execution_count": 6,
   "metadata": {},
   "outputs": [
    {
     "name": "stdout",
     "output_type": "stream",
     "text": [
      "Predicting rating 4.86 for Klenteng Jin De Yuan\n",
      "Predicting rating 4.85 for Pasar Petak Sembilan\n",
      "Predicting rating 4.84 for Desa Wisata Kelor\n",
      "Predicting rating 4.84 for Taman Kunang-Kunang\n",
      "Predicting rating 4.84 for Taman Flora Bratang Surabaya\n",
      "Predicting rating 4.74 for Skyrink - Mall Taman Anggrek\n",
      "Predicting rating 4.74 for Pelabuhan Marina\n",
      "Predicting rating 4.51 for Pantai Kesirat\n",
      "Predicting rating 4.51 for Taman Lansia\n",
      "Predicting rating 4.48 for Grojogan Watu Purbo Bangunrejo\n",
      "Predicting rating 4.43 for GPIB Immanuel Semarang (Gereja Blenduk)\n",
      "Predicting rating 4.39 for Taman Kasmaran\n",
      "Predicting rating 4.28 for Alive Museum Ancol\n",
      "Predicting rating 4.28 for Pintoe Langit Dahromo\n",
      "Predicting rating 4.26 for Kawasan Malioboro\n",
      "Predicting rating 4.26 for Goa Rancang Kencono\n",
      "Predicting rating 4.26 for Museum Gunung Merapi\n",
      "Predicting rating 4.23 for Teras Cikapundung BBWS\n",
      "Predicting rating 4.21 for Kampung Cina\n",
      "Predicting rating 4.20 for Pantai Nguluran\n"
     ]
    }
   ],
   "source": [
    "# Print 20 recommendations for user_id = 120\n",
    "user_id = 5\n",
    "num_recom = 20\n",
    "sorted_index, my_pred = get_recommendations(cofi_model, user_id)\n",
    "print_recommendations(sorted_index, my_pred, num_recom)"
   ]
  }
 ],
 "metadata": {
  "kernelspec": {
   "display_name": ".venv",
   "language": "python",
   "name": "python3"
  },
  "language_info": {
   "codemirror_mode": {
    "name": "ipython",
    "version": 3
   },
   "file_extension": ".py",
   "mimetype": "text/x-python",
   "name": "python",
   "nbconvert_exporter": "python",
   "pygments_lexer": "ipython3",
   "version": "3.11.4"
  }
 },
 "nbformat": 4,
 "nbformat_minor": 2
}
